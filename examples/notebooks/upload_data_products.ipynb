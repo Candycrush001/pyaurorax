{
 "cells": [
  {
   "cell_type": "markdown",
   "metadata": {},
   "source": [
    "# Imports"
   ]
  },
  {
   "cell_type": "code",
   "execution_count": 1,
   "metadata": {
    "scrolled": true
   },
   "outputs": [],
   "source": [
    "import aurorax\n",
    "import datetime\n",
    "import pprint\n",
    "import os\n",
    "import pandas as pd"
   ]
  },
  {
   "cell_type": "markdown",
   "metadata": {},
   "source": [
    "# Upload ephemeris data"
   ]
  },
  {
   "cell_type": "code",
   "execution_count": 2,
   "metadata": {
    "scrolled": true
   },
   "outputs": [],
   "source": [
    "# read API key from environment vars\n",
    "api_key = os.environ[\"AURORAX_API_KEY\"]"
   ]
  },
  {
   "cell_type": "code",
   "execution_count": 3,
   "metadata": {
    "scrolled": true
   },
   "outputs": [],
   "source": [
    "# set values\n",
    "program = \"notebook-program\"\n",
    "platform = \"notebook-platform\"\n",
    "instrument_type = \"notebook-instrument-type\"\n",
    "data_product_type = \"keogram\"\n",
    "url = \"https://data.aurorax.space/test-url.jpg\"\n",
    "metadata = {\n",
    "    \"test_meta1\": \"testing1\",\n",
    "    \"test_meta2\": \"testing2\",\n",
    "}\n",
    "start_dt = datetime.datetime(2020, 1, 1, 0, 0)\n",
    "end_dt = datetime.datetime(2020, 1, 1, 0, 59)"
   ]
  },
  {
   "cell_type": "code",
   "execution_count": 4,
   "metadata": {
    "scrolled": true
   },
   "outputs": [
    {
     "name": "stdout",
     "output_type": "stream",
     "text": [
      "Identifier: 356\n"
     ]
    }
   ],
   "source": [
    "# get the ephemeris source ID\n",
    "source = aurorax.sources.get_using_filters(program=[program],\n",
    "                                           platform=[platform],\n",
    "                                           instrument_type=[instrument_type])\n",
    "identifier = source[\"data\"][0][\"identifier\"]\n",
    "print(\"Identifier: %d\" % (identifier))"
   ]
  },
  {
   "cell_type": "code",
   "execution_count": 5,
   "metadata": {
    "scrolled": true
   },
   "outputs": [
    {
     "name": "stdout",
     "output_type": "stream",
     "text": [
      "{'data_product_type': 'keogram',\n",
      " 'end_dt': datetime.datetime(2020, 1, 1, 0, 59),\n",
      " 'identifier': 356,\n",
      " 'instrument_type': 'notebook-instrument-type',\n",
      " 'metadata': {'test_meta1': 'testing1', 'test_meta2': 'testing2'},\n",
      " 'platform': 'notebook-platform',\n",
      " 'program': 'notebook-program',\n",
      " 'start_dt': datetime.datetime(2020, 1, 1, 0, 0),\n",
      " 'url': 'https://data.aurorax.space/test-url.jpg'}\n"
     ]
    }
   ],
   "source": [
    "# create DataProduct object\n",
    "e = aurorax.data_products.DataProduct(identifier,\n",
    "                                      program,\n",
    "                                      platform,\n",
    "                                      instrument_type,\n",
    "                                      start_dt,\n",
    "                                      end_dt,\n",
    "                                      url,\n",
    "                                      data_product_type,\n",
    "                                      metadata)\n",
    "pprint.pprint(e)"
   ]
  },
  {
   "cell_type": "code",
   "execution_count": 6,
   "metadata": {
    "scrolled": true
   },
   "outputs": [],
   "source": [
    "# set records array\n",
    "#\n",
    "# we do this because you can upload multiple ephemeris records, so the \n",
    "# standard object being passed to the upload function is a list\n",
    "records = []\n",
    "records.append(e)"
   ]
  },
  {
   "cell_type": "code",
   "execution_count": 7,
   "metadata": {
    "scrolled": true
   },
   "outputs": [],
   "source": [
    "# upload record\n",
    "res = aurorax.data_products.upload(api_key, identifier, records=records)"
   ]
  },
  {
   "cell_type": "code",
   "execution_count": 8,
   "metadata": {
    "scrolled": true
   },
   "outputs": [
    {
     "name": "stdout",
     "output_type": "stream",
     "text": [
      "Successfully uploaded\n"
     ]
    }
   ],
   "source": [
    "# check the response to see if the upload succeeded\n",
    "if (res[\"status_code\"] == 202):\n",
    "    print(\"Successfully uploaded\")\n",
    "else:\n",
    "    print(\"Failed to upload\")\n",
    "    pprint.pprint(res)"
   ]
  },
  {
   "cell_type": "markdown",
   "metadata": {},
   "source": [
    "# Check that the data was uploaded by retrieving it"
   ]
  },
  {
   "cell_type": "code",
   "execution_count": 11,
   "metadata": {
    "scrolled": true
   },
   "outputs": [
    {
     "name": "stdout",
     "output_type": "stream",
     "text": [
      "[2020-11-23 00:51:56.009296] Search object created\n",
      "[2020-11-23 00:51:58.387732] Request submitted\n",
      "[2020-11-23 00:51:58.388609] Request ID: 80e7d5d1-dbbd-4be2-bf6d-9add2a37d550\n",
      "[2020-11-23 00:51:58.389086] Request details available at: http://api.staging.aurorax.space/api/v1/data_products/requests/80e7d5d1-dbbd-4be2-bf6d-9add2a37d550\n",
      "[2020-11-23 00:51:58.439803] Checking for data ...\n",
      "[2020-11-23 00:52:00.805610] Request has data available, retrieving it ...\n",
      "[2020-11-23 00:52:00.849635] Retrieved 5 Bytes of data containing 0 records, completed search request\n"
     ]
    }
   ],
   "source": [
    "# set values\n",
    "programs = [program]\n",
    "platforms = [platform]\n",
    "instrument_types = [instrument_type]\n",
    "data_product_types = [data_product_type]\n",
    "\n",
    "# perform search\n",
    "s = aurorax.data_products.search(start_dt,\n",
    "                                 end_dt,\n",
    "                                 programs=programs,\n",
    "                                 platforms=platforms,\n",
    "                                 instrument_types=instrument_types,\n",
    "                                 data_product_types=data_product_types,\n",
    "                                 show_progress=True)"
   ]
  },
  {
   "cell_type": "code",
   "execution_count": null,
   "metadata": {
    "scrolled": true
   },
   "outputs": [],
   "source": [
    "# show data as a pandas dataframe\n",
    "df = pd.DataFrame(s[\"data\"])\n",
    "df"
   ]
  }
 ],
 "metadata": {
  "kernelspec": {
   "display_name": "Python 3",
   "language": "python",
   "name": "python3"
  },
  "language_info": {
   "codemirror_mode": {
    "name": "ipython",
    "version": 3
   },
   "file_extension": ".py",
   "mimetype": "text/x-python",
   "name": "python",
   "nbconvert_exporter": "python",
   "pygments_lexer": "ipython3",
   "version": "3.8.5"
  }
 },
 "nbformat": 4,
 "nbformat_minor": 4
}
