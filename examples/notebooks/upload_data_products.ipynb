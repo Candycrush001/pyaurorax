{
 "cells": [
  {
   "cell_type": "markdown",
   "id": "279cf5bf",
   "metadata": {},
   "source": [
    "# Imports"
   ]
  },
  {
   "cell_type": "code",
   "execution_count": 1,
   "id": "c7057165",
   "metadata": {},
   "outputs": [],
   "source": [
    "import aurorax\n",
    "import datetime\n",
    "import pprint\n",
    "import os\n",
    "import pandas as pd"
   ]
  },
  {
   "cell_type": "markdown",
   "id": "9aa8bcfb",
   "metadata": {},
   "source": [
    "# Upload ephemeris data"
   ]
  },
  {
   "cell_type": "code",
   "execution_count": 5,
   "id": "23658a22",
   "metadata": {},
   "outputs": [],
   "source": [
    "# read API key from environment vars\n",
    "api_key = os.environ[\"AURORAX_API_KEY\"]\n",
    "aurorax.authenticate(api_key)"
   ]
  },
  {
   "cell_type": "code",
   "execution_count": 6,
   "id": "b8b4b6ca",
   "metadata": {},
   "outputs": [],
   "source": [
    "# set values\n",
    "program = \"notebook-program\"\n",
    "platform = \"notebook-platform\"\n",
    "instrument_type = \"notebook-instrument-type\"\n",
    "metadata = {\n",
    "    \"dp_meta1\": \"testing1\",\n",
    "    \"dp_meta2\": \"testing2\"\n",
    "}\n",
    "start_dt = datetime.datetime(2020, 1, 1, 0, 0, 0)\n",
    "end_dt = start_dt.replace(hour=23, minute=59, second=59)\n",
    "data_product_type = \"keogram\"\n",
    "url = \"notebook_testing.jpg\""
   ]
  },
  {
   "cell_type": "code",
   "execution_count": 8,
   "id": "277b5c31",
   "metadata": {},
   "outputs": [
    {
     "name": "stdout",
     "output_type": "stream",
     "text": [
      "Identified: 130\n"
     ]
    }
   ],
   "source": [
    "# get the ephemeris source\n",
    "source = aurorax.sources.get(program,\n",
    "                            platform,\n",
    "                            instrument_type)\n",
    "identifier = source.identifier\n",
    "print(\"Identified: %d\" % (identifier))"
   ]
  },
  {
   "cell_type": "code",
   "execution_count": 9,
   "id": "5905a184",
   "metadata": {},
   "outputs": [
    {
     "name": "stdout",
     "output_type": "stream",
     "text": [
      "{'data_product_type': 'keogram',\n",
      " 'data_source': {'data_product_metadata_schema': [],\n",
      " 'display_name': 'Test Instrument',\n",
      " 'ephemeris_metadata_schema': [],\n",
      " 'identifier': 130,\n",
      " 'instrument_type': 'notebook-instrument-type',\n",
      " 'maintainers': [],\n",
      " 'metadata': {},\n",
      " 'owner': None,\n",
      " 'platform': 'notebook-platform',\n",
      " 'program': 'notebook-program',\n",
      " 'source_type': 'ground'},\n",
      " 'end': datetime.datetime(2020, 1, 1, 23, 59, 59),\n",
      " 'metadata': {'dp_meta1': 'testing1', 'dp_meta2': 'testing2'},\n",
      " 'start': datetime.datetime(2020, 1, 1, 0, 0),\n",
      " 'url': 'notebook_testing.jpg'}\n"
     ]
    }
   ],
   "source": [
    "# create data product object\n",
    "dp = aurorax.data_products.DataProduct(data_source=source,\n",
    "                                      data_product_type=data_product_type,\n",
    "                                      start=start_dt,\n",
    "                                      end=end_dt,\n",
    "                                      url=url,\n",
    "                                      metadata=metadata)\n",
    "pprint.pprint(dp)"
   ]
  },
  {
   "cell_type": "code",
   "execution_count": 10,
   "id": "72a7118f",
   "metadata": {},
   "outputs": [],
   "source": [
    "# set records array\n",
    "#\n",
    "# we do this because you can upload multiple ephemeris records, so the \n",
    "# standard object being passed to the upload function is a list\n",
    "records = []\n",
    "records.append(dp)"
   ]
  },
  {
   "cell_type": "code",
   "execution_count": 11,
   "id": "a4debca6",
   "metadata": {},
   "outputs": [],
   "source": [
    "# upload record\n",
    "try:\n",
    "    aurorax.data_products.upload(identifier, records)\n",
    "except aurorax.AuroraXException as e:\n",
    "    print(\"Error uploading: %s\" % (str(e)))"
   ]
  },
  {
   "cell_type": "markdown",
   "id": "b5fd9d06",
   "metadata": {},
   "source": [
    "# Check that the data was uploaded by retrieving it"
   ]
  },
  {
   "cell_type": "code",
   "execution_count": 12,
   "id": "a1033d89",
   "metadata": {},
   "outputs": [],
   "source": [
    "# perform search\n",
    "s = aurorax.data_products.search(start_dt,\n",
    "                                end_dt,\n",
    "                                programs=[program],\n",
    "                                platforms=[platform],\n",
    "                                instrument_types=[instrument_type])"
   ]
  },
  {
   "cell_type": "code",
   "execution_count": 13,
   "id": "d1ce384b",
   "metadata": {},
   "outputs": [
    {
     "data": {
      "text/html": [
       "<div>\n",
       "<style scoped>\n",
       "    .dataframe tbody tr th:only-of-type {\n",
       "        vertical-align: middle;\n",
       "    }\n",
       "\n",
       "    .dataframe tbody tr th {\n",
       "        vertical-align: top;\n",
       "    }\n",
       "\n",
       "    .dataframe thead th {\n",
       "        text-align: right;\n",
       "    }\n",
       "</style>\n",
       "<table border=\"1\" class=\"dataframe\">\n",
       "  <thead>\n",
       "    <tr style=\"text-align: right;\">\n",
       "      <th></th>\n",
       "      <th>data_source</th>\n",
       "      <th>data_product_type</th>\n",
       "      <th>start</th>\n",
       "      <th>end</th>\n",
       "      <th>url</th>\n",
       "      <th>metadata</th>\n",
       "    </tr>\n",
       "  </thead>\n",
       "  <tbody>\n",
       "    <tr>\n",
       "      <th>0</th>\n",
       "      <td>{'data_product_metadata_schema': [],\\n 'displa...</td>\n",
       "      <td>keogram</td>\n",
       "      <td>2020-01-01</td>\n",
       "      <td>2020-01-01 23:59:00</td>\n",
       "      <td>notebook_testing.jpg</td>\n",
       "      <td>{'dp_meta1': 'testing1', 'dp_meta2': 'testing2'}</td>\n",
       "    </tr>\n",
       "  </tbody>\n",
       "</table>\n",
       "</div>"
      ],
      "text/plain": [
       "                                         data_source data_product_type  \\\n",
       "0  {'data_product_metadata_schema': [],\\n 'displa...           keogram   \n",
       "\n",
       "       start                 end                   url  \\\n",
       "0 2020-01-01 2020-01-01 23:59:00  notebook_testing.jpg   \n",
       "\n",
       "                                           metadata  \n",
       "0  {'dp_meta1': 'testing1', 'dp_meta2': 'testing2'}  "
      ]
     },
     "execution_count": 13,
     "metadata": {},
     "output_type": "execute_result"
    }
   ],
   "source": [
    "# show data as a pandas dataframe\n",
    "data_products = [dp.__dict__ for dp in s.data]\n",
    "df = pd.DataFrame(data_products)\n",
    "df"
   ]
  },
  {
   "cell_type": "code",
   "execution_count": null,
   "id": "b8cad978",
   "metadata": {},
   "outputs": [],
   "source": []
  }
 ],
 "metadata": {
  "kernelspec": {
   "display_name": "Python 3",
   "language": "python",
   "name": "python3"
  },
  "language_info": {
   "codemirror_mode": {
    "name": "ipython",
    "version": 3
   },
   "file_extension": ".py",
   "mimetype": "text/x-python",
   "name": "python",
   "nbconvert_exporter": "python",
   "pygments_lexer": "ipython3",
   "version": "3.9.5"
  }
 },
 "nbformat": 4,
 "nbformat_minor": 5
}
