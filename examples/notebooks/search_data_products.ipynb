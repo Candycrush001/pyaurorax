{
 "cells": [
  {
   "cell_type": "markdown",
   "metadata": {},
   "source": [
    "# Imports"
   ]
  },
  {
   "cell_type": "code",
   "execution_count": 1,
   "metadata": {},
   "outputs": [],
   "source": [
    "import aurorax\n",
    "import datetime\n",
    "import pandas as pd\n",
    "import pprint"
   ]
  },
  {
   "cell_type": "markdown",
   "metadata": {},
   "source": [
    "# Search"
   ]
  },
  {
   "cell_type": "code",
   "execution_count": 4,
   "metadata": {},
   "outputs": [],
   "source": [
    "# set values\n",
    "start_dt = datetime.datetime(2019, 1, 1, 0, 0, 0)\n",
    "end_dt = datetime.datetime(2019, 1, 1, 23, 59, 59)\n",
    "programs = [\"themis-asi\"]\n",
    "platforms = [\"gillam\"]\n",
    "instrument_types = [\"panchromatic ASI\"]\n",
    "data_product_types = [\"keogram\"]"
   ]
  },
  {
   "cell_type": "code",
   "execution_count": 5,
   "metadata": {},
   "outputs": [
    {
     "name": "stdout",
     "output_type": "stream",
     "text": [
      "[2020-11-23 00:16:12.314559] Search object created\n",
      "[2020-11-23 00:16:12.356826] Request submitted\n",
      "[2020-11-23 00:16:12.357169] Request ID: 4c22fd63-3a11-4392-a80e-16ef6c5177bb\n",
      "[2020-11-23 00:16:12.357372] Request details available at: http://api.staging.aurorax.space/api/v1/data_products/requests/4c22fd63-3a11-4392-a80e-16ef6c5177bb\n",
      "[2020-11-23 00:16:12.407903] Checking for data ...\n",
      "[2020-11-23 00:16:12.458478] Request has data available, retrieving it ...\n",
      "[2020-11-23 00:16:12.501985] Retrieved 5 Bytes of data containing 0 records, completed search request\n"
     ]
    }
   ],
   "source": [
    "# perform search\n",
    "s = aurorax.data_products.search(start_dt,\n",
    "                                 end_dt,\n",
    "                                 programs=programs,\n",
    "                                 platforms=platforms,\n",
    "                                 instrument_types=instrument_types,\n",
    "                                 data_product_types=data_product_types,\n",
    "                                 show_progress=True)"
   ]
  },
  {
   "cell_type": "code",
   "execution_count": null,
   "metadata": {},
   "outputs": [],
   "source": [
    "# output data as a pandas dataframe\n",
    "df = pd.DataFrame(s[\"data\"])\n",
    "df.sort_values(\"epoch\")  # sort by the timestamp"
   ]
  },
  {
   "cell_type": "markdown",
   "metadata": {},
   "source": [
    "# Do the search asynchonously\n",
    "\n",
    "Under the hood a data products search is asynchronous. This adds some more complexity for the user, but also opens the search up to some additional possibilities. The main advantage is being able to perform queries for a large timeframe. These queries will take a bit longer and could exceed several minutes and more than a gigabyte of data. Separating the request and the resulting data into two different API calls allows flexibility in duration and size of the overall request."
   ]
  },
  {
   "cell_type": "code",
   "execution_count": 7,
   "metadata": {},
   "outputs": [
    {
     "name": "stdout",
     "output_type": "stream",
     "text": [
      "{'data': [],\n",
      " 'data_available': False,\n",
      " 'data_product_types': ['keogram'],\n",
      " 'data_url': '',\n",
      " 'end_dt': datetime.datetime(2019, 1, 1, 23, 59, 59),\n",
      " 'executed': False,\n",
      " 'instrument_types': ['panchromatic ASI'],\n",
      " 'logs': [],\n",
      " 'metadata_filters': [],\n",
      " 'platforms': ['gillam'],\n",
      " 'programs': ['themis-asi'],\n",
      " 'query': {},\n",
      " 'request': None,\n",
      " 'request_id': '',\n",
      " 'request_url': '',\n",
      " 'start_dt': datetime.datetime(2019, 1, 1, 0, 0),\n",
      " 'status': {}}\n"
     ]
    }
   ],
   "source": [
    "# set up the request\n",
    "s = aurorax.data_products.Search(start_dt,\n",
    "                                 end_dt,\n",
    "                                 programs=programs,\n",
    "                                 platforms=platforms,\n",
    "                                 instrument_types=instrument_types,\n",
    "                                 data_product_types=data_product_types)\n",
    "print(s)"
   ]
  },
  {
   "cell_type": "code",
   "execution_count": 8,
   "metadata": {},
   "outputs": [
    {
     "name": "stdout",
     "output_type": "stream",
     "text": [
      "{'data': [],\n",
      " 'data_available': False,\n",
      " 'data_product_types': ['keogram'],\n",
      " 'data_url': '',\n",
      " 'end_dt': datetime.datetime(2019, 1, 1, 23, 59, 59),\n",
      " 'executed': True,\n",
      " 'instrument_types': ['panchromatic ASI'],\n",
      " 'logs': [],\n",
      " 'metadata_filters': [],\n",
      " 'platforms': ['gillam'],\n",
      " 'programs': ['themis-asi'],\n",
      " 'query': {'data_product_type_filters': ['keogram'],\n",
      "           'data_sources': {'data_product_metadata_filters': [],\n",
      "                            'instrument_types': ['panchromatic ASI'],\n",
      "                            'platforms': ['gillam'],\n",
      "                            'programs': ['themis-asi']},\n",
      "           'end': '2019-01-01T23:59:59',\n",
      "           'start': '2019-01-01T00:00:00'},\n",
      " 'request': <AuroraXResponse [202]>,\n",
      " 'request_id': 'c05d0f64-7d7d-499c-bfb4-539765889c2e',\n",
      " 'request_url': 'http://api.staging.aurorax.space/api/v1/data_products/requests/c05d0f64-7d7d-499c-bfb4-539765889c2e',\n",
      " 'start_dt': datetime.datetime(2019, 1, 1, 0, 0),\n",
      " 'status': {}}\n"
     ]
    }
   ],
   "source": [
    "# execute the search\n",
    "s.execute()\n",
    "print(s)"
   ]
  },
  {
   "cell_type": "code",
   "execution_count": 10,
   "metadata": {},
   "outputs": [
    {
     "name": "stdout",
     "output_type": "stream",
     "text": [
      "{'data': {'logs': [{'level': 'debug',\n",
      "                    'summary': 'Search request arrived',\n",
      "                    'timestamp': '2020-11-23T00:17:24.116308Z'},\n",
      "                   {'level': 'info',\n",
      "                    'summary': 'Starting query for '\n",
      "                               'c05d0f64-7d7d-499c-bfb4-539765889c2e',\n",
      "                    'timestamp': '2020-11-23T00:17:24.118694Z'},\n",
      "                   {'level': 'info',\n",
      "                    'summary': 'Finished query in 0.00 seconds.',\n",
      "                    'timestamp': '2020-11-23T00:17:24.121918Z'},\n",
      "                   {'level': 'debug',\n",
      "                    'summary': 'Starting to write data to file',\n",
      "                    'timestamp': '2020-11-23T00:17:24.124773Z'},\n",
      "                   {'level': 'info',\n",
      "                    'summary': 'Finished writing data, found 0 records in 0.00 '\n",
      "                               'seconds.',\n",
      "                    'timestamp': '2020-11-23T00:17:24.126991Z'},\n",
      "                   {'level': 'debug',\n",
      "                    'summary': 'File size is 5 bytes.',\n",
      "                    'timestamp': '2020-11-23T00:17:24.128741Z'},\n",
      "                   {'level': 'info',\n",
      "                    'summary': 'Finished search in 0.01 seconds and found 0 '\n",
      "                               'records.',\n",
      "                    'timestamp': '2020-11-23T00:17:24.131778Z'}],\n",
      "          'search_request': {'query': {'data_product_type_filters': ['keogram'],\n",
      "                                       'data_sources': {'data_product_metadata_filters': [],\n",
      "                                                        'instrument_types': ['panchromatic '\n",
      "                                                                             'ASI'],\n",
      "                                                        'platforms': ['gillam'],\n",
      "                                                        'programs': ['themis-asi']},\n",
      "                                       'end': '2019-01-01T23:59:59',\n",
      "                                       'start': '2019-01-01T00:00:00'},\n",
      "                             'request_id': 'c05d0f64-7d7d-499c-bfb4-539765889c2e',\n",
      "                             'request_type': 'data_product',\n",
      "                             'requested': '2020-11-23T00:17:24.111612Z',\n",
      "                             'user_uuid': None},\n",
      "          'search_result': {'completed_timestamp': '2020-11-23T00:17:24.130317Z',\n",
      "                            'data_uri': '/api/v1/data_products/requests/c05d0f64-7d7d-499c-bfb4-539765889c2e/data',\n",
      "                            'error_condition': False,\n",
      "                            'expiration_timestamp': '2020-11-28T00:17:24.129447Z',\n",
      "                            'file_size': 5,\n",
      "                            'query_duration': 12,\n",
      "                            'result_count': 0,\n",
      "                            'result_file_deleted_timestamp': None}},\n",
      " 'request_status': {'completed': True,\n",
      "                    'data_url': 'http://api.staging.aurorax.space/api/v1/data_products/requests/c05d0f64-7d7d-499c-bfb4-539765889c2e/data'},\n",
      " 'status_code': 200}\n"
     ]
    }
   ],
   "source": [
    "# get request status\n",
    "status = aurorax.data_products.get_request_status(s.request_id)\n",
    "pprint.pprint(status)"
   ]
  },
  {
   "cell_type": "code",
   "execution_count": 11,
   "metadata": {},
   "outputs": [
    {
     "name": "stdout",
     "output_type": "stream",
     "text": [
      "{'data': [{'level': 'debug',\n",
      "           'summary': 'Search request arrived',\n",
      "           'timestamp': '2020-11-23T00:17:24.116308Z'},\n",
      "          {'level': 'info',\n",
      "           'summary': 'Starting query for c05d0f64-7d7d-499c-bfb4-539765889c2e',\n",
      "           'timestamp': '2020-11-23T00:17:24.118694Z'},\n",
      "          {'level': 'info',\n",
      "           'summary': 'Finished query in 0.00 seconds.',\n",
      "           'timestamp': '2020-11-23T00:17:24.121918Z'},\n",
      "          {'level': 'debug',\n",
      "           'summary': 'Starting to write data to file',\n",
      "           'timestamp': '2020-11-23T00:17:24.124773Z'},\n",
      "          {'level': 'info',\n",
      "           'summary': 'Finished writing data, found 0 records in 0.00 seconds.',\n",
      "           'timestamp': '2020-11-23T00:17:24.126991Z'},\n",
      "          {'level': 'debug',\n",
      "           'summary': 'File size is 5 bytes.',\n",
      "           'timestamp': '2020-11-23T00:17:24.128741Z'},\n",
      "          {'level': 'info',\n",
      "           'summary': 'Finished search in 0.01 seconds and found 0 records.',\n",
      "           'timestamp': '2020-11-23T00:17:24.131778Z'}],\n",
      " 'status_code': 200}\n"
     ]
    }
   ],
   "source": [
    "# just retrieve the logs for the request\n",
    "logs = aurorax.data_products.get_request_logs(s.request_id)\n",
    "pprint.pprint(logs)"
   ]
  },
  {
   "cell_type": "code",
   "execution_count": 12,
   "metadata": {},
   "outputs": [],
   "source": [
    "# wait for the data\n",
    "s.wait()\n",
    "s.update_status()"
   ]
  },
  {
   "cell_type": "code",
   "execution_count": null,
   "metadata": {},
   "outputs": [],
   "source": [
    "# get data\n",
    "s.get_data()\n",
    "\n",
    "# show data as pandas dataframe\n",
    "df = pd.DataFrame(s.data)\n",
    "df.sort_values(\"epoch\")  # sort by the timestamp"
   ]
  }
 ],
 "metadata": {
  "kernelspec": {
   "display_name": "Python 3",
   "language": "python",
   "name": "python3"
  },
  "language_info": {
   "codemirror_mode": {
    "name": "ipython",
    "version": 3
   },
   "file_extension": ".py",
   "mimetype": "text/x-python",
   "name": "python",
   "nbconvert_exporter": "python",
   "pygments_lexer": "ipython3",
   "version": "3.8.5"
  }
 },
 "nbformat": 4,
 "nbformat_minor": 4
}
