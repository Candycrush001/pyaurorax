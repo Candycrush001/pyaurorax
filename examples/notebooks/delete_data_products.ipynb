{
 "cells": [
  {
   "cell_type": "markdown",
   "id": "27312c82",
   "metadata": {},
   "source": [
    "# Imports"
   ]
  },
  {
   "cell_type": "code",
   "execution_count": 1,
   "id": "dfe7caad",
   "metadata": {},
   "outputs": [],
   "source": [
    "import aurorax\n",
    "import datetime\n",
    "import pprint\n",
    "import os\n",
    "import pandas as pd\n",
    "import time"
   ]
  },
  {
   "cell_type": "markdown",
   "id": "88dc0ea8",
   "metadata": {},
   "source": [
    "# Create data product records to demonstrate deleting them"
   ]
  },
  {
   "cell_type": "code",
   "execution_count": 2,
   "id": "c669677e",
   "metadata": {},
   "outputs": [],
   "source": [
    "# read API key from environment vars\n",
    "api_key = os.environ[\"AURORAX_API_KEY\"]\n",
    "aurorax.authenticate(api_key)\n",
    "aurorax.api.set_base_url(\"https://api.staging.aurorax.space\")"
   ]
  },
  {
   "cell_type": "code",
   "execution_count": 3,
   "id": "1ed1cbbd",
   "metadata": {},
   "outputs": [],
   "source": [
    "# set values\n",
    "program = \"notebook-program\"\n",
    "platform = \"notebook-platform\"\n",
    "instrument_type = \"notebook-instrument-type\"\n",
    "\n",
    "# get the data source ID\n",
    "ds = aurorax.sources.get(program, platform, instrument_type)\n",
    "\n",
    "# create first DataProduct object\n",
    "dp1 = aurorax.data_products.DataProduct(data_source=ds,\n",
    "                                      data_product_type=\"keogram\",\n",
    "                                      url=\"dp1.jpg\",\n",
    "                                      start=datetime.datetime(2020, 1, 1, 0, 0, 0),\n",
    "                                      end=datetime.datetime(2020, 1, 1, 23, 59, 59),\n",
    "                                      metadata={\n",
    "                                          \"test_key\": True\n",
    "                                      })\n",
    "\n",
    "# create second DataProduct object\n",
    "dp2 = aurorax.data_products.DataProduct(data_source=ds,\n",
    "                                      data_product_type=\"keogram\",\n",
    "                                      url=\"dp2.jpg\",\n",
    "                                      start=datetime.datetime(2020, 1, 2, 0, 0, 0),\n",
    "                                      end=datetime.datetime(2020, 1, 2, 23, 59, 59),\n",
    "                                      metadata={\n",
    "                                          \"test_key\": False\n",
    "                                      })\n",
    "\n",
    "# create third DataProduct object\n",
    "dp3 = aurorax.data_products.DataProduct(data_source=ds,\n",
    "                                      data_product_type=\"keogram\",\n",
    "                                      url=\"dp3.jpg\",\n",
    "                                      start=datetime.datetime(2020, 1, 3, 0, 0, 0),\n",
    "                                      end=datetime.datetime(2020, 1, 3, 23, 59, 59),\n",
    "                                      metadata={\n",
    "                                          \"test_key\": True\n",
    "                                      })\n",
    "\n",
    "# create fourth DataProduct object\n",
    "dp4 = aurorax.data_products.DataProduct(data_source=ds,\n",
    "                                      data_product_type=\"movie\",\n",
    "                                      url=\"dp4.jpg\",\n",
    "                                      start=datetime.datetime(2020, 1, 1, 0, 0, 0),\n",
    "                                      end=datetime.datetime(2020, 1, 1, 23, 59, 59),\n",
    "                                      metadata={\n",
    "                                          \"test_key\": True\n",
    "                                      })\n",
    "\n",
    "# create fifth DataProduct object\n",
    "dp5 = aurorax.data_products.DataProduct(data_source=ds,\n",
    "                                      data_product_type=\"movie\",\n",
    "                                      url=\"dp5.jpg\",\n",
    "                                      start=datetime.datetime(2020, 1, 2, 0, 0, 0),\n",
    "                                      end=datetime.datetime(2020, 1, 2, 23, 59, 59),\n",
    "                                      metadata={\n",
    "                                          \"test_key\": False\n",
    "                                      })\n",
    "\n",
    "# create sixth DataProduct object\n",
    "dp6 = aurorax.data_products.DataProduct(data_source=ds,\n",
    "                                      data_product_type=\"movie\",\n",
    "                                      url=\"dp6.jpg\",\n",
    "                                      start=datetime.datetime(2020, 1, 3, 0, 0, 0),\n",
    "                                      end=datetime.datetime(2020, 1, 3, 23, 59, 59),\n",
    "                                      metadata={\n",
    "                                          \"test_key\": False\n",
    "                                      })"
   ]
  },
  {
   "cell_type": "code",
   "execution_count": 4,
   "id": "3ddc70ed",
   "metadata": {},
   "outputs": [
    {
     "data": {
      "text/plain": [
       "1"
      ]
     },
     "execution_count": 4,
     "metadata": {},
     "output_type": "execute_result"
    }
   ],
   "source": [
    "# set records array\n",
    "records = [dp1, dp2, dp3, dp4, dp5, dp6]\n",
    "\n",
    "# upload records\n",
    "aurorax.data_products.upload(ds.identifier, records, True)"
   ]
  },
  {
   "cell_type": "code",
   "execution_count": 5,
   "id": "4caa4881",
   "metadata": {},
   "outputs": [
    {
     "data": {
      "text/html": [
       "<div>\n",
       "<style scoped>\n",
       "    .dataframe tbody tr th:only-of-type {\n",
       "        vertical-align: middle;\n",
       "    }\n",
       "\n",
       "    .dataframe tbody tr th {\n",
       "        vertical-align: top;\n",
       "    }\n",
       "\n",
       "    .dataframe thead th {\n",
       "        text-align: right;\n",
       "    }\n",
       "</style>\n",
       "<table border=\"1\" class=\"dataframe\">\n",
       "  <thead>\n",
       "    <tr style=\"text-align: right;\">\n",
       "      <th></th>\n",
       "      <th>data_source</th>\n",
       "      <th>data_product_type</th>\n",
       "      <th>start</th>\n",
       "      <th>end</th>\n",
       "      <th>url</th>\n",
       "      <th>metadata</th>\n",
       "    </tr>\n",
       "  </thead>\n",
       "  <tbody>\n",
       "    <tr>\n",
       "      <th>0</th>\n",
       "      <td>{'data_product_metadata_schema': [],\\n 'displa...</td>\n",
       "      <td>keogram</td>\n",
       "      <td>2020-01-01</td>\n",
       "      <td>2020-01-01 23:59:00</td>\n",
       "      <td>dp1.jpg</td>\n",
       "      <td>{'test_key': True}</td>\n",
       "    </tr>\n",
       "    <tr>\n",
       "      <th>1</th>\n",
       "      <td>{'data_product_metadata_schema': [],\\n 'displa...</td>\n",
       "      <td>movie</td>\n",
       "      <td>2020-01-01</td>\n",
       "      <td>2020-01-01 23:59:00</td>\n",
       "      <td>dp4.jpg</td>\n",
       "      <td>{'test_key': True}</td>\n",
       "    </tr>\n",
       "    <tr>\n",
       "      <th>2</th>\n",
       "      <td>{'data_product_metadata_schema': [],\\n 'displa...</td>\n",
       "      <td>keogram</td>\n",
       "      <td>2020-01-02</td>\n",
       "      <td>2020-01-02 23:59:00</td>\n",
       "      <td>dp2.jpg</td>\n",
       "      <td>{'test_key': False}</td>\n",
       "    </tr>\n",
       "    <tr>\n",
       "      <th>3</th>\n",
       "      <td>{'data_product_metadata_schema': [],\\n 'displa...</td>\n",
       "      <td>movie</td>\n",
       "      <td>2020-01-02</td>\n",
       "      <td>2020-01-02 23:59:00</td>\n",
       "      <td>dp5.jpg</td>\n",
       "      <td>{'test_key': False}</td>\n",
       "    </tr>\n",
       "    <tr>\n",
       "      <th>4</th>\n",
       "      <td>{'data_product_metadata_schema': [],\\n 'displa...</td>\n",
       "      <td>keogram</td>\n",
       "      <td>2020-01-03</td>\n",
       "      <td>2020-01-03 23:59:00</td>\n",
       "      <td>dp3.jpg</td>\n",
       "      <td>{'test_key': True}</td>\n",
       "    </tr>\n",
       "    <tr>\n",
       "      <th>5</th>\n",
       "      <td>{'data_product_metadata_schema': [],\\n 'displa...</td>\n",
       "      <td>movie</td>\n",
       "      <td>2020-01-03</td>\n",
       "      <td>2020-01-03 23:59:00</td>\n",
       "      <td>dp6.jpg</td>\n",
       "      <td>{'test_key': False}</td>\n",
       "    </tr>\n",
       "  </tbody>\n",
       "</table>\n",
       "</div>"
      ],
      "text/plain": [
       "                                         data_source data_product_type  \\\n",
       "0  {'data_product_metadata_schema': [],\\n 'displa...           keogram   \n",
       "1  {'data_product_metadata_schema': [],\\n 'displa...             movie   \n",
       "2  {'data_product_metadata_schema': [],\\n 'displa...           keogram   \n",
       "3  {'data_product_metadata_schema': [],\\n 'displa...             movie   \n",
       "4  {'data_product_metadata_schema': [],\\n 'displa...           keogram   \n",
       "5  {'data_product_metadata_schema': [],\\n 'displa...             movie   \n",
       "\n",
       "       start                 end      url             metadata  \n",
       "0 2020-01-01 2020-01-01 23:59:00  dp1.jpg   {'test_key': True}  \n",
       "1 2020-01-01 2020-01-01 23:59:00  dp4.jpg   {'test_key': True}  \n",
       "2 2020-01-02 2020-01-02 23:59:00  dp2.jpg  {'test_key': False}  \n",
       "3 2020-01-02 2020-01-02 23:59:00  dp5.jpg  {'test_key': False}  \n",
       "4 2020-01-03 2020-01-03 23:59:00  dp3.jpg   {'test_key': True}  \n",
       "5 2020-01-03 2020-01-03 23:59:00  dp6.jpg  {'test_key': False}  "
      ]
     },
     "execution_count": 5,
     "metadata": {},
     "output_type": "execute_result"
    }
   ],
   "source": [
    "# retrieve uploaded record\n",
    "s = aurorax.data_products.search(datetime.datetime(2020, 1, 1, 0, 0, 0),\n",
    "                                 datetime.datetime(2020, 1, 3, 23, 59, 59),\n",
    "                                 programs=[\"notebook-program\"],\n",
    "                                 platforms=[\"notebook-platform\"],\n",
    "                                 instrument_types=[\"notebook-instrument-type\"])\n",
    "\n",
    "# show data as a pandas dataframe\n",
    "data_product_data = [dp.__dict__ for dp in s.data]\n",
    "df = pd.DataFrame(data_product_data)\n",
    "df"
   ]
  },
  {
   "cell_type": "markdown",
   "id": "7d95cf6d",
   "metadata": {},
   "source": [
    "# Delete data products by URL"
   ]
  },
  {
   "cell_type": "code",
   "execution_count": 6,
   "id": "fd22325a",
   "metadata": {},
   "outputs": [
    {
     "data": {
      "text/html": [
       "<div>\n",
       "<style scoped>\n",
       "    .dataframe tbody tr th:only-of-type {\n",
       "        vertical-align: middle;\n",
       "    }\n",
       "\n",
       "    .dataframe tbody tr th {\n",
       "        vertical-align: top;\n",
       "    }\n",
       "\n",
       "    .dataframe thead th {\n",
       "        text-align: right;\n",
       "    }\n",
       "</style>\n",
       "<table border=\"1\" class=\"dataframe\">\n",
       "  <thead>\n",
       "    <tr style=\"text-align: right;\">\n",
       "      <th></th>\n",
       "      <th>data_source</th>\n",
       "      <th>data_product_type</th>\n",
       "      <th>start</th>\n",
       "      <th>end</th>\n",
       "      <th>url</th>\n",
       "      <th>metadata</th>\n",
       "    </tr>\n",
       "  </thead>\n",
       "  <tbody>\n",
       "    <tr>\n",
       "      <th>0</th>\n",
       "      <td>{'data_product_metadata_schema': [],\\n 'displa...</td>\n",
       "      <td>keogram</td>\n",
       "      <td>2020-01-02</td>\n",
       "      <td>2020-01-02 23:59:00</td>\n",
       "      <td>dp2.jpg</td>\n",
       "      <td>{'test_key': False}</td>\n",
       "    </tr>\n",
       "    <tr>\n",
       "      <th>1</th>\n",
       "      <td>{'data_product_metadata_schema': [],\\n 'displa...</td>\n",
       "      <td>movie</td>\n",
       "      <td>2020-01-02</td>\n",
       "      <td>2020-01-02 23:59:00</td>\n",
       "      <td>dp5.jpg</td>\n",
       "      <td>{'test_key': False}</td>\n",
       "    </tr>\n",
       "    <tr>\n",
       "      <th>2</th>\n",
       "      <td>{'data_product_metadata_schema': [],\\n 'displa...</td>\n",
       "      <td>keogram</td>\n",
       "      <td>2020-01-03</td>\n",
       "      <td>2020-01-03 23:59:00</td>\n",
       "      <td>dp3.jpg</td>\n",
       "      <td>{'test_key': True}</td>\n",
       "    </tr>\n",
       "    <tr>\n",
       "      <th>3</th>\n",
       "      <td>{'data_product_metadata_schema': [],\\n 'displa...</td>\n",
       "      <td>movie</td>\n",
       "      <td>2020-01-03</td>\n",
       "      <td>2020-01-03 23:59:00</td>\n",
       "      <td>dp6.jpg</td>\n",
       "      <td>{'test_key': False}</td>\n",
       "    </tr>\n",
       "  </tbody>\n",
       "</table>\n",
       "</div>"
      ],
      "text/plain": [
       "                                         data_source data_product_type  \\\n",
       "0  {'data_product_metadata_schema': [],\\n 'displa...           keogram   \n",
       "1  {'data_product_metadata_schema': [],\\n 'displa...             movie   \n",
       "2  {'data_product_metadata_schema': [],\\n 'displa...           keogram   \n",
       "3  {'data_product_metadata_schema': [],\\n 'displa...             movie   \n",
       "\n",
       "       start                 end      url             metadata  \n",
       "0 2020-01-02 2020-01-02 23:59:00  dp2.jpg  {'test_key': False}  \n",
       "1 2020-01-02 2020-01-02 23:59:00  dp5.jpg  {'test_key': False}  \n",
       "2 2020-01-03 2020-01-03 23:59:00  dp3.jpg   {'test_key': True}  \n",
       "3 2020-01-03 2020-01-03 23:59:00  dp6.jpg  {'test_key': False}  "
      ]
     },
     "execution_count": 6,
     "metadata": {},
     "output_type": "execute_result"
    }
   ],
   "source": [
    "# delete specific URLs\n",
    "aurorax.data_products.delete(ds, [\"dp1.jpg\", \"dp4.jpg\"])\n",
    "\n",
    "# retrieve remaining records\n",
    "s = aurorax.data_products.search(datetime.datetime(2020, 1, 1, 0, 0, 0),\n",
    "                                 datetime.datetime(2020, 1, 3, 23, 59, 59),\n",
    "                                 programs=[\"notebook-program\"],\n",
    "                                 platforms=[\"notebook-platform\"],\n",
    "                                 instrument_types=[\"notebook-instrument-type\"])\n",
    "\n",
    "# show data as a pandas dataframe\n",
    "data_product_data = [dp.__dict__ for dp in s.data]\n",
    "df = pd.DataFrame(data_product_data)\n",
    "df"
   ]
  },
  {
   "cell_type": "markdown",
   "id": "f04d090f",
   "metadata": {},
   "source": [
    "# Delete data products by date range, with data_product_types and metadata_filters"
   ]
  },
  {
   "cell_type": "code",
   "execution_count": 7,
   "id": "92ac8831",
   "metadata": {},
   "outputs": [
    {
     "data": {
      "text/plain": [
       "1"
      ]
     },
     "execution_count": 7,
     "metadata": {},
     "output_type": "execute_result"
    }
   ],
   "source": [
    "# delete keogram data products with metadata value \"test_key\" = True\n",
    "aurorax.data_products.delete_daterange(ds,\n",
    "                                       datetime.datetime(2020, 1, 1, 0, 0, 0),\n",
    "                                       datetime.datetime(2020, 1, 3, 23, 59, 59),\n",
    "                                       data_product_types=[\"keogram\"],\n",
    "                                       metadata_filters=[{\"key\": \"test_key\", \"values\": [False], \"operator\": \"=\"}])"
   ]
  },
  {
   "cell_type": "code",
   "execution_count": 8,
   "id": "cdc7e854",
   "metadata": {},
   "outputs": [
    {
     "data": {
      "text/html": [
       "<div>\n",
       "<style scoped>\n",
       "    .dataframe tbody tr th:only-of-type {\n",
       "        vertical-align: middle;\n",
       "    }\n",
       "\n",
       "    .dataframe tbody tr th {\n",
       "        vertical-align: top;\n",
       "    }\n",
       "\n",
       "    .dataframe thead th {\n",
       "        text-align: right;\n",
       "    }\n",
       "</style>\n",
       "<table border=\"1\" class=\"dataframe\">\n",
       "  <thead>\n",
       "    <tr style=\"text-align: right;\">\n",
       "      <th></th>\n",
       "      <th>data_source</th>\n",
       "      <th>data_product_type</th>\n",
       "      <th>start</th>\n",
       "      <th>end</th>\n",
       "      <th>url</th>\n",
       "      <th>metadata</th>\n",
       "    </tr>\n",
       "  </thead>\n",
       "  <tbody>\n",
       "    <tr>\n",
       "      <th>0</th>\n",
       "      <td>{'data_product_metadata_schema': [],\\n 'displa...</td>\n",
       "      <td>movie</td>\n",
       "      <td>2020-01-02</td>\n",
       "      <td>2020-01-02 23:59:00</td>\n",
       "      <td>dp5.jpg</td>\n",
       "      <td>{'test_key': False}</td>\n",
       "    </tr>\n",
       "    <tr>\n",
       "      <th>1</th>\n",
       "      <td>{'data_product_metadata_schema': [],\\n 'displa...</td>\n",
       "      <td>keogram</td>\n",
       "      <td>2020-01-03</td>\n",
       "      <td>2020-01-03 23:59:00</td>\n",
       "      <td>dp3.jpg</td>\n",
       "      <td>{'test_key': True}</td>\n",
       "    </tr>\n",
       "    <tr>\n",
       "      <th>2</th>\n",
       "      <td>{'data_product_metadata_schema': [],\\n 'displa...</td>\n",
       "      <td>movie</td>\n",
       "      <td>2020-01-03</td>\n",
       "      <td>2020-01-03 23:59:00</td>\n",
       "      <td>dp6.jpg</td>\n",
       "      <td>{'test_key': False}</td>\n",
       "    </tr>\n",
       "  </tbody>\n",
       "</table>\n",
       "</div>"
      ],
      "text/plain": [
       "                                         data_source data_product_type  \\\n",
       "0  {'data_product_metadata_schema': [],\\n 'displa...             movie   \n",
       "1  {'data_product_metadata_schema': [],\\n 'displa...           keogram   \n",
       "2  {'data_product_metadata_schema': [],\\n 'displa...             movie   \n",
       "\n",
       "       start                 end      url             metadata  \n",
       "0 2020-01-02 2020-01-02 23:59:00  dp5.jpg  {'test_key': False}  \n",
       "1 2020-01-03 2020-01-03 23:59:00  dp3.jpg   {'test_key': True}  \n",
       "2 2020-01-03 2020-01-03 23:59:00  dp6.jpg  {'test_key': False}  "
      ]
     },
     "execution_count": 8,
     "metadata": {},
     "output_type": "execute_result"
    }
   ],
   "source": [
    "# retrieve remaining records\n",
    "s = aurorax.data_products.search(datetime.datetime(2020, 1, 1, 0, 0, 0),\n",
    "                                 datetime.datetime(2020, 1, 3, 23, 59, 59),\n",
    "                                 programs=[\"notebook-program\"],\n",
    "                                 platforms=[\"notebook-platform\"],\n",
    "                                 instrument_types=[\"notebook-instrument-type\"])\n",
    "\n",
    "# show data as a pandas dataframe\n",
    "data_product_data = [dp.__dict__ for dp in s.data]\n",
    "df = pd.DataFrame(data_product_data)\n",
    "df"
   ]
  },
  {
   "cell_type": "markdown",
   "id": "2fc3bd83",
   "metadata": {},
   "source": [
    "# Delete data products by date range only"
   ]
  },
  {
   "cell_type": "code",
   "execution_count": 9,
   "id": "9d809f1d",
   "metadata": {},
   "outputs": [
    {
     "data": {
      "text/plain": [
       "1"
      ]
     },
     "execution_count": 9,
     "metadata": {},
     "output_type": "execute_result"
    }
   ],
   "source": [
    "# delete all data products in date range\n",
    "aurorax.data_products.delete_daterange(ds,\n",
    "                                       datetime.datetime(2020, 1, 1, 0, 0, 0),\n",
    "                                       datetime.datetime(2020, 1, 3, 23, 59, 59))"
   ]
  },
  {
   "cell_type": "code",
   "execution_count": 10,
   "id": "77278981",
   "metadata": {},
   "outputs": [
    {
     "name": "stdout",
     "output_type": "stream",
     "text": [
      "Data was deleted\n"
     ]
    }
   ],
   "source": [
    "# retrieve remaining records\n",
    "s = aurorax.data_products.search(datetime.datetime(2020, 1, 1, 0, 0, 0),\n",
    "                                 datetime.datetime(2020, 1, 3, 23, 59, 59),\n",
    "                                 programs=[\"notebook-program\"],\n",
    "                                 platforms=[\"notebook-platform\"],\n",
    "                                 instrument_types=[\"notebook-instrument-type\"])\n",
    "\n",
    "if len(s.data) == 0:\n",
    "    print(\"Data was deleted\")\n",
    "else:\n",
    "    print(\"Data was not deleted\")"
   ]
  },
  {
   "cell_type": "code",
   "execution_count": null,
   "id": "9624e5dc",
   "metadata": {},
   "outputs": [],
   "source": []
  }
 ],
 "metadata": {
  "kernelspec": {
   "display_name": "Python 3",
   "language": "python",
   "name": "python3"
  },
  "language_info": {
   "codemirror_mode": {
    "name": "ipython",
    "version": 3
   },
   "file_extension": ".py",
   "mimetype": "text/x-python",
   "name": "python",
   "nbconvert_exporter": "python",
   "pygments_lexer": "ipython3",
   "version": "3.9.5"
  }
 },
 "nbformat": 4,
 "nbformat_minor": 5
}
