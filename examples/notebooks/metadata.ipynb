{
 "cells": [
  {
   "cell_type": "markdown",
   "metadata": {},
   "source": [
    "# Imports"
   ]
  },
  {
   "cell_type": "code",
   "execution_count": 1,
   "metadata": {},
   "outputs": [],
   "source": [
    "import aurorax\n",
    "import pprint\n",
    "import pandas as pd"
   ]
  },
  {
   "cell_type": "markdown",
   "metadata": {},
   "source": [
    "# Retrieve metadata schema for ephemeris data"
   ]
  },
  {
   "cell_type": "code",
   "execution_count": 2,
   "metadata": {},
   "outputs": [
    {
     "name": "stdout",
     "output_type": "stream",
     "text": [
      "Program:          swarm\n",
      "Platform:         swarma\n",
      "Instrument Type:  footprint\n"
     ]
    }
   ],
   "source": [
    "# set parameters\n",
    "program = \"swarm\"\n",
    "platform = \"swarma\"\n",
    "instrument_type = \"footprint\"\n",
    "print(\"%-18s%s\" % (\"Program:\", program))\n",
    "print(\"%-18s%s\" % (\"Platform:\", platform))\n",
    "print(\"%-18s%s\" % (\"Instrument Type:\", instrument_type))"
   ]
  },
  {
   "cell_type": "code",
   "execution_count": 3,
   "metadata": {},
   "outputs": [
    {
     "name": "stdout",
     "output_type": "stream",
     "text": [
      "Identifier: 3\n"
     ]
    }
   ],
   "source": [
    "# get idendifier\n",
    "data_source = aurorax.sources.get_using_filters(program=program,\n",
    "                                                platform=platform,\n",
    "                                                instrument_type=instrument_type)\n",
    "identifier = data_source[0][\"identifier\"]\n",
    "print(\"Identifier: %d\" % (identifier))"
   ]
  },
  {
   "cell_type": "code",
   "execution_count": 4,
   "metadata": {},
   "outputs": [],
   "source": [
    "# get schema\n",
    "schema = aurorax.metadata.get_ephemeris_schema(data_source[0][\"identifier\"])"
   ]
  },
  {
   "cell_type": "markdown",
   "metadata": {},
   "source": [
    "# View the schema"
   ]
  },
  {
   "cell_type": "code",
   "execution_count": 5,
   "metadata": {},
   "outputs": [
    {
     "data": {
      "text/html": [
       "<div>\n",
       "<style scoped>\n",
       "    .dataframe tbody tr th:only-of-type {\n",
       "        vertical-align: middle;\n",
       "    }\n",
       "\n",
       "    .dataframe tbody tr th {\n",
       "        vertical-align: top;\n",
       "    }\n",
       "\n",
       "    .dataframe thead th {\n",
       "        text-align: right;\n",
       "    }\n",
       "</style>\n",
       "<table border=\"1\" class=\"dataframe\">\n",
       "  <thead>\n",
       "    <tr style=\"text-align: right;\">\n",
       "      <th></th>\n",
       "      <th>field_name</th>\n",
       "      <th>description</th>\n",
       "      <th>data_type</th>\n",
       "      <th>allowed_values</th>\n",
       "    </tr>\n",
       "  </thead>\n",
       "  <tbody>\n",
       "    <tr>\n",
       "      <th>0</th>\n",
       "      <td>nbtrace_region</td>\n",
       "      <td>Region based on where the magnetic field line ...</td>\n",
       "      <td>string</td>\n",
       "      <td>[north polar cap, north cusp, north cleft, nor...</td>\n",
       "    </tr>\n",
       "    <tr>\n",
       "      <th>1</th>\n",
       "      <td>sbtrace_region</td>\n",
       "      <td>Region based on where the magnetic field line ...</td>\n",
       "      <td>string</td>\n",
       "      <td>[south polar cap, south cusp, south cleft, sou...</td>\n",
       "    </tr>\n",
       "    <tr>\n",
       "      <th>2</th>\n",
       "      <td>radial_distance</td>\n",
       "      <td>Distance spacecraft is from Earth in kilometers</td>\n",
       "      <td>double</td>\n",
       "      <td>[]</td>\n",
       "    </tr>\n",
       "    <tr>\n",
       "      <th>3</th>\n",
       "      <td>spacecraft_region</td>\n",
       "      <td>Region based on the spacecraft's position with...</td>\n",
       "      <td>string</td>\n",
       "      <td>[interplanetary medium, dayside magnetosheath,...</td>\n",
       "    </tr>\n",
       "    <tr>\n",
       "      <th>4</th>\n",
       "      <td>radial_trace_region</td>\n",
       "      <td>Region based on the location on the Earth's su...</td>\n",
       "      <td>string</td>\n",
       "      <td>[north polar cap, south polar cap, north cusp,...</td>\n",
       "    </tr>\n",
       "    <tr>\n",
       "      <th>5</th>\n",
       "      <td>state</td>\n",
       "      <td>Data is based on predictive or definitive info...</td>\n",
       "      <td>string</td>\n",
       "      <td>[predictive, definitive]</td>\n",
       "    </tr>\n",
       "  </tbody>\n",
       "</table>\n",
       "</div>"
      ],
      "text/plain": [
       "            field_name                                        description  \\\n",
       "0       nbtrace_region  Region based on where the magnetic field line ...   \n",
       "1       sbtrace_region  Region based on where the magnetic field line ...   \n",
       "2      radial_distance    Distance spacecraft is from Earth in kilometers   \n",
       "3    spacecraft_region  Region based on the spacecraft's position with...   \n",
       "4  radial_trace_region  Region based on the location on the Earth's su...   \n",
       "5                state  Data is based on predictive or definitive info...   \n",
       "\n",
       "  data_type                                     allowed_values  \n",
       "0    string  [north polar cap, north cusp, north cleft, nor...  \n",
       "1    string  [south polar cap, south cusp, south cleft, sou...  \n",
       "2    double                                                 []  \n",
       "3    string  [interplanetary medium, dayside magnetosheath,...  \n",
       "4    string  [north polar cap, south polar cap, north cusp,...  \n",
       "5    string                           [predictive, definitive]  "
      ]
     },
     "execution_count": 5,
     "metadata": {},
     "output_type": "execute_result"
    }
   ],
   "source": [
    "# as a pandas dataframe\n",
    "df = pd.DataFrame(schema)\n",
    "df"
   ]
  },
  {
   "cell_type": "code",
   "execution_count": 6,
   "metadata": {},
   "outputs": [
    {
     "name": "stdout",
     "output_type": "stream",
     "text": [
      "[{'allowed_values': ['north polar cap',\n",
      "                     'north cusp',\n",
      "                     'north cleft',\n",
      "                     'north auroral oval',\n",
      "                     'north mid-latitude',\n",
      "                     'low latitude'],\n",
      "  'data_type': 'string',\n",
      "  'description': 'Region based on where the magnetic field line that passes '\n",
      "                 \"through the spacecraft intersects the Earth's surface in the \"\n",
      "                 \"Earth's northern magnetic hemisphere\",\n",
      "  'field_name': 'nbtrace_region'},\n",
      " {'allowed_values': ['south polar cap',\n",
      "                     'south cusp',\n",
      "                     'south cleft',\n",
      "                     'south auroral oval',\n",
      "                     'south mid-latitude',\n",
      "                     'low latitude'],\n",
      "  'data_type': 'string',\n",
      "  'description': 'Region based on where the magnetic field line that passes '\n",
      "                 \"through the spacecraft intersects the Earth's surface in the \"\n",
      "                 \"Earth's southern magnetic hemisphere\",\n",
      "  'field_name': 'sbtrace_region'},\n",
      " {'allowed_values': [],\n",
      "  'data_type': 'double',\n",
      "  'description': 'Distance spacecraft is from Earth in kilometers',\n",
      "  'field_name': 'radial_distance'},\n",
      " {'allowed_values': ['interplanetary medium',\n",
      "                     'dayside magnetosheath',\n",
      "                     'nightside magnetosheath',\n",
      "                     'dayside magnetosphere',\n",
      "                     'nightside magnetosphere',\n",
      "                     'dayside plasmasphere',\n",
      "                     'nightside plasmasphere',\n",
      "                     'plasma sheet',\n",
      "                     'tail lobe',\n",
      "                     'low latitude boundary layer',\n",
      "                     'high latitude boundary layer'],\n",
      "  'data_type': 'string',\n",
      "  'description': \"Region based on the spacecraft's position within the \"\n",
      "                 'magnetosphere',\n",
      "  'field_name': 'spacecraft_region'},\n",
      " {'allowed_values': ['north polar cap',\n",
      "                     'south polar cap',\n",
      "                     'north cusp',\n",
      "                     'south cusp',\n",
      "                     'north cleft',\n",
      "                     'south cleft',\n",
      "                     'north auroral oval',\n",
      "                     'south auroral oval',\n",
      "                     'north mid-latitude',\n",
      "                     'south mid-latitude',\n",
      "                     'low latitude'],\n",
      "  'data_type': 'string',\n",
      "  'description': \"Region based on the location on the Earth's surface where a \"\n",
      "                 'straight line would intersect when connecting the spacecraft '\n",
      "                 \"and the Earth's center\",\n",
      "  'field_name': 'radial_trace_region'},\n",
      " {'allowed_values': ['predictive', 'definitive'],\n",
      "  'data_type': 'string',\n",
      "  'description': 'Data is based on predictive or definitive information',\n",
      "  'field_name': 'state'}]\n"
     ]
    }
   ],
   "source": [
    "# as the raw data returned\n",
    "pprint.pprint(schema)"
   ]
  },
  {
   "cell_type": "code",
   "execution_count": null,
   "metadata": {},
   "outputs": [],
   "source": []
  }
 ],
 "metadata": {
  "kernelspec": {
   "display_name": "Python 3",
   "language": "python",
   "name": "python3"
  },
  "language_info": {
   "codemirror_mode": {
    "name": "ipython",
    "version": 3
   },
   "file_extension": ".py",
   "mimetype": "text/x-python",
   "name": "python",
   "nbconvert_exporter": "python",
   "pygments_lexer": "ipython3",
   "version": "3.7.7"
  }
 },
 "nbformat": 4,
 "nbformat_minor": 4
}
