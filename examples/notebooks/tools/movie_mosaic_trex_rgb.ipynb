{
 "cells": [
  {
   "cell_type": "code",
   "execution_count": 10,
   "id": "e43760eb",
   "metadata": {},
   "outputs": [],
   "source": [
    "import pprint\n",
    "import datetime\n",
    "import pyaurorax\n",
    "import cartopy.crs\n",
    "import numpy as np\n",
    "from concurrent.futures import ProcessPoolExecutor\n",
    "\n",
    "aurorax = pyaurorax.PyAuroraX()\n",
    "at = aurorax.tools"
   ]
  },
  {
   "cell_type": "markdown",
   "id": "8e6f146d",
   "metadata": {},
   "source": [
    "# Create TREx RGB mosaic movie\n",
    "\n",
    "Using PyAuroraX's built-in movie function in combination with the mosaic tools, we can generate a mosaic movie."
   ]
  },
  {
   "cell_type": "markdown",
   "id": "8bd18cca",
   "metadata": {},
   "source": [
    "## Step 1: Download and read image data\n",
    "\n",
    "Pay attention to the order of the sites here is very important, as that order MUST be the same for both the skymap and image data we pass into the mosaic prep routines."
   ]
  },
  {
   "cell_type": "code",
   "execution_count": 11,
   "id": "28604283",
   "metadata": {},
   "outputs": [
    {
     "data": {
      "application/vnd.jupyter.widget-view+json": {
       "model_id": "f1f46f61975344a0894782db2b51a01d",
       "version_major": 2,
       "version_minor": 0
      },
      "text/plain": [
       "Downloading TREX_RGB_RAW_NOMINAL files:   0%|          | 0.00/20.7M [00:00<?, ?B/s]"
      ]
     },
     "metadata": {},
     "output_type": "display_data"
    },
    {
     "data": {
      "application/vnd.jupyter.widget-view+json": {
       "model_id": "bf86f26863f44bf1bda411afb882d9d1",
       "version_major": 2,
       "version_minor": 0
      },
      "text/plain": [
       "Downloading TREX_RGB_RAW_NOMINAL files:   0%|          | 0.00/21.4M [00:00<?, ?B/s]"
      ]
     },
     "metadata": {},
     "output_type": "display_data"
    },
    {
     "data": {
      "application/vnd.jupyter.widget-view+json": {
       "model_id": "34a4f56ef3b742ed855f101c24d27fd7",
       "version_major": 2,
       "version_minor": 0
      },
      "text/plain": [
       "Downloading TREX_RGB_RAW_NOMINAL files:   0%|          | 0.00/23.4M [00:00<?, ?B/s]"
      ]
     },
     "metadata": {},
     "output_type": "display_data"
    }
   ],
   "source": [
    "# For this example, we will just make a movie for 3 minutes of TREx RGB\n",
    "dataset_name = \"TREX_RGB_RAW_NOMINAL\"\n",
    "start_dt = datetime.datetime(2023, 2, 24, 6, 15)\n",
    "end_dt = datetime.datetime(2023, 2, 24, 6, 17)\n",
    "site_uid_list = ['yknf', 'gill', 'rabb']\n",
    "data_download_objs = {}\n",
    "for site_uid in site_uid_list:\n",
    "    download_obj = aurorax.data.ucalgary.download(dataset_name, start_dt, end_dt, site_uid=site_uid)\n",
    "    data_download_objs[site_uid] = download_obj\n",
    "\n",
    "# Read in the data site-by-site, as we need this separation for mosaicing\n",
    "data_list = []\n",
    "for site_uid, download_obj in data_download_objs.items():\n",
    "    data_list.append(aurorax.data.ucalgary.read(download_obj.dataset, download_obj.filenames))"
   ]
  },
  {
   "cell_type": "markdown",
   "id": "c78ba8d6",
   "metadata": {},
   "source": [
    "## Step 2: Download and read skymaps"
   ]
  },
  {
   "cell_type": "code",
   "execution_count": 12,
   "id": "f89b7331",
   "metadata": {},
   "outputs": [
    {
     "name": "stdout",
     "output_type": "stream",
     "text": [
      "[Skymap(project_uid=rgb, site_uid=yknf, imager_uid=rgb-08, site_map_latitude=62.519848, site_map_longitude=245.686966, ...),\n",
      " Skymap(project_uid=rgb, site_uid=gill, imager_uid=rgb-04, site_map_latitude=56.376724, site_map_longitude=265.356323, ...),\n",
      " Skymap(project_uid=rgb, site_uid=rabb, imager_uid=rgb-06, site_map_latitude=58.227810, site_map_longitude=256.319366, ...)]\n"
     ]
    }
   ],
   "source": [
    "# download and read skymaps\n",
    "skymaps = []\n",
    "for site_uid in site_uid_list:\n",
    "    download_obj = aurorax.data.ucalgary.download_best_skymap(\"TREX_RGB_SKYMAP_IDLSAV\", site_uid, start_dt)\n",
    "    skymap = aurorax.data.ucalgary.read(download_obj.dataset, download_obj.filenames[-1])\n",
    "    skymaps.append(skymap.data[0])\n",
    "\n",
    "pprint.pprint(skymaps)"
   ]
  },
  {
   "cell_type": "markdown",
   "id": "7e0a0746",
   "metadata": {},
   "source": [
    "## Step 3: Prep skymap and image data"
   ]
  },
  {
   "cell_type": "code",
   "execution_count": 13,
   "id": "7a04c9b4",
   "metadata": {},
   "outputs": [
    {
     "name": "stdout",
     "output_type": "stream",
     "text": [
      "Available pre-computed altitudes (km): 90, 110, 150\n"
     ]
    }
   ],
   "source": [
    "# if we're not sure which altitudes are pre-computed, we can see them inside a skymap file\n",
    "#\n",
    "# if you choose different altitude when preparing the skymap data, the function will take longer\n",
    "# to process as it performs an interpolation between the pre-computed altitudes\n",
    "print(\"Available pre-computed altitudes (km): %s\" % (', '.join([\"%d\" % (x) for x in skymaps[0].get_precalculated_altitudes()])))"
   ]
  },
  {
   "cell_type": "code",
   "execution_count": 14,
   "id": "08d1801b",
   "metadata": {},
   "outputs": [
    {
     "data": {
      "application/vnd.jupyter.widget-view+json": {
       "model_id": "887c6319f561432da61a25fd031bcc2c",
       "version_major": 2,
       "version_minor": 0
      },
      "text/plain": [
       "Preparing skymaps:   0%|          | 0/3 [00:00<?, ?skymap/s]"
      ]
     },
     "metadata": {},
     "output_type": "display_data"
    },
    {
     "name": "stdout",
     "output_type": "stream",
     "text": [
      "MosaicSkymap(polyfill_lat=array(dims=(5, 265440), dtype=float64), polyfill_lon=array(dims=(5, 265440), dtype=float64), elevation=array(dims=(265440,), dtype=float32), site_uid_list=['yknf', 'gill', 'rabb'])\n"
     ]
    }
   ],
   "source": [
    "# prepare the skymap data\n",
    "#\n",
    "# NOTE: this step is not time dependent, so it only needs to be performed once\n",
    "# per set of skymaps.\n",
    "prepped_skymaps = at.mosaic.prep_skymaps(skymaps, 110, n_parallel=5)\n",
    "print(prepped_skymaps)"
   ]
  },
  {
   "cell_type": "code",
   "execution_count": 15,
   "id": "9fc63bdb",
   "metadata": {},
   "outputs": [],
   "source": [
    "# prepare the image data\n",
    "prepped_images = at.mosaic.prep_images(data_list)"
   ]
  },
  {
   "cell_type": "markdown",
   "id": "e4bbbf5e",
   "metadata": {},
   "source": [
    "## Step 4: Define mosaic parameters"
   ]
  },
  {
   "cell_type": "code",
   "execution_count": 16,
   "id": "a0847f89",
   "metadata": {},
   "outputs": [],
   "source": [
    "# define the intensity scales for each site\n",
    "#\n",
    "# NOTE: you can define intensity scale for each site separately, all sites as a whole, or not at all\n",
    "scale = {\n",
    "    \"yknf\": (10, 105),\n",
    "    \"gill\": (10, 105),\n",
    "    \"rabb\": (10, 105),\n",
    "}\n",
    "\n",
    "# create projection\n",
    "center_lat = 55.0\n",
    "center_lon = -100.0\n",
    "projection_obj = cartopy.crs.NearsidePerspective(central_latitude=center_lat, central_longitude=center_lon)\n",
    "map_extent = [-145, -65, 35, 80]"
   ]
  },
  {
   "cell_type": "markdown",
   "id": "2a028745",
   "metadata": {},
   "source": [
    "## Step 5: Prepare mosaic frames\n",
    "\n",
    "For each timestamp of interest, we will need to:\n",
    "\n",
    "1. Create the mosaic using `at.mosaic.create()`\n",
    "2. Plot the mosaic using the `Mosaic.plot()` method to obtain the figure\n",
    "3. Save that figure as a frame, for use by the `at.movie()` function\n",
    "\n",
    "Since there's a lot of frames and this task is very parallel-friendly, we'll leverage Python's `multiprocessing` and `tqdm` libraries to help us speed things up."
   ]
  },
  {
   "cell_type": "code",
   "execution_count": 17,
   "id": "f5d4716e",
   "metadata": {},
   "outputs": [
    {
     "data": {
      "application/vnd.jupyter.widget-view+json": {
       "model_id": "547db9be476746bda4c9cd6d0a2a991e",
       "version_major": 2,
       "version_minor": 0
      },
      "text/plain": [
       "Generating frame files:   0%|          | 0/60 [00:00<?, ?frames/s]"
      ]
     },
     "metadata": {},
     "output_type": "display_data"
    }
   ],
   "source": [
    "import os\n",
    "import platform\n",
    "import matplotlib.pyplot as plt\n",
    "from tqdm.contrib.concurrent import process_map as tqdm_process_map\n",
    "from tqdm import tqdm\n",
    "\n",
    "# Let's make one mosaic frame for each timestamp available in the prepared data\n",
    "mosaic_dt_list = prepped_images.timestamps\n",
    "\n",
    "\n",
    "def process_frame(mosaic_dt):\n",
    "    # Create the mosaic for each timestamp\n",
    "    mosaic = at.mosaic.create(prepped_images, prepped_skymaps, mosaic_dt, projection_obj, image_intensity_scales=scale)\n",
    "\n",
    "    # Plot this mosaic\n",
    "    fig, ax = mosaic.plot(map_extent, title=\"TREx RGB - %s\" % (mosaic_dt.strftime(\"%Y-%m-%d %H:%M:%S\")), returnfig=True)\n",
    "\n",
    "    # Save this mosaic frame\n",
    "    filename = \"movie_frames/%s_trex_rgb_mosaic.png\" % (mosaic_dt.strftime(\"%Y%m%d_%H%M%S\"))\n",
    "    os.makedirs(os.path.dirname(filename), exist_ok=True)\n",
    "    plt.savefig(filename, bbox_inches=\"tight\")\n",
    "    plt.close()\n",
    "    return filename\n",
    "\n",
    "\n",
    "if (platform.system() == \"Windows\"):\n",
    "    # pre-process frames serially\n",
    "    #\n",
    "    # NOTE: multiprocessing on Windows from within a notebook is not too easy, so we'll\n",
    "    # just do this serially.\n",
    "    frame_filename_list = []\n",
    "    for i in tqdm(mosaic_dt_list, total=len(mosaic_dt_list), desc=\"Generating frame files: \", unit=\"frames\"):\n",
    "        frame_filename_list.append(process_frame(i))\n",
    "else:\n",
    "    frame_filename_list = tqdm_process_map(\n",
    "        process_frame,\n",
    "        mosaic_dt_list,\n",
    "        max_workers=5,\n",
    "        chunksize=1,\n",
    "        desc=\"Generating frame files: \",\n",
    "        unit=\"frames\",\n",
    "    )"
   ]
  },
  {
   "cell_type": "markdown",
   "id": "43f8a93d",
   "metadata": {},
   "source": [
    "Now that we have our frames saved to disk, we'll use the `movie()` function to create the movie."
   ]
  },
  {
   "cell_type": "code",
   "execution_count": 18,
   "id": "1280bbca",
   "metadata": {},
   "outputs": [
    {
     "data": {
      "application/vnd.jupyter.widget-view+json": {
       "model_id": "ab8107b787024944aaecde83f67ff569",
       "version_major": 2,
       "version_minor": 0
      },
      "text/plain": [
       "Reading files:   0%|          | 0/60 [00:00<?, ?files/s]"
      ]
     },
     "metadata": {},
     "output_type": "display_data"
    },
    {
     "data": {
      "application/vnd.jupyter.widget-view+json": {
       "model_id": "693ad7c3385f46a5b69dbc39cda51c08",
       "version_major": 2,
       "version_minor": 0
      },
      "text/plain": [
       "Encoding frames:   0%|          | 0/60 [00:00<?, ?frames/s]"
      ]
     },
     "metadata": {},
     "output_type": "display_data"
    }
   ],
   "source": [
    "# generate the movie\n",
    "at.movie(frame_filename_list, \"test_trex_rgb_mosaic_movie.mp4\", n_parallel=5, fps=10)"
   ]
  }
 ],
 "metadata": {
  "kernelspec": {
   "display_name": "pyaurorax311",
   "language": "python",
   "name": "python3"
  },
  "language_info": {
   "codemirror_mode": {
    "name": "ipython",
    "version": 3
   },
   "file_extension": ".py",
   "mimetype": "text/x-python",
   "name": "python",
   "nbconvert_exporter": "python",
   "pygments_lexer": "ipython3",
   "version": "3.11.11"
  }
 },
 "nbformat": 4,
 "nbformat_minor": 5
}
