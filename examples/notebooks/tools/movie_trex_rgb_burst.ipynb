{
 "cells": [
  {
   "cell_type": "code",
   "execution_count": 1,
   "id": "8167ce65",
   "metadata": {},
   "outputs": [],
   "source": [
    "import datetime\n",
    "import pyaurorax\n",
    "\n",
    "aurorax = pyaurorax.PyAuroraX()\n",
    "at = aurorax.tools\n",
    "at.set_theme(\"dark\")"
   ]
  },
  {
   "cell_type": "markdown",
   "id": "3dbb2062",
   "metadata": {},
   "source": [
    "# Create TREx RGB Burst movie\n",
    "\n",
    "There is a handy function available that makes a movie from any list of image files. This means that we need to generate the files first, and then pass the filenames into the function. \n",
    "\n",
    "Let's have a look at an example of making a movie for an hour of TREx RGB burst data."
   ]
  },
  {
   "cell_type": "code",
   "execution_count": 2,
   "id": "be8e1b74",
   "metadata": {},
   "outputs": [
    {
     "data": {
      "application/vnd.jupyter.widget-view+json": {
       "model_id": "6cc60c7d56a14f8ab7ac62559280badf",
       "version_major": 2,
       "version_minor": 0
      },
      "text/plain": [
       "Downloading TREX_RGB_RAW_BURST files:   0%|          | 0.00/304M [00:00<?, ?B/s]"
      ]
     },
     "metadata": {},
     "output_type": "display_data"
    }
   ],
   "source": [
    "# Download 5 minutes of TREx RGB Burst data. Burst data is extremely large.\n",
    "# When working with burst data, it is best to load it in smaller chunks.\n",
    "# The ability to read in burst data files will depend on your computer's\n",
    "# resources, as large amounts of data will require more memory.\n",
    "\n",
    "# For now, let's download 5 minutes of burst data. This is enough\n",
    "# to make a movie due to the high cadence.\n",
    "dataset_name = \"TREX_RGB_RAW_BURST\"\n",
    "start_dt = datetime.datetime(2023, 2, 24, 6, 0)\n",
    "end_dt = datetime.datetime(2023, 2, 24, 6, 4)\n",
    "site_uid = \"rabb\"\n",
    "r = aurorax.data.ucalgary.download(dataset_name, start_dt, end_dt, site_uid=site_uid, n_parallel=4, overwrite=True)"
   ]
  },
  {
   "cell_type": "code",
   "execution_count": 3,
   "id": "9aa21994",
   "metadata": {},
   "outputs": [],
   "source": [
    "# read in the hour of data\n",
    "data = aurorax.data.ucalgary.read(r.dataset, r.filenames, n_parallel=5)"
   ]
  },
  {
   "cell_type": "code",
   "execution_count": 4,
   "id": "fcdfbe4d",
   "metadata": {},
   "outputs": [],
   "source": [
    "# scale all the images\n",
    "#\n",
    "# NOTE: you can scale all images or just one image\n",
    "images_scaled = at.scale_intensity(data.data, min=10, max=120)"
   ]
  },
  {
   "cell_type": "markdown",
   "id": "a18a8ac5",
   "metadata": {},
   "source": [
    "To prep the frames for the movie function, we'll use the `display()` function and have it return the figure, then we'll add some timestamp and other text to our liking.\n",
    "\n",
    "Since there's a lot of frames and this task is very parallel-friendly, we'll leverage Python's `multiprocessing` and `tqdm` libraries to help us speed things up."
   ]
  },
  {
   "cell_type": "code",
   "execution_count": 5,
   "id": "846bc951",
   "metadata": {},
   "outputs": [
    {
     "name": "stdout",
     "output_type": "stream",
     "text": [
      "(480, 553, 3, 838)\n"
     ]
    },
    {
     "data": {
      "application/vnd.jupyter.widget-view+json": {
       "model_id": "267d254145b748e581968f24cd89c14a",
       "version_major": 2,
       "version_minor": 0
      },
      "text/plain": [
       "Generating frame files:   0%|          | 0/838 [00:00<?, ?frames/s]"
      ]
     },
     "metadata": {},
     "output_type": "display_data"
    }
   ],
   "source": [
    "import os\n",
    "import platform\n",
    "import matplotlib.pyplot as plt\n",
    "from tqdm.contrib.concurrent import process_map as tqdm_process_map\n",
    "from tqdm import tqdm\n",
    "\n",
    "\n",
    "def process_frame(i):\n",
    "    _, ax = at.display(images_scaled[:, :, :, i], returnfig=True)\n",
    "    ax.text(5, 450, \"TREx RGB Burst\", color=\"white\", size=16)\n",
    "    ax.text(5, 420, f\"{site_uid.upper()}\", color=\"white\", size=16)\n",
    "    ax.text(350, 8, data.timestamp[i].strftime(\"%Y-%m-%d %H:%M:%S.%f\")[:-3]+\" UTC\", color=\"white\", size=11)\n",
    "    filename = \"movie_frames/%s_%s_trex_rgb_burst.png\" % (data.timestamp[i].strftime(\"%Y%m%d_%H%M%S_%f\")[:-3], site_uid)\n",
    "    os.makedirs(os.path.dirname(filename), exist_ok=True)\n",
    "    plt.savefig(filename, bbox_inches=\"tight\")\n",
    "    plt.close()\n",
    "    return filename\n",
    "\n",
    "print(images_scaled.shape)\n",
    "if (platform.system() == \"Windows\"):\n",
    "    # pre-process frames serially\n",
    "    #\n",
    "    # NOTE: multiprocessing on Windows from within a notebook is not too easy, so we'll\n",
    "    # just do this serially.\n",
    "    frame_filename_list = []\n",
    "    for i in tqdm(range(0, images_scaled.shape[-1]), total=images_scaled.shape[-1], desc=\"Generating frame files: \", unit=\"frames\"):\n",
    "        frame_filename_list.append(process_frame(i))\n",
    "else:\n",
    "    frame_filename_list = tqdm_process_map(\n",
    "        process_frame,\n",
    "        range(0, images_scaled.shape[-1]),\n",
    "        max_workers=5,\n",
    "        chunksize=1,\n",
    "        desc=\"Generating frame files: \",\n",
    "        unit=\"frames\",\n",
    "    )"
   ]
  },
  {
   "cell_type": "markdown",
   "id": "0b3334b3",
   "metadata": {},
   "source": [
    "Now that we have our frames saved to disk, we'll use the `movie()` function to create the movie."
   ]
  },
  {
   "cell_type": "code",
   "execution_count": 6,
   "id": "152285a0",
   "metadata": {},
   "outputs": [
    {
     "data": {
      "application/vnd.jupyter.widget-view+json": {
       "model_id": "491a7feec25248708b3838791f6f1790",
       "version_major": 2,
       "version_minor": 0
      },
      "text/plain": [
       "Reading files:   0%|          | 0/838 [00:00<?, ?files/s]"
      ]
     },
     "metadata": {},
     "output_type": "display_data"
    },
    {
     "data": {
      "application/vnd.jupyter.widget-view+json": {
       "model_id": "8ca65d9adb514aaebe1e6798ef4b8d85",
       "version_major": 2,
       "version_minor": 0
      },
      "text/plain": [
       "Encoding frames:   0%|          | 0/838 [00:00<?, ?frames/s]"
      ]
     },
     "metadata": {},
     "output_type": "display_data"
    }
   ],
   "source": [
    "# generate the movie\n",
    "at.movie(frame_filename_list, \"test_trex_rgb_burst_movie.mp4\", n_parallel=5)"
   ]
  }
 ],
 "metadata": {
  "kernelspec": {
   "display_name": "pyaurorax311",
   "language": "python",
   "name": "python3"
  },
  "language_info": {
   "codemirror_mode": {
    "name": "ipython",
    "version": 3
   },
   "file_extension": ".py",
   "mimetype": "text/x-python",
   "name": "python",
   "nbconvert_exporter": "python",
   "pygments_lexer": "ipython3",
   "version": "3.11.11"
  }
 },
 "nbformat": 4,
 "nbformat_minor": 5
}
