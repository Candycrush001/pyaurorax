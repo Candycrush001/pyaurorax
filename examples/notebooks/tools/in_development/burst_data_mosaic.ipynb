{
 "cells": [
  {
   "cell_type": "code",
   "execution_count": 1,
   "metadata": {},
   "outputs": [
    {
     "data": {
      "text/html": [
       "<style>\n",
       ".cell-output-ipywidget-background {\n",
       "    background-color: transparent !important;\n",
       "}\n",
       ":root {\n",
       "    --jp-widgets-color: var(--vscode-editor-foreground);\n",
       "    --jp-widgets-font-size: var(--vscode-editor-font-size);\n",
       "}  \n",
       "</style>\n"
      ],
      "text/plain": [
       "<IPython.core.display.HTML object>"
      ]
     },
     "metadata": {},
     "output_type": "display_data"
    }
   ],
   "source": [
    "%%html\n",
    "<style>\n",
    ".cell-output-ipywidget-background {\n",
    "    background-color: transparent !important;\n",
    "}\n",
    ":root {\n",
    "    --jp-widgets-color: var(--vscode-editor-foreground);\n",
    "    --jp-widgets-font-size: var(--vscode-editor-font-size);\n",
    "}  \n",
    "</style>"
   ]
  },
  {
   "cell_type": "code",
   "execution_count": 2,
   "metadata": {},
   "outputs": [],
   "source": [
    "import datetime\n",
    "import pyaurorax\n",
    "import cv2\n",
    "import cartopy.crs\n",
    "import numpy as np\n",
    "\n",
    "aurorax = pyaurorax.PyAuroraX()\n",
    "at = aurorax.tools\n",
    "at.set_theme(\"dark\")"
   ]
  },
  {
   "cell_type": "markdown",
   "metadata": {},
   "source": [
    "### **Step 1: Download Burst Data, and TREx RGB Skymaps**"
   ]
  },
  {
   "cell_type": "code",
   "execution_count": 3,
   "metadata": {},
   "outputs": [
    {
     "data": {
      "application/vnd.jupyter.widget-view+json": {
       "model_id": "10c48aedce3a44118c6195fc72aa47d1",
       "version_major": 2,
       "version_minor": 0
      },
      "text/plain": [
       "Downloading TREX_RGB_RAW_BURST files:   0%|          | 0.00/121M [00:00<?, ?B/s]"
      ]
     },
     "metadata": {},
     "output_type": "display_data"
    },
    {
     "data": {
      "application/vnd.jupyter.widget-view+json": {
       "model_id": "ce35ca70bc744c9ea36d079038626170",
       "version_major": 2,
       "version_minor": 0
      },
      "text/plain": [
       "Downloading TREX_RGB_RAW_BURST files:   0%|          | 0.00/135M [00:00<?, ?B/s]"
      ]
     },
     "metadata": {},
     "output_type": "display_data"
    },
    {
     "data": {
      "application/vnd.jupyter.widget-view+json": {
       "model_id": "ee3f03c43f5747b5adfd9b79de0a0bb8",
       "version_major": 2,
       "version_minor": 0
      },
      "text/plain": [
       "Downloading TREX_RGB_RAW_BURST files:   0%|          | 0.00/138M [00:00<?, ?B/s]"
      ]
     },
     "metadata": {},
     "output_type": "display_data"
    },
    {
     "data": {
      "text/plain": [
       "[Skymap(project_uid=rgb, site_uid=fsmi, imager_uid=rgb-01, site_map_latitude=60.026112, site_map_longitude=248.067062, ...),\n",
       " Skymap(project_uid=rgb, site_uid=gill, imager_uid=rgb-04, site_map_latitude=56.376724, site_map_longitude=265.356323, ...),\n",
       " Skymap(project_uid=rgb, site_uid=rabb, imager_uid=rgb-06, site_map_latitude=58.227810, site_map_longitude=256.319366, ...)]"
      ]
     },
     "execution_count": 3,
     "metadata": {},
     "output_type": "execute_result"
    }
   ],
   "source": [
    "# download a minute of TREx RGB Burst data from several sites\n",
    "dataset_name = \"TREX_RGB_RAW_BURST\"\n",
    "start_dt = datetime.datetime(2023, 2, 24, 6, 15)\n",
    "end_dt = start_dt\n",
    "site_uid_list = ['fsmi','gill','rabb']\n",
    "data_download_objs = {}\n",
    "for site_uid in site_uid_list:\n",
    "    download_obj = aurorax.data.ucalgary.download(dataset_name, start_dt, end_dt, site_uid=site_uid)\n",
    "    data_download_objs[site_uid] = download_obj\n",
    "\n",
    "# Read in the data site-by-site, as we need this separation for mosaicing\n",
    "data_list = []\n",
    "for site_uid, download_obj in data_download_objs.items():\n",
    "    data_list.append(aurorax.data.ucalgary.read(download_obj.dataset, download_obj.filenames))\n",
    "\n",
    "\n",
    "# Get list of all skymaps in previous two years up to date of interest for each site\n",
    "skymap_download_objs = {}\n",
    "for site_uid in site_uid_list:\n",
    "    r = aurorax.data.ucalgary.download_best_skymap(\"TREX_RGB_SKYMAP_IDLSAV\", site_uid, start_dt)\n",
    "    skymap_download_objs[site_uid] = r\n",
    "\n",
    "# Read and store the last list index skymap for each site, as that is most recent to the date of interest\n",
    "skymaps = []\n",
    "for site_uid, download_obj in skymap_download_objs.items():\n",
    "\n",
    "    skymap = aurorax.data.ucalgary.read(download_obj.dataset, download_obj.filenames[-1])\n",
    "    skymaps.append(skymap.data[0])\n",
    "\n",
    "skymaps"
   ]
  },
  {
   "cell_type": "markdown",
   "metadata": {},
   "source": [
    "### **Step 2: Manually Resize Burst Data**\n",
    "\n",
    "The raw TREx RGB Burst data contains images of a larger size compared to the nominal raw data. In order to create a mosaic, we need to resize them to the size of the nominal RGB data (480,553), so that we can use the skymaps for georeferencing."
   ]
  },
  {
   "cell_type": "code",
   "execution_count": 4,
   "metadata": {},
   "outputs": [],
   "source": [
    "for i, data in enumerate(data_list):\n",
    "\n",
    "    # extract the images\n",
    "    images = data.data\n",
    "    timestamps = data.timestamp\n",
    "\n",
    "    resized_images = np.empty((480,553,3,images.shape[-1]))\n",
    "    resized_timestamps = []\n",
    "\n",
    "    # resize all images\n",
    "    for frame_idx in range(images.shape[-1]):\n",
    "        tmp_frame = np.squeeze(resized_images[:,:,:,frame_idx])\n",
    "        tmp_frame = cv2.resize(tmp_frame, (553, 480))\n",
    "        resized_images[:,:,:,frame_idx] = tmp_frame\n",
    "        resized_timestamps.append(timestamps[frame_idx])\n",
    "\n",
    "    # manually insert the images back into the data object\n",
    "    data_list[i].data = resized_images\n",
    "    data_list[i].timestamp = resized_timestamps"
   ]
  },
  {
   "cell_type": "markdown",
   "metadata": {},
   "source": [
    "### **Step 3: Build Mosaic in Usual Manner**\n",
    "Note: If creating a mosaic for a single frame of burst data, it would be computationally advantageous to also chop down the number of images in data, in the previous step, as preparing a full minute of burst data can take some time to process. "
   ]
  },
  {
   "cell_type": "code",
   "execution_count": 5,
   "metadata": {},
   "outputs": [
    {
     "data": {
      "application/vnd.jupyter.widget-view+json": {
       "model_id": "bf8efcb066c64f2680534f6ba8fed5d0",
       "version_major": 2,
       "version_minor": 0
      },
      "text/plain": [
       "Preparing skymaps:   0%|          | 0/3 [00:00<?, ?skymap/s]"
      ]
     },
     "metadata": {},
     "output_type": "display_data"
    },
    {
     "name": "stdout",
     "output_type": "stream",
     "text": [
      "0\n",
      "1\n",
      "2\n"
     ]
    },
    {
     "ename": "KeyboardInterrupt",
     "evalue": "",
     "output_type": "error",
     "traceback": [
      "\u001b[0;31m---------------------------------------------------------------------------\u001b[0m",
      "\u001b[0;31mKeyboardInterrupt\u001b[0m                         Traceback (most recent call last)",
      "Cell \u001b[0;32mIn[5], line 5\u001b[0m\n\u001b[1;32m      2\u001b[0m prepped_skymap \u001b[38;5;241m=\u001b[39m at\u001b[38;5;241m.\u001b[39mmosaic\u001b[38;5;241m.\u001b[39mprep_skymaps(skymaps, \u001b[38;5;241m110\u001b[39m, n_parallel\u001b[38;5;241m=\u001b[39m\u001b[38;5;241m3\u001b[39m)\n\u001b[1;32m      4\u001b[0m \u001b[38;5;66;03m# prepare the image data\u001b[39;00m\n\u001b[0;32m----> 5\u001b[0m prepped_images \u001b[38;5;241m=\u001b[39m \u001b[43mat\u001b[49m\u001b[38;5;241;43m.\u001b[39;49m\u001b[43mmosaic\u001b[49m\u001b[38;5;241;43m.\u001b[39;49m\u001b[43mprep_images\u001b[49m\u001b[43m(\u001b[49m\u001b[43mresized_data_list\u001b[49m\u001b[43m)\u001b[49m\n\u001b[1;32m      7\u001b[0m \u001b[38;5;66;03m# define the intensity scales for each site\u001b[39;00m\n\u001b[1;32m      8\u001b[0m scale \u001b[38;5;241m=\u001b[39m {\n\u001b[1;32m      9\u001b[0m     \u001b[38;5;124m\"\u001b[39m\u001b[38;5;124mfsmi\u001b[39m\u001b[38;5;124m\"\u001b[39m: [\u001b[38;5;241m10\u001b[39m, \u001b[38;5;241m105\u001b[39m],\n\u001b[1;32m     10\u001b[0m     \u001b[38;5;124m\"\u001b[39m\u001b[38;5;124mgill\u001b[39m\u001b[38;5;124m\"\u001b[39m: [\u001b[38;5;241m10\u001b[39m, \u001b[38;5;241m105\u001b[39m],\n\u001b[1;32m     11\u001b[0m     \u001b[38;5;124m\"\u001b[39m\u001b[38;5;124mrabb\u001b[39m\u001b[38;5;124m\"\u001b[39m: [\u001b[38;5;241m10\u001b[39m, \u001b[38;5;241m105\u001b[39m],\n\u001b[1;32m     12\u001b[0m }\n",
      "File \u001b[0;32m~/pyaurorax-v1-dev/pyaurorax/tools/mosaic/_prep_images.py:113\u001b[0m, in \u001b[0;36mprep_images\u001b[0;34m(image_list, data_attribute)\u001b[0m\n\u001b[1;32m    111\u001b[0m     expected_timestamps\u001b[38;5;241m.\u001b[39mappend(curr_dt)\n\u001b[1;32m    112\u001b[0m     expected_num_frames \u001b[38;5;241m+\u001b[39m\u001b[38;5;241m=\u001b[39m \u001b[38;5;241m1\u001b[39m\n\u001b[0;32m--> 113\u001b[0m     curr_dt \u001b[38;5;241m+\u001b[39m\u001b[38;5;241m=\u001b[39m \u001b[43mdatetime\u001b[49m\u001b[38;5;241;43m.\u001b[39;49m\u001b[43mtimedelta\u001b[49m\u001b[43m(\u001b[49m\u001b[43mseconds\u001b[49m\u001b[38;5;241;43m=\u001b[39;49m\u001b[43mcadence\u001b[49m\u001b[43m)\u001b[49m\n\u001b[1;32m    115\u001b[0m \u001b[38;5;66;03m# for each site\u001b[39;00m\n\u001b[1;32m    116\u001b[0m site_uid_list \u001b[38;5;241m=\u001b[39m []\n",
      "\u001b[0;31mKeyboardInterrupt\u001b[0m: "
     ]
    }
   ],
   "source": [
    "# NOTE: Currently seems to hang, I am guessing because of decimals in timestamps\n",
    "\n",
    "# # prepare the skymap data\n",
    "# prepped_skymap = at.mosaic.prep_skymaps(skymaps, 110, n_parallel=3)\n",
    "\n",
    "# # prepare the image data\n",
    "# prepped_images = at.mosaic.prep_images(resized_data_list)\n",
    "\n",
    "# # define the intensity scales for each site\n",
    "# scale = {\n",
    "#     \"fsmi\": [10, 105],\n",
    "#     \"gill\": [10, 105],\n",
    "#     \"rabb\": [10, 105],\n",
    "# }\n",
    "\n",
    "# # create projection\n",
    "# center_lat = -100.0\n",
    "# center_lon = 55.0\n",
    "# projection_obj = cartopy.crs.NearsidePerspective(central_longitude=center_lat, central_latitude=center_lon)\n",
    "\n",
    "# # create mosaic\n",
    "# frame_num = 5\n",
    "# mosaic = at.mosaic.create(prepped_images, prepped_skymap, frame_num, projection_obj, image_intensity_scales=scale)\n",
    "# print(mosaic)"
   ]
  }
 ],
 "metadata": {
  "kernelspec": {
   "display_name": "pyaurorax",
   "language": "python",
   "name": "python3"
  },
  "language_info": {
   "codemirror_mode": {
    "name": "ipython",
    "version": 3
   },
   "file_extension": ".py",
   "mimetype": "text/x-python",
   "name": "python",
   "nbconvert_exporter": "python",
   "pygments_lexer": "ipython3",
   "version": "3.9.19"
  }
 },
 "nbformat": 4,
 "nbformat_minor": 2
}
