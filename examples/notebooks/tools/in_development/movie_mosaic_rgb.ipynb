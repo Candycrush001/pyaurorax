{
 "cells": [
  {
   "cell_type": "code",
   "execution_count": 1,
   "metadata": {},
   "outputs": [
    {
     "data": {
      "text/html": [
       "<style>\n",
       ".cell-output-ipywidget-background {\n",
       "    background-color: transparent !important;\n",
       "}\n",
       ":root {\n",
       "    --jp-widgets-color: var(--vscode-editor-foreground);\n",
       "    --jp-widgets-font-size: var(--vscode-editor-font-size);\n",
       "}  \n",
       "\n",
       "</style>\n"
      ],
      "text/plain": [
       "<IPython.core.display.HTML object>"
      ]
     },
     "metadata": {},
     "output_type": "display_data"
    }
   ],
   "source": [
    "%%html\n",
    "<style>\n",
    ".cell-output-ipywidget-background {\n",
    "    background-color: transparent !important;\n",
    "}\n",
    ":root {\n",
    "    --jp-widgets-color: var(--vscode-editor-foreground);\n",
    "    --jp-widgets-font-size: var(--vscode-editor-font-size);\n",
    "}  \n",
    "\n",
    "</style>"
   ]
  },
  {
   "cell_type": "code",
   "execution_count": 2,
   "metadata": {},
   "outputs": [],
   "source": [
    "import datetime\n",
    "import pyaurorax\n",
    "import cartopy.crs\n",
    "import numpy as np\n",
    "from concurrent.futures import ProcessPoolExecutor\n",
    "\n",
    "aurorax = pyaurorax.PyAuroraX()\n",
    "at = aurorax.tools"
   ]
  },
  {
   "cell_type": "markdown",
   "metadata": {},
   "source": [
    "### **Step 1: Download and Read Necessary Data**"
   ]
  },
  {
   "cell_type": "code",
   "execution_count": 3,
   "metadata": {},
   "outputs": [
    {
     "data": {
      "application/vnd.jupyter.widget-view+json": {
       "model_id": "211d1d1150334d59abd873f2677754cb",
       "version_major": 2,
       "version_minor": 0
      },
      "text/plain": [
       "Downloading TREX_RGB_RAW_NOMINAL files:   0%|          | 0.00/34.6M [00:00<?, ?B/s]"
      ]
     },
     "metadata": {},
     "output_type": "display_data"
    },
    {
     "data": {
      "application/vnd.jupyter.widget-view+json": {
       "model_id": "73b4d60ed6744f87aba8131bb1f73402",
       "version_major": 2,
       "version_minor": 0
      },
      "text/plain": [
       "Downloading TREX_RGB_RAW_NOMINAL files:   0%|          | 0.00/35.8M [00:00<?, ?B/s]"
      ]
     },
     "metadata": {},
     "output_type": "display_data"
    },
    {
     "data": {
      "application/vnd.jupyter.widget-view+json": {
       "model_id": "29cd1f86880b431c950bf1fe47d73e93",
       "version_major": 2,
       "version_minor": 0
      },
      "text/plain": [
       "Downloading TREX_RGB_RAW_NOMINAL files:   0%|          | 0.00/38.7M [00:00<?, ?B/s]"
      ]
     },
     "metadata": {},
     "output_type": "display_data"
    },
    {
     "data": {
      "application/vnd.jupyter.widget-view+json": {
       "model_id": "1aec8c180d204499a888b176e146648f",
       "version_major": 2,
       "version_minor": 0
      },
      "text/plain": [
       "Downloading TREX_RGB_RAW_NOMINAL files:   0%|          | 0.00/29.3M [00:00<?, ?B/s]"
      ]
     },
     "metadata": {},
     "output_type": "display_data"
    },
    {
     "data": {
      "application/vnd.jupyter.widget-view+json": {
       "model_id": "d8a57ea4807244f085280298f03fad16",
       "version_major": 2,
       "version_minor": 0
      },
      "text/plain": [
       "Downloading TREX_RGB_RAW_NOMINAL files:   0%|          | 0.00/30.3M [00:00<?, ?B/s]"
      ]
     },
     "metadata": {},
     "output_type": "display_data"
    }
   ],
   "source": [
    "# Download 5 minutes of RGB data from several sites\n",
    "dataset_name = \"TREX_RGB_RAW_NOMINAL\"\n",
    "start_dt = datetime.datetime(2023, 2, 24, 6, 15)\n",
    "end_dt = datetime.datetime(2023, 2, 24, 6, 19)\n",
    "site_uid_list = ['yknf', 'gill', 'rabb', 'luck', 'atha']\n",
    "data_download_objs = {}\n",
    "for site_uid in site_uid_list:\n",
    "    download_obj = aurorax.data.ucalgary.download(dataset_name, start_dt, end_dt, site_uid=site_uid)\n",
    "    data_download_objs[site_uid] = download_obj\n",
    "\n",
    "# Read in the data site-by-site, as we need this separation for mosaicing\n",
    "data_list = []\n",
    "for site_uid, download_obj in data_download_objs.items():\n",
    "    data_list.append(aurorax.data.ucalgary.read(download_obj.dataset, download_obj.filenames))"
   ]
  },
  {
   "cell_type": "markdown",
   "metadata": {},
   "source": [
    "### **Step 2: Download Skymaps**"
   ]
  },
  {
   "cell_type": "code",
   "execution_count": 4,
   "metadata": {},
   "outputs": [
    {
     "data": {
      "application/vnd.jupyter.widget-view+json": {
       "model_id": "70890d1c50584a498e35b73c62a9bd73",
       "version_major": 2,
       "version_minor": 0
      },
      "text/plain": [
       "Downloading TREX_RGB_SKYMAP_IDLSAV files:   0%|          | 0.00/28.3M [00:00<?, ?B/s]"
      ]
     },
     "metadata": {},
     "output_type": "display_data"
    },
    {
     "data": {
      "application/vnd.jupyter.widget-view+json": {
       "model_id": "c1981abd77fb49a8858e163ad73469bf",
       "version_major": 2,
       "version_minor": 0
      },
      "text/plain": [
       "Downloading TREX_RGB_SKYMAP_IDLSAV files:   0%|          | 0.00/42.4M [00:00<?, ?B/s]"
      ]
     },
     "metadata": {},
     "output_type": "display_data"
    },
    {
     "data": {
      "application/vnd.jupyter.widget-view+json": {
       "model_id": "0ca5d30f4faf4430bff476abb307fdc2",
       "version_major": 2,
       "version_minor": 0
      },
      "text/plain": [
       "Downloading TREX_RGB_SKYMAP_IDLSAV files:   0%|          | 0.00/42.4M [00:00<?, ?B/s]"
      ]
     },
     "metadata": {},
     "output_type": "display_data"
    },
    {
     "data": {
      "application/vnd.jupyter.widget-view+json": {
       "model_id": "e4d0bf5db3cc45f3a4f5eb3138558652",
       "version_major": 2,
       "version_minor": 0
      },
      "text/plain": [
       "Downloading TREX_RGB_SKYMAP_IDLSAV files:   0%|          | 0.00/70.7M [00:00<?, ?B/s]"
      ]
     },
     "metadata": {},
     "output_type": "display_data"
    },
    {
     "data": {
      "application/vnd.jupyter.widget-view+json": {
       "model_id": "17024201db714530ba48fbd10a32344d",
       "version_major": 2,
       "version_minor": 0
      },
      "text/plain": [
       "Downloading TREX_RGB_SKYMAP_IDLSAV files:   0%|          | 0.00/42.4M [00:00<?, ?B/s]"
      ]
     },
     "metadata": {},
     "output_type": "display_data"
    },
    {
     "data": {
      "text/plain": [
       "[Skymap(project_uid=rgb, site_uid=yknf, imager_uid=rgb-08, site_map_latitude=62.519848, site_map_longitude=245.686966, ...),\n",
       " Skymap(project_uid=rgb, site_uid=gill, imager_uid=rgb-04, site_map_latitude=56.376724, site_map_longitude=265.356323, ...),\n",
       " Skymap(project_uid=rgb, site_uid=rabb, imager_uid=rgb-06, site_map_latitude=58.227810, site_map_longitude=256.319366, ...),\n",
       " Skymap(project_uid=rgb, site_uid=luck, imager_uid=rgb-03, site_map_latitude=51.153988, site_map_longitude=252.735260, ...),\n",
       " Skymap(project_uid=rgb, site_uid=atha, imager_uid=rgb-07, site_map_latitude=54.602631, site_map_longitude=246.355728, ...)]"
      ]
     },
     "execution_count": 4,
     "metadata": {},
     "output_type": "execute_result"
    }
   ],
   "source": [
    "# Get list of all skymaps in previous two years up to date of interest for each site\n",
    "skymap_download_objs = {}\n",
    "for site_uid in site_uid_list:\n",
    "    download_obj = aurorax.data.ucalgary.download(\n",
    "        \"TREX_RGB_SKYMAP_IDLSAV\",\n",
    "        start_dt.replace(year=start_dt.year - 2),\n",
    "        start_dt,\n",
    "        site_uid=site_uid,\n",
    "    )\n",
    "    skymap_download_objs[site_uid] = download_obj\n",
    "\n",
    "# Read and store the last list index skymap for each site, as that is most recent to the date of interest\n",
    "skymaps = []\n",
    "for site_uid, download_obj in skymap_download_objs.items():\n",
    "\n",
    "    skymap = aurorax.data.ucalgary.read(download_obj.dataset, download_obj.filenames[-1])\n",
    "    skymaps.append(skymap.data[0])\n",
    "\n",
    "skymaps"
   ]
  },
  {
   "cell_type": "markdown",
   "metadata": {},
   "source": [
    "### **Step 3: Prep Skymap and Image Data**"
   ]
  },
  {
   "cell_type": "code",
   "execution_count": 5,
   "metadata": {},
   "outputs": [
    {
     "data": {
      "application/vnd.jupyter.widget-view+json": {
       "model_id": "fa3a692cb2d34aef924e5cd7027c3b0e",
       "version_major": 2,
       "version_minor": 0
      },
      "text/plain": [
       "Preparing skymaps:   0%|          | 0/5 [00:00<?, ?skymap/s]"
      ]
     },
     "metadata": {},
     "output_type": "display_data"
    },
    {
     "data": {
      "text/plain": [
       "MosaicSkymap(polyfill_lat=array(dims=(5, 265440), dtype=float64), polyfill_lon=array(dims=(5, 265440), dtype=float64), elevation=array(dims=(265440,), dtype=float32), site_uid_list=['yknf', 'gill', 'rabb', 'luck', 'atha'])"
      ]
     },
     "execution_count": 5,
     "metadata": {},
     "output_type": "execute_result"
    }
   ],
   "source": [
    "# prepare the skymap data\n",
    "prepped_skymap = at.mosaic.prep_skymaps(skymaps, 110, n_parallel=5)\n",
    "prepped_skymap"
   ]
  },
  {
   "cell_type": "code",
   "execution_count": 6,
   "metadata": {},
   "outputs": [],
   "source": [
    "# prepare the image data\n",
    "prepped_images = at.mosaic.prep_images(data_list)\n",
    "prepped_images"
   ]
  },
  {
   "cell_type": "markdown",
   "metadata": {},
   "source": [
    "### **Step 4: Iteratively Generate and Save Mosaic Frames**\n",
    "Here, we will utilize multiprocessing for increased efficiency."
   ]
  },
  {
   "cell_type": "code",
   "execution_count": null,
   "metadata": {},
   "outputs": [],
   "source": [
    "# First set up some settings for the mosaic to be applied to all frames\n",
    "\n",
    "# define the intensity scales for each site\n",
    "scale = {\n",
    "    \"yknf\": [10, 105],\n",
    "    \"gill\": [10, 105],\n",
    "    \"rabb\": [10, 105],\n",
    "    \"luck\": [10, 105],\n",
    "    \"atha\": [10, 105],\n",
    "}\n",
    "\n",
    "# create projection\n",
    "center_lat = -100.0\n",
    "center_lon = 55.0\n",
    "projection_obj = cartopy.crs.NearsidePerspective(central_longitude=center_lat, central_latitude=center_lon)"
   ]
  },
  {
   "cell_type": "code",
   "execution_count": null,
   "metadata": {},
   "outputs": [
    {
     "name": "stdout",
     "output_type": "stream",
     "text": [
      "Image Data consists of 100 frames.\n"
     ]
    }
   ],
   "source": [
    "# Let's see how many frames we will be making\n",
    "print(f\"Image Data consists of {len(prepped_images.timestamps)} frames.\")"
   ]
  },
  {
   "cell_type": "code",
   "execution_count": null,
   "metadata": {},
   "outputs": [],
   "source": [
    "# Define all image indexes (0-99)\n",
    "#frame_idx_arr = np.arange(len(prepped_images.timestamps))\n",
    "frame_idx_arr = np.arange(0, 0)\n",
    "\n",
    "# We will process with 5 worker pools\n",
    "n_parallel = 5\n",
    "at.mosaic.create(\n",
    "    prepped_images,\n",
    "    prepped_skymap,\n",
    "    0,\n",
    "    projection_obj,\n",
    "    image_intensity_scales=scale,\n",
    ")\n",
    "\n",
    "# create_args = []\n",
    "# for frame_idx in frame_idx_arr:\n",
    "#         create_args.append({\n",
    "#                 \"prepped_images\": prepped_images,\n",
    "#                 \"prepped_skymap\": prepped_skymap,\n",
    "#                 \"frame_idx\": frame_idx,\n",
    "#                 \"projection\"\n",
    "#         })\n",
    "\n",
    "create_args = [[prepped_images, prepped_skymap, frame_idx, projection_obj, scale] for frame_idx in frame_idx_arr]\n",
    "from functools import partial\n",
    "\n",
    "\n",
    "def process_mosaic_frame(args):\n",
    "    m = at.mosaic.create(args[0], args[1], args[2], args[3], image_intensity_scales=args[4])\n",
    "    print(m)\n",
    "    return m\n",
    "\n",
    "\n",
    "# mosaic_objs = []\n",
    "# with ProcessPoolExecutor(max_workers=1) as executor:\n",
    "#     for result in executor.map(process_mosaic_frame, create_args):\n",
    "#         mosaic_objs.append(result)\n",
    "#         print(result)\n",
    "\n",
    "from concurrent.futures import as_completed\n",
    "\n",
    "with ProcessPoolExecutor(max_workers=1) as executor:\n",
    "        results = [executor.submit(process_mosaic_frame, create_arg) for create_arg in create_args]\n",
    "\n",
    "        for f in as_completed(results):\n",
    "                print(f.result())\n"
   ]
  }
 ],
 "metadata": {
  "kernelspec": {
   "display_name": "pyaurorax",
   "language": "python",
   "name": "python3"
  },
  "language_info": {
   "codemirror_mode": {
    "name": "ipython",
    "version": 3
   },
   "file_extension": ".py",
   "mimetype": "text/x-python",
   "name": "python",
   "nbconvert_exporter": "python",
   "pygments_lexer": "ipython3",
   "version": "3.9.19"
  }
 },
 "nbformat": 4,
 "nbformat_minor": 2
}
