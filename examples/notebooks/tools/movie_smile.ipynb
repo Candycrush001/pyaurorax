{
 "cells": [
  {
   "cell_type": "code",
   "execution_count": 1,
   "id": "fe50947f",
   "metadata": {},
   "outputs": [],
   "source": [
    "import datetime\n",
    "import pyaurorax\n",
    "\n",
    "aurorax = pyaurorax.PyAuroraX()\n",
    "at = aurorax.tools"
   ]
  },
  {
   "cell_type": "markdown",
   "id": "4560840d",
   "metadata": {},
   "source": [
    "# Create SMILE ASI movie\n",
    "\n",
    "There is a handy function available that makes a movie from any list of image files. This means that we need to generate the files first, and then pass the filenames into the function. \n",
    "\n",
    "Let's have a look at an example of making a movie for an hour of SMILE ASI data."
   ]
  },
  {
   "cell_type": "code",
   "execution_count": 2,
   "id": "89c3c4a7",
   "metadata": {},
   "outputs": [
    {
     "data": {
      "application/vnd.jupyter.widget-view+json": {
       "model_id": "3236a82250ef4a14a6fc3c9cf6bb574d",
       "version_major": 2,
       "version_minor": 0
      },
      "text/plain": [
       "Downloading SMILE_ASI_RAW files:   0%|          | 0.00/327M [00:00<?, ?B/s]"
      ]
     },
     "metadata": {},
     "output_type": "display_data"
    }
   ],
   "source": [
    "# download an hour of SMILE ASI data\n",
    "dataset_name = \"SMILE_ASI_RAW\"\n",
    "start_dt = datetime.datetime(2025, 1, 1, 9, 0)\n",
    "end_dt =datetime.datetime(2025, 1, 1, 9, 59)\n",
    "site_uid = \"luck\"\n",
    "r = aurorax.data.ucalgary.download(dataset_name, start_dt, end_dt, site_uid=site_uid)"
   ]
  },
  {
   "cell_type": "code",
   "execution_count": 3,
   "id": "c014920f",
   "metadata": {},
   "outputs": [],
   "source": [
    "# read in the hour of data\n",
    "data = aurorax.data.ucalgary.read(r.dataset, r.filenames, n_parallel=5)"
   ]
  },
  {
   "cell_type": "code",
   "execution_count": 4,
   "id": "dee38e2e",
   "metadata": {},
   "outputs": [],
   "source": [
    "# scale all the images\n",
    "#\n",
    "# NOTE: you can scale all images or just one image\n",
    "images_scaled = at.scale_intensity(data.data, min=10, max=70)"
   ]
  },
  {
   "cell_type": "markdown",
   "id": "d7653345",
   "metadata": {},
   "source": [
    "To prep the frames for the movie function, we'll use the `display()` function and have it return the figure, then we'll add some timestamp and other text to our liking.\n",
    "\n",
    "Since there's a lot of frames and this task is very parallel-friendly, we'll leverage Python's `multiprocessing` and `tqdm` libraries to help us speed things up."
   ]
  },
  {
   "cell_type": "code",
   "execution_count": 5,
   "id": "7dd8e1ce",
   "metadata": {},
   "outputs": [
    {
     "data": {
      "application/vnd.jupyter.widget-view+json": {
       "model_id": "4e9337ec3d4e496bbffe92540f34dfb4",
       "version_major": 2,
       "version_minor": 0
      },
      "text/plain": [
       "Generating frame files:   0%|          | 0/1200 [00:00<?, ?frames/s]"
      ]
     },
     "metadata": {},
     "output_type": "display_data"
    }
   ],
   "source": [
    "import os\n",
    "import platform\n",
    "import matplotlib.pyplot as plt\n",
    "from tqdm.contrib.concurrent import process_map as tqdm_process_map\n",
    "from tqdm import tqdm\n",
    "\n",
    "\n",
    "def process_frame(i):\n",
    "    _, ax = at.display(images_scaled[:, :, :, i], returnfig=True)\n",
    "    ax.text(5, 450, \"SMILE ASI\", color=\"white\", size=16)\n",
    "    ax.text(5, 420, f\"{site_uid.upper()}\", color=\"white\", size=16)\n",
    "    ax.text(350, 8, data.timestamp[i].strftime(\"%Y-%m-%d %H:%M:%S UTC\"), color=\"white\", size=11)\n",
    "    filename = \"movie_frames/%s_%s_luck_smile_asi.png\" % (data.timestamp[i].strftime(\"%Y%m%d_%H%M%S\"), site_uid)\n",
    "    os.makedirs(os.path.dirname(filename), exist_ok=True)\n",
    "    plt.savefig(filename, bbox_inches=\"tight\")\n",
    "    plt.close()\n",
    "    return filename\n",
    "\n",
    "\n",
    "if (platform.system() == \"Windows\"):\n",
    "    # pre-process frames serially\n",
    "    #\n",
    "    # NOTE: multiprocessing on Windows from within a notebook is not too easy, so we'll\n",
    "    # just do this serially.\n",
    "    frame_filename_list = []\n",
    "    for i in tqdm(range(0, images_scaled.shape[-1]), total=images_scaled.shape[-1], desc=\"Generating frame files: \", unit=\"frames\"):\n",
    "        frame_filename_list.append(process_frame(i))\n",
    "else:\n",
    "    frame_filename_list = tqdm_process_map(\n",
    "        process_frame,\n",
    "        range(0, images_scaled.shape[-1]),\n",
    "        max_workers=5,\n",
    "        chunksize=1,\n",
    "        desc=\"Generating frame files: \",\n",
    "        unit=\"frames\",\n",
    "    )"
   ]
  },
  {
   "cell_type": "markdown",
   "id": "ab617c9e",
   "metadata": {},
   "source": [
    "Now that we have our frames saved to disk, we'll use the `movie()` function to create the movie."
   ]
  },
  {
   "cell_type": "code",
   "execution_count": 6,
   "id": "26db5869",
   "metadata": {},
   "outputs": [
    {
     "data": {
      "application/vnd.jupyter.widget-view+json": {
       "model_id": "2638d1cf151b45878e5a22b9341101d6",
       "version_major": 2,
       "version_minor": 0
      },
      "text/plain": [
       "Reading files:   0%|          | 0/1200 [00:00<?, ?files/s]"
      ]
     },
     "metadata": {},
     "output_type": "display_data"
    },
    {
     "data": {
      "application/vnd.jupyter.widget-view+json": {
       "model_id": "d60c3168cc38419898b102f26182b1d6",
       "version_major": 2,
       "version_minor": 0
      },
      "text/plain": [
       "Encoding frames:   0%|          | 0/1200 [00:00<?, ?frames/s]"
      ]
     },
     "metadata": {},
     "output_type": "display_data"
    }
   ],
   "source": [
    "# generate the movie\n",
    "at.movie(frame_filename_list, \"test.mp4\", n_parallel=5)"
   ]
  }
 ],
 "metadata": {
  "kernelspec": {
   "display_name": "pyaurorax311",
   "language": "python",
   "name": "python3"
  },
  "language_info": {
   "codemirror_mode": {
    "name": "ipython",
    "version": 3
   },
   "file_extension": ".py",
   "mimetype": "text/x-python",
   "name": "python",
   "nbconvert_exporter": "python",
   "pygments_lexer": "ipython3",
   "version": "3.11.11"
  }
 },
 "nbformat": 4,
 "nbformat_minor": 5
}
