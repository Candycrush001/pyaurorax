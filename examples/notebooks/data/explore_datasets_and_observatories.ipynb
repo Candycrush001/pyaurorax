{
 "cells": [
  {
   "cell_type": "code",
   "execution_count": 1,
   "metadata": {},
   "outputs": [],
   "source": [
    "import pyaurorax\n",
    "\n",
    "aurorax = pyaurorax.PyAuroraX()"
   ]
  },
  {
   "cell_type": "markdown",
   "metadata": {},
   "source": [
    "# Explore datasets\n",
    "\n",
    "All data available is organized by unique 'dataset' identifier strings, similar to CDAWeb. For example, `THEMIS_ASI_RAW` is the dataset name for the raw THEMIS all-sky imager data, one of the common datasets for that instrument array.\n",
    "\n",
    "There are a few functions to help explore the available datasets and information about them. There is `list_datasets()` to retrieve any datasets matching optional filters, `list_datasets_in_table()` which does the same thing but displays the results in a nice table to help with readability, and `get_dataset()` which retrieves a specific single dataset.\n",
    "\n",
    "You can also navigate to the [Dataset Descriptions](https://data.phys.ucalgary.ca/about_datasets) page and navigate to a particular instrument page. There, you will find a listing of all available (and commonly utilized) datasets for an instrument, along with instrument location/field-of-view maps, and observatory locations.\n",
    "\n",
    "Each dataset has a few attributes. For example, DOI and citation information, data tree location, and provider."
   ]
  },
  {
   "cell_type": "code",
   "execution_count": 2,
   "metadata": {},
   "outputs": [
    {
     "name": "stdout",
     "output_type": "stream",
     "text": [
      "Found 73 datasets\n"
     ]
    }
   ],
   "source": [
    "# list all datasets\n",
    "datasets = aurorax.data.list_datasets()\n",
    "\n",
    "print(\"Found %d datasets\" % (len(datasets)))"
   ]
  },
  {
   "cell_type": "code",
   "execution_count": 3,
   "metadata": {},
   "outputs": [
    {
     "name": "stdout",
     "output_type": "stream",
     "text": [
      "Dataset(name=REGO_CALIBRATION_FLATFIELD_IDLSAV, short_description='REGO All Sky Imagers Flatfield calibration data (IDL save format)', provider='UCalgary', level='L3', doi_details='https://commons.datacite.org/doi.org/10.11575/z7x6-5c42', ...)\n",
      "\n",
      "Dataset:\n",
      "  citation                : Spanswick, E., & Donovan, E. (2014). Redline Geospace Observatory (REGO) dataset [Data set]. University of Calgary. https://doi.org/10.11575/Z7X6-5C42\n",
      "  data_tree_url           : https://data.phys.ucalgary.ca/sort_by_project/GO-Canada/REGO/calibration\n",
      "  doi                     : https://doi.org/10.11575/Z7X6-5C42\n",
      "  doi_details             : https://commons.datacite.org/doi.org/10.11575/z7x6-5c42\n",
      "  file_listing_supported  : True\n",
      "  file_reading_supported  : True\n",
      "  file_time_resolution    : not_applicable\n",
      "  level                   : L3\n",
      "  long_description        : Redline Geospace Observatory (REGO) All Sky Imager array. More information can be found at https://data.phys.ucalgary.ca\n",
      "  name                    : REGO_CALIBRATION_FLATFIELD_IDLSAV\n",
      "  provider                : UCalgary\n",
      "  short_description       : REGO All Sky Imagers Flatfield calibration data (IDL save format)\n",
      "  supported_libraries     : ['idl-aurorax', 'pyaurorax', 'pyucalgarysrs']\n"
     ]
    }
   ],
   "source": [
    "# view the first dataset\n",
    "print(datasets[0])\n",
    "print()\n",
    "\n",
    "# show a nice printout of the dataset information\n",
    "#\n",
    "# NOTE: for most objects in PyAuroraX, we provide a 'pretty_print()' method which\n",
    "# displays class variables in a similar more legible way.\n",
    "datasets[0].pretty_print()\n"
   ]
  },
  {
   "cell_type": "code",
   "execution_count": 4,
   "metadata": {},
   "outputs": [
    {
     "name": "stdout",
     "output_type": "stream",
     "text": [
      "Name                                     Provider   Level   DOI Details                                                             Short Description                                                   \n",
      "========================================================================================================================================================================================================\n",
      "REGO_CALIBRATION_FLATFIELD_IDLSAV        UCalgary   L3      https://commons.datacite.org/doi.org/10.11575/z7x6-5c42                 REGO All Sky Imagers Flatfield calibration data (IDL save format)   \n",
      "REGO_CALIBRATION_RAYLEIGHS_IDLSAV        UCalgary   L3      https://commons.datacite.org/doi.org/10.11575/z7x6-5c42                 REGO All Sky Imagers Rayleighs calibration data (IDL save format)   \n",
      "REGO_DAILY_KEOGRAM_JPG                   UCalgary   L2      https://commons.datacite.org/doi.org/10.11575/z7x6-5c42                 REGO All Sky Imagers daily keogram summary product (JPG format)     \n",
      "REGO_DAILY_KEOGRAM_PGM                   UCalgary   L2      https://commons.datacite.org/doi.org/10.11575/z7x6-5c42                 REGO All Sky Imagers daily keogram summary product (PGM format)     \n",
      "REGO_DAILY_KEOGRAM_PNG                   UCalgary   L2      https://commons.datacite.org/doi.org/10.11575/z7x6-5c42                 REGO All Sky Imagers daily keogram summary product (PNG format)     \n",
      "REGO_DAILY_MONTAGE_JPG                   UCalgary   L2      https://commons.datacite.org/doi.org/10.11575/z7x6-5c42                 REGO All Sky Imagers daily montage summary product (JPG format)     \n",
      "REGO_DAILY_MONTAGE_PGM                   UCalgary   L2      https://commons.datacite.org/doi.org/10.11575/z7x6-5c42                 REGO All Sky Imagers daily montage summary product (PGM format)     \n",
      "REGO_DAILY_MONTAGE_PNG                   UCalgary   L2      https://commons.datacite.org/doi.org/10.11575/z7x6-5c42                 REGO All Sky Imagers daily montage summary product (PNG format)     \n",
      "REGO_GRID_MOSV001                        UCalgary   L3      https://commons.datacite.org/doi.org/10.11575/z7x6-5c42                 REGO All Sky Imagers MOSv001 verified grid files (corner subtracted,\n",
      "                                                                                                                                    flatfield corrected, rayleighs converted, intensity grid priority)  \n",
      "REGO_HOURLY_KEOGRAM_JPG                  UCalgary   L2      https://commons.datacite.org/doi.org/10.11575/z7x6-5c42                 REGO All Sky Imagers hourly keogram summary product (JPG format)    \n",
      "REGO_HOURLY_KEOGRAM_PGM                  UCalgary   L2      https://commons.datacite.org/doi.org/10.11575/z7x6-5c42                 REGO All Sky Imagers hourly keogram summary product (PGM format)    \n",
      "REGO_HOURLY_KEOGRAM_PNG                  UCalgary   L2      https://commons.datacite.org/doi.org/10.11575/z7x6-5c42                 REGO All Sky Imagers hourly keogram summary product (PNG format)    \n",
      "REGO_HOURLY_MONTAGE_JPG                  UCalgary   L2      https://commons.datacite.org/doi.org/10.11575/z7x6-5c42                 REGO All Sky Imagers hourly montage summary product (JPG format)    \n",
      "REGO_HOURLY_MONTAGE_PGM                  UCalgary   L2      https://commons.datacite.org/doi.org/10.11575/z7x6-5c42                 REGO All Sky Imagers hourly montage summary product (PGM format)    \n",
      "REGO_HOURLY_MONTAGE_PNG                  UCalgary   L2      https://commons.datacite.org/doi.org/10.11575/z7x6-5c42                 REGO All Sky Imagers hourly montage summary product (PNG format)    \n",
      "REGO_RAW                                 UCalgary   L0      https://commons.datacite.org/doi.org/10.11575/z7x6-5c42                 REGO All Sky Imagers 3-sec raw data                                 \n",
      "REGO_SKYMAP_IDLSAV                       UCalgary   L3      https://commons.datacite.org/doi.org/10.11575/z7x6-5c42                 REGO All Sky Imagers skymap data (IDL save format)                  \n",
      "THEMIS_ASI_DAILY_KEOGRAM_JPG             UCalgary   L2      None                                                                    THEMIS All Sky Imagers daily keogram summary product (JPG format)   \n",
      "THEMIS_ASI_DAILY_KEOGRAM_PGM             UCalgary   L2      None                                                                    THEMIS All Sky Imagers daily keogram summary product (PGM format)   \n",
      "THEMIS_ASI_DAILY_MONTAGE_JPG             UCalgary   L2      None                                                                    THEMIS All Sky Imagers daily montage summary product (JPG format)   \n",
      "THEMIS_ASI_DAILY_MONTAGE_PGM             UCalgary   L2      None                                                                    THEMIS All Sky Imagers daily montage summary product (PGM format)   \n",
      "THEMIS_ASI_GRID_MOSU001                  UCalgary   L3      None                                                                    THEMIS All Sky Imagers MOSu001 unverified grid files (corner        \n",
      "                                                                                                                                    subtracted, intensity grid priority, ML cloud detection)            \n",
      "THEMIS_ASI_GRID_MOSV001                  UCalgary   L3      None                                                                    THEMIS All Sky Imagers MOSv001 verified grid files (corner          \n",
      "                                                                                                                                    subtracted, intensity grid priority)                                \n",
      "THEMIS_ASI_HOURLY_AVERAGE_JPG            UCalgary   L2      None                                                                    THEMIS All Sky Imagers hourly average summary product (JPG format)  \n",
      "THEMIS_ASI_HOURLY_AVERAGE_PGM            UCalgary   L2      None                                                                    THEMIS All Sky Imagers hourly average summary product (PGM format)  \n",
      "THEMIS_ASI_HOURLY_KEOGRAM_JPG            UCalgary   L2      None                                                                    THEMIS All Sky Imagers hourly keogram summary product (JPG format)  \n",
      "THEMIS_ASI_HOURLY_KEOGRAM_PGM            UCalgary   L2      None                                                                    THEMIS All Sky Imagers hourly keogram summary product (PGM format)  \n",
      "THEMIS_ASI_HOURLY_MONTAGE_JPG            UCalgary   L2      None                                                                    THEMIS All Sky Imagers hourly montage summary product (JPG format)  \n",
      "THEMIS_ASI_HOURLY_MONTAGE_PGM            UCalgary   L2      None                                                                    THEMIS All Sky Imagers hourly montage summary product (PGM format)  \n",
      "THEMIS_ASI_RAW                           UCalgary   L0      None                                                                    THEMIS All Sky Imagers 3-sec raw data                               \n",
      "THEMIS_ASI_RAW_ROW2                      UCalgary   L0      None                                                                    THEMIS All Sky Imagers raw row2 data                                \n",
      "THEMIS_ASI_RAW_WIDE                      UCalgary   L0      None                                                                    THEMIS All Sky Imagers raw wide data                                \n",
      "THEMIS_ASI_SKYMAP_IDLSAV                 UCalgary   L3      None                                                                    THEMIS All Sky Imagers skymap data (IDL save format)                \n",
      "THEMIS_ASI_THUMB32                       UCalgary   L1A     None                                                                    THEMIS All Sky Imagers thumb32 data                                 \n",
      "THEMIS_ASI_VEC1024                       UCalgary   L1A     None                                                                    THEMIS All Sky Imagers vec1024 data                                 \n",
      "TREX_BLUE_CALIBRATION_FLATFIELD_IDLSAV   UCalgary   L3      https://commons.datacite.org/doi.org/10.11575/80pf-0p02                 TREx Blueline All Sky Imagers Flatfield calibration data (IDL save  \n",
      "                                                                                                                                    format)                                                             \n",
      "TREX_BLUE_CALIBRATION_RAYLEIGHS_IDLSAV   UCalgary   L3      https://commons.datacite.org/doi.org/10.11575/80pf-0p02                 TREx Blueline All Sky Imagers Rayleighs calibration data (IDL save  \n",
      "                                                                                                                                    format)                                                             \n",
      "TREX_BLUE_DAILY_KEOGRAM_PGM              UCalgary   L2      https://commons.datacite.org/doi.org/10.11575/80pf-0p02                 TREx Blueline All Sky Imagers daily keogram summary product (PGM    \n",
      "                                                                                                                                    format)                                                             \n",
      "TREX_BLUE_DAILY_KEOGRAM_PNG              UCalgary   L2      https://commons.datacite.org/doi.org/10.11575/80pf-0p02                 TREx Blueline All Sky Imagers daily keogram summary product (PNG    \n",
      "                                                                                                                                    format)                                                             \n",
      "TREX_BLUE_DAILY_MONTAGE_PGM              UCalgary   L2      https://commons.datacite.org/doi.org/10.11575/80pf-0p02                 TREx Blueline All Sky Imagers daily montage summary product (PGM    \n",
      "                                                                                                                                    format)                                                             \n",
      "TREX_BLUE_DAILY_MONTAGE_PNG              UCalgary   L2      https://commons.datacite.org/doi.org/10.11575/80pf-0p02                 TREx Blueline All Sky Imagers daily montage summary product (PNG    \n",
      "                                                                                                                                    format)                                                             \n",
      "TREX_BLUE_GRID_MOSV001                   UCalgary   L3      https://commons.datacite.org/doi.org/10.11575/80pf-0p02                 TREx Blueline All Sky Imagers MOSv001 verified grid files (raw data,\n",
      "                                                                                                                                    intensity grid priority)                                            \n",
      "TREX_BLUE_HOURLY_KEOGRAM_PGM             UCalgary   L2      https://commons.datacite.org/doi.org/10.11575/80pf-0p02                 TREx Blueline All Sky Imagers hourly keogram summary product (PGM   \n",
      "                                                                                                                                    format)                                                             \n",
      "TREX_BLUE_HOURLY_KEOGRAM_PNG             UCalgary   L2      https://commons.datacite.org/doi.org/10.11575/80pf-0p02                 TREx Blueline All Sky Imagers hourly keogram summary product (PNG   \n",
      "                                                                                                                                    format)                                                             \n",
      "TREX_BLUE_HOURLY_MONTAGE_PGM             UCalgary   L2      https://commons.datacite.org/doi.org/10.11575/80pf-0p02                 TREx Blueline All Sky Imagers hourly montage summary product (PGM   \n",
      "                                                                                                                                    format)                                                             \n",
      "TREX_BLUE_HOURLY_MONTAGE_PNG             UCalgary   L2      https://commons.datacite.org/doi.org/10.11575/80pf-0p02                 TREx Blueline All Sky Imagers hourly montage summary product (PNG   \n",
      "                                                                                                                                    format)                                                             \n",
      "TREX_BLUE_RAW                            UCalgary   L0      https://commons.datacite.org/doi.org/10.11575/80pf-0p02                 TREx Blueline All Sky Imagers 3-sec raw data                        \n",
      "TREX_BLUE_SKYMAP_IDLSAV                  UCalgary   L3      https://commons.datacite.org/doi.org/10.11575/80pf-0p02                 TREx Blueline All Sky Imagers skymap data (IDL save format)         \n",
      "TREX_NIR_CALIBRATION_FLATFIELD_IDLSAV    UCalgary   L3      https://commons.datacite.org/doi.org/10.11575/98w7-jp47                 TREx NIR All Sky Imagers Flatfield calibration data (IDL save       \n",
      "                                                                                                                                    format)                                                             \n",
      "TREX_NIR_CALIBRATION_RAYLEIGHS_IDLSAV    UCalgary   L3      https://commons.datacite.org/doi.org/10.11575/98w7-jp47                 TREx NIR All Sky Imagers Rayleighs calibration data (IDL save       \n",
      "                                                                                                                                    format)                                                             \n",
      "TREX_NIR_DAILY_KEOGRAM_PGM               UCalgary   L2      https://commons.datacite.org/doi.org/10.11575/98w7-jp47                 TREx NIR All Sky Imagers daily keogram summary product (PGM format) \n",
      "TREX_NIR_DAILY_KEOGRAM_PNG               UCalgary   L2      https://commons.datacite.org/doi.org/10.11575/98w7-jp47                 TREx NIR All Sky Imagers daily keogram summary product (PNG format) \n",
      "TREX_NIR_DAILY_MONTAGE_PGM               UCalgary   L2      https://commons.datacite.org/doi.org/10.11575/98w7-jp47                 TREx NIR All Sky Imagers daily montage summary product (PGM format) \n",
      "TREX_NIR_DAILY_MONTAGE_PNG               UCalgary   L2      https://commons.datacite.org/doi.org/10.11575/98w7-jp47                 TREx NIR All Sky Imagers daily montage summary product (PNG format) \n",
      "TREX_NIR_GRID_MOSV001                    UCalgary   L3      https://commons.datacite.org/doi.org/10.11575/98w7-jp47                 TREx NIR All Sky Imagers MOSv001 verified grid files (raw data,     \n",
      "                                                                                                                                    intensity grid priority)                                            \n",
      "TREX_NIR_HOURLY_KEOGRAM_PGM              UCalgary   L2      https://commons.datacite.org/doi.org/10.11575/98w7-jp47                 TREx NIR All Sky Imagers hourly keogram summary product (PGM format)\n",
      "TREX_NIR_HOURLY_KEOGRAM_PNG              UCalgary   L2      https://commons.datacite.org/doi.org/10.11575/98w7-jp47                 TREx NIR All Sky Imagers hourly keogram summary product (PNG format)\n",
      "TREX_NIR_HOURLY_MONTAGE_PGM              UCalgary   L2      https://commons.datacite.org/doi.org/10.11575/98w7-jp47                 TREx NIR All Sky Imagers hourly montage summary product (PGM format)\n",
      "TREX_NIR_HOURLY_MONTAGE_PNG              UCalgary   L2      https://commons.datacite.org/doi.org/10.11575/98w7-jp47                 TREx NIR All Sky Imagers hourly montage summary product (PNG format)\n",
      "TREX_NIR_RAW                             UCalgary   L0      https://commons.datacite.org/doi.org/10.11575/98w7-jp47                 TREx NIR All Sky Imagers 6-sec raw data                             \n",
      "TREX_NIR_SKYMAP_IDLSAV                   UCalgary   L3      https://commons.datacite.org/doi.org/10.11575/98w7-jp47                 TREx NIR All Sky Imagers skymap data (IDL save format)              \n",
      "TREX_RGB5577_GRID_MOSV001                UCalgary   L3      https://doi.org/10.26464/epp2023063,                                    TREx RGB All Sky Imager derived 557.7nm emission MOSv001 verified   \n",
      "                                                            https://commons.datacite.org/doi.org/10.11575/4p8e-1k65                 grid files (intensity grid priority)                                \n",
      "TREX_RGB_DAILY_KEOGRAM                   UCalgary   L2      https://commons.datacite.org/doi.org/10.11575/4p8e-1k65                 TREx RGB All Sky Imagers daily keogram summary product              \n",
      "TREX_RGB_DAILY_MONTAGE                   UCalgary   L2      https://commons.datacite.org/doi.org/10.11575/4p8e-1k65                 TREx RGB All Sky Imagers daily montage summary product              \n",
      "TREX_RGB_GRID_MOSV001                    UCalgary   L3      https://commons.datacite.org/doi.org/10.11575/4p8e-1k65                 TREx RGB All Sky Imagers MOSv001 verified grid files (raw data,     \n",
      "                                                                                                                                    intensity grid priority)                                            \n",
      "TREX_RGB_HOURLY_KEOGRAM                  UCalgary   L2      https://commons.datacite.org/doi.org/10.11575/4p8e-1k65                 TREx RGB All Sky Imagers hourly keogram summary product             \n",
      "TREX_RGB_HOURLY_MONTAGE                  UCalgary   L2      https://commons.datacite.org/doi.org/10.11575/4p8e-1k65                 TREx RGB All Sky Imagers hourly montage summary product             \n",
      "TREX_RGB_RAW_BURST                       UCalgary   L0      https://commons.datacite.org/doi.org/10.11575/4p8e-1k65                 TREx RGB All Sky Imagers 3Hz raw burst data                         \n",
      "TREX_RGB_RAW_NOMINAL                     UCalgary   L0      https://commons.datacite.org/doi.org/10.11575/4p8e-1k65                 TREx RGB All Sky Imagers 3-sec raw data                             \n",
      "TREX_RGB_SKYMAP_IDLSAV                   UCalgary   L3      https://commons.datacite.org/doi.org/10.11575/4p8e-1k65                 TREx RGB All Sky Imagers skymap data (IDL save format)              \n",
      "TREX_SPECT_PROCESSED_V1                  UCalgary   L1      https://commons.datacite.org/doi.org/10.11575/2wnp-yc80                 TREx Spectrograph 15-sec processed data, version 1 (calibrated, de- \n",
      "                                                                                                                                    smiled)                                                             \n",
      "TREX_SPECT_RAW                           UCalgary   L0      https://commons.datacite.org/doi.org/10.11575/2wnp-yc80                 TREx Spectrograph 15-sec raw data                                   \n",
      "TREX_SPECT_SKYMAP_IDLSAV                 UCalgary   L3      https://commons.datacite.org/doi.org/10.11575/2wnp-yc80                 TREx Spectrograph skymap data (IDL save format)                     \n"
     ]
    }
   ],
   "source": [
    "# print all datasets in a tabular format\n",
    "aurorax.data.list_datasets_in_table()"
   ]
  },
  {
   "cell_type": "markdown",
   "metadata": {},
   "source": [
    "# Explore observatories\n",
    "\n",
    "A set of observatories are available for each instrument array. These observatories provide information about the sites where data was produced during the array operations. Each observatory object provides site code and full names, along with their geodetic latitude and longitude.\n",
    "\n",
    "You can use the `list_observatories()` function to retrieve all, and `list_observatories_in_table()` to again show the information in a tabular form. To determine the valid 'instrument_array' values, please refer to the PyAuroraX API reference, or utilize the type hinting built into common editors such as VSCode."
   ]
  },
  {
   "cell_type": "code",
   "execution_count": 5,
   "metadata": {},
   "outputs": [
    {
     "name": "stdout",
     "output_type": "stream",
     "text": [
      "Found 24 observatories\n"
     ]
    }
   ],
   "source": [
    "# list all observatories for THEMIS ASI\n",
    "observatories = aurorax.data.list_observatories(\"themis_asi\")\n",
    "\n",
    "print(\"Found %d observatories\" % (len(observatories)))"
   ]
  },
  {
   "cell_type": "code",
   "execution_count": 6,
   "metadata": {},
   "outputs": [
    {
     "name": "stdout",
     "output_type": "stream",
     "text": [
      "Observatory(uid=atha, full_name='Athabasca, AB, Canada', geodetic_latitude=54.6, geodetic_longitude=-113.64, provider='UCalgary')\n",
      "\n",
      "Observatory:\n",
      "  full_name          : Athabasca, AB, Canada\n",
      "  geodetic_latitude  : 54.6\n",
      "  geodetic_longitude : -113.64\n",
      "  provider           : UCalgary\n",
      "  uid                : atha\n"
     ]
    }
   ],
   "source": [
    "# view the first observatory\n",
    "print(observatories[0])\n",
    "print()\n",
    "\n",
    "# show a nice printout of the observatory information\n",
    "observatories[0].pretty_print()"
   ]
  },
  {
   "cell_type": "code",
   "execution_count": 7,
   "metadata": {},
   "outputs": [
    {
     "name": "stdout",
     "output_type": "stream",
     "text": [
      "UID    Full Name                   Geodetic Latitude   Geodetic Longitude   Provider\n",
      "====================================================================================\n",
      "atha   Athabasca, AB, Canada       54.6                -113.64              UCalgary\n",
      "chbg   Chibougamau, QC, Canada     49.81               -74.42               UCalgary\n",
      "ekat   Ekati, NWT, Canada          64.73               -110.67              UCalgary\n",
      "fsim   Fort Simpson, NWT, Canada   61.76               -121.27              UCalgary\n",
      "fsmi   Fort Smith, NWT, Canada     60.03               -111.93              UCalgary\n",
      "fykn   Fort Yukon, AK, USA         66.56               -145.21              UCalgary\n",
      "gako   Gakona, AK, USA             62.41               -145.16              UCalgary\n",
      "gbay   Goose Bay, NL, Canada       53.32               -60.46               UCalgary\n",
      "gill   Gillam, MB, Canada          56.38               -94.64               UCalgary\n",
      "inuv   Inuvik, NWT, Canada         68.41               -133.77              UCalgary\n",
      "kapu   Kapuskasing, ON, Canada     49.39               -82.32               UCalgary\n",
      "kian   Kiana, AK, USA              66.97               -160.44              UCalgary\n",
      "kuuj   Kuujjuaq, QC, Canada        58.11               -68.41               UCalgary\n",
      "mcgr   McGrath, AK, USA            62.95               -155.6               UCalgary\n",
      "nrsq   Narsarsuaq, Greenland       61.16               -45.44               UCalgary\n",
      "pgeo   Prince George, BC, Canada   53.76               -122.85              UCalgary\n",
      "pina   Pinawa, MB, Canada          50.26               -95.87               UCalgary\n",
      "rank   Rankin Inlet, NU, Canada    62.82               -92.11               UCalgary\n",
      "snap   Snap Lake, NWT, Canada      63.56               -110.87              UCalgary\n",
      "snkq   Sanikiluaq, NU, Canada      56.54               -79.23               UCalgary\n",
      "talo   Taloyoak, NU, Canada        69.54               -93.56               UCalgary\n",
      "tpas   The Pas, MB, Canada         53.99               -100.94              UCalgary\n",
      "whit   Whitehorse, YK, Canada      60.62               -135.01              UCalgary\n",
      "yknf   Yellowknife, NWT, Canada    62.52               -114.31              UCalgary\n"
     ]
    }
   ],
   "source": [
    "# print all THEMIS ASI observatories in a tabular format\n",
    "aurorax.data.list_observatories_in_table(\"themis_asi\")"
   ]
  },
  {
   "cell_type": "code",
   "execution_count": null,
   "metadata": {},
   "outputs": [],
   "source": []
  }
 ],
 "metadata": {
  "kernelspec": {
   "display_name": "pyaurorax39",
   "language": "python",
   "name": "python3"
  },
  "language_info": {
   "codemirror_mode": {
    "name": "ipython",
    "version": 3
   },
   "file_extension": ".py",
   "mimetype": "text/x-python",
   "name": "python",
   "nbconvert_exporter": "python",
   "pygments_lexer": "ipython3",
   "version": "3.9.19"
  }
 },
 "nbformat": 4,
 "nbformat_minor": 2
}
