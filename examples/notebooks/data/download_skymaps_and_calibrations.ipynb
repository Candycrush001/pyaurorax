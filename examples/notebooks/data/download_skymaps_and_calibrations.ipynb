{
 "cells": [
  {
   "cell_type": "code",
   "execution_count": 1,
   "metadata": {},
   "outputs": [
    {
     "data": {
      "text/html": [
       "<style>\n",
       ".cell-output-ipywidget-background {\n",
       "    background-color: transparent !important;\n",
       "}\n",
       ":root {\n",
       "    --jp-widgets-color: var(--vscode-editor-foreground);\n",
       "    --jp-widgets-font-size: var(--vscode-editor-font-size);\n",
       "}  \n",
       "</style>\n"
      ],
      "text/plain": [
       "<IPython.core.display.HTML object>"
      ]
     },
     "metadata": {},
     "output_type": "display_data"
    }
   ],
   "source": [
    "%%html\n",
    "<style>\n",
    ".cell-output-ipywidget-background {\n",
    "    background-color: transparent !important;\n",
    "}\n",
    ":root {\n",
    "    --jp-widgets-color: var(--vscode-editor-foreground);\n",
    "    --jp-widgets-font-size: var(--vscode-editor-font-size);\n",
    "}  \n",
    "</style>"
   ]
  },
  {
   "cell_type": "code",
   "execution_count": 2,
   "metadata": {},
   "outputs": [],
   "source": [
    "import datetime\n",
    "import pprint\n",
    "import pyaurorax\n",
    "\n",
    "aurorax = pyaurorax.PyAuroraX()"
   ]
  },
  {
   "cell_type": "markdown",
   "metadata": {},
   "source": [
    "# Skymaps"
   ]
  },
  {
   "cell_type": "code",
   "execution_count": 3,
   "metadata": {},
   "outputs": [
    {
     "name": "stdout",
     "output_type": "stream",
     "text": [
      "Name                       Provider   Level   DOI Details                                               Short Description                                          \n",
      "===================================================================================================================================================================\n",
      "REGO_SKYMAP_IDLSAV         UCalgary   L3      https://commons.datacite.org/doi.org/10.11575/z7x6-5c42   REGO All Sky Imagers skymap data (IDL save format)         \n",
      "THEMIS_ASI_SKYMAP_IDLSAV   UCalgary   L3      None                                                      THEMIS All Sky Imagers skymap data (IDL save format)       \n",
      "TREX_BLUE_SKYMAP_IDLSAV    UCalgary   L3      https://commons.datacite.org/doi.org/10.11575/80pf-0p02   TREx Blueline All Sky Imagers skymap data (IDL save format)\n",
      "TREX_NIR_SKYMAP_IDLSAV     UCalgary   L3      https://commons.datacite.org/doi.org/10.11575/98w7-jp47   TREx NIR All Sky Imagers skymap data (IDL save format)     \n",
      "TREX_RGB_SKYMAP_IDLSAV     UCalgary   L3      https://commons.datacite.org/doi.org/10.11575/4p8e-1k65   TREx RGB All Sky Imagers skymap data (IDL save format)     \n"
     ]
    }
   ],
   "source": [
    "# search datasets for skymaps\n",
    "aurorax.data.list_datasets_in_table(name=\"SKYMAP\")"
   ]
  },
  {
   "cell_type": "code",
   "execution_count": 4,
   "metadata": {},
   "outputs": [],
   "source": [
    "# we'll set our dataset for use later\n",
    "dataset = aurorax.data.list_datasets(name=\"THEMIS_ASI_SKYMAP_IDLSAV\")[0]"
   ]
  },
  {
   "cell_type": "markdown",
   "metadata": {},
   "source": [
    "When selecting a skymap to use for projecting an image on a map, we have two methods available to us:\n",
    "\n",
    "1) choosing manually\n",
    "2) using the `find_best_skymap()` function to choose automatically\n",
    "\n",
    "Skymaps are generated for each site, and for a given time period. It is important to choose a skymap that is valid for the date you're looking at data for, otherwise the image may not appear accurately when projected on a map.\n"
   ]
  },
  {
   "cell_type": "markdown",
   "metadata": {},
   "source": [
    "## Choosing a skymap manually"
   ]
  },
  {
   "cell_type": "code",
   "execution_count": 5,
   "metadata": {},
   "outputs": [
    {
     "data": {
      "application/vnd.jupyter.widget-view+json": {
       "model_id": "a9c344f8ac6d46078b4087fc83291613",
       "version_major": 2,
       "version_minor": 0
      },
      "text/plain": [
       "Downloading THEMIS_ASI_SKYMAP_IDLSAV files:   0%|          | 0.00/7.08M [00:00<?, ?B/s]"
      ]
     },
     "metadata": {},
     "output_type": "display_data"
    },
    {
     "data": {
      "text/plain": [
       "[WindowsPath('C:/Users/darrenc/pyaurorax_data/THEMIS_ASI_SKYMAP_IDLSAV/gill/gill_20210308/themis_skymap_gill_20210308-+_v02.sav'),\n",
       " WindowsPath('C:/Users/darrenc/pyaurorax_data/THEMIS_ASI_SKYMAP_IDLSAV/gill/gill_20220301/themis_skymap_gill_20220301-+_v02.sav')]"
      ]
     },
     "execution_count": 5,
     "metadata": {},
     "output_type": "execute_result"
    }
   ],
   "source": [
    "# First, let's choose the skymap we want manually. Let's assume we are working on data\n",
    "# from the Gillam THEMIS ASI on 2021-11-04.\n",
    "#\n",
    "# We'll download the skymaps for a few years around that time, and then we'll choose which one we want after\n",
    "r = aurorax.data.ucalgary.download(\n",
    "    \"THEMIS_ASI_SKYMAP_IDLSAV\",\n",
    "    datetime.datetime(2021, 1, 1, 0, 0),\n",
    "    datetime.datetime(2023, 1, 1, 0, 0),\n",
    "    site_uid=\"gill\",\n",
    ")\n",
    "r.filenames"
   ]
  },
  {
   "cell_type": "markdown",
   "metadata": {},
   "source": [
    "Looks like we have a couple skymaps to choose from around 2021-11-04. We'll choose the first one since the date for it is before, and the second one's date is after. \n",
    "\n",
    "The date indicates the first date it is valid for. There are some cases where a later or earlier skymap can be used. That is a situation where you can play around and try different skymaps, looking for which one works best for you. Most skymaps have small differences, but some have large ones that you'll notice very quickly when working with the projected data on a map.\n"
   ]
  },
  {
   "cell_type": "code",
   "execution_count": 6,
   "metadata": {},
   "outputs": [
    {
     "name": "stdout",
     "output_type": "stream",
     "text": [
      "Data(data=[1 Skymap object], timestamp=[], metadata=[], problematic_files=[], calibrated_data=None, dataset=Dataset(name=THEMIS_ASI_SKYMAP_IDLSAV, short_description='THEMIS All Sky Im...))\n",
      "\n",
      "Data:\n",
      "  data                  : [1 Skymap object]\n",
      "  timestamp             : []\n",
      "  metadata              : []\n",
      "  problematic_files     : []\n",
      "  calibrated_data       : None\n",
      "  dataset               : Dataset(name=THEMIS_ASI_SKYMAP_IDLSAV, short_description='THEMIS All Sky Im...)\n",
      "\n",
      "Skymap:\n",
      "  filename               : C:\\Users\\darrenc\\pyaurorax_data\\THEMIS_ASI_SKYMAP_IDLSAV\\gill\\gill_20210308\\themis_skymap_gill_20210308-+_v02.sav\n",
      "  full_azimuth           : array(dims=(256, 256), dtype=>f4)\n",
      "  full_elevation         : array(dims=(256, 256), dtype=>f4)\n",
      "  full_map_altitude      : array(dims=(3,), dtype=>f4)\n",
      "  full_map_latitude      : array(dims=(3, 257, 257), dtype=>f4)\n",
      "  full_map_longitude     : array(dims=(3, 257, 257), dtype=>f4)\n",
      "  generation_info        : SkymapGenerationInfo(...)\n",
      "  imager_uid             : themis19\n",
      "  project_uid            : themis\n",
      "  site_map_altitude      : 0.0\n",
      "  site_map_latitude      : 56.376724\n",
      "  site_map_longitude     : 265.35632\n",
      "  site_uid               : gill\n",
      "  version                : v02\n"
     ]
    }
   ],
   "source": [
    "# Now that we know which one we'll use, we can read it in.\n",
    "#\n",
    "# You can also read in all of them and choose later using the resulting Data object.\n",
    "skymap_data = aurorax.data.ucalgary.read(dataset, r.filenames[0])\n",
    "\n",
    "print(skymap_data)\n",
    "print()\n",
    "skymap_data.pretty_print()\n",
    "\n",
    "print()\n",
    "skymap_data.data[0].pretty_print()"
   ]
  },
  {
   "cell_type": "markdown",
   "metadata": {},
   "source": [
    "## Automatically choosing a skymap\n",
    "\n",
    "You can also let the library choose the skymap for you using the `download_best_skymap()` function."
   ]
  },
  {
   "cell_type": "code",
   "execution_count": 7,
   "metadata": {},
   "outputs": [
    {
     "data": {
      "text/plain": [
       "[WindowsPath('C:/Users/darrenc/pyaurorax_data/THEMIS_ASI_SKYMAP_IDLSAV/gill/gill_20210308/themis_skymap_gill_20210308-+_v02.sav')]"
      ]
     },
     "execution_count": 7,
     "metadata": {},
     "output_type": "execute_result"
    }
   ],
   "source": [
    "# set params\n",
    "dataset_name = \"THEMIS_ASI_SKYMAP_IDLSAV\"\n",
    "site_uid = \"gill\"\n",
    "dt = datetime.datetime(2021, 11, 4)\n",
    "\n",
    "# get the recommendation\n",
    "r = aurorax.data.ucalgary.download_best_skymap(dataset_name, site_uid, dt)\n",
    "r.filenames\n"
   ]
  },
  {
   "cell_type": "code",
   "execution_count": 8,
   "metadata": {},
   "outputs": [
    {
     "name": "stdout",
     "output_type": "stream",
     "text": [
      "Data(data=[1 Skymap object], timestamp=[], metadata=[], problematic_files=[], calibrated_data=None, dataset=Dataset(name=THEMIS_ASI_SKYMAP_IDLSAV, short_description='THEMIS All Sky Im...))\n",
      "\n",
      "Data:\n",
      "  data                  : [1 Skymap object]\n",
      "  timestamp             : []\n",
      "  metadata              : []\n",
      "  problematic_files     : []\n",
      "  calibrated_data       : None\n",
      "  dataset               : Dataset(name=THEMIS_ASI_SKYMAP_IDLSAV, short_description='THEMIS All Sky Im...)\n",
      "\n",
      "Skymap:\n",
      "  filename               : C:\\Users\\darrenc\\pyaurorax_data\\THEMIS_ASI_SKYMAP_IDLSAV\\gill\\gill_20210308\\themis_skymap_gill_20210308-+_v02.sav\n",
      "  full_azimuth           : array(dims=(256, 256), dtype=>f4)\n",
      "  full_elevation         : array(dims=(256, 256), dtype=>f4)\n",
      "  full_map_altitude      : array(dims=(3,), dtype=>f4)\n",
      "  full_map_latitude      : array(dims=(3, 257, 257), dtype=>f4)\n",
      "  full_map_longitude     : array(dims=(3, 257, 257), dtype=>f4)\n",
      "  generation_info        : SkymapGenerationInfo(...)\n",
      "  imager_uid             : themis19\n",
      "  project_uid            : themis\n",
      "  site_map_altitude      : 0.0\n",
      "  site_map_latitude      : 56.376724\n",
      "  site_map_longitude     : 265.35632\n",
      "  site_uid               : gill\n",
      "  version                : v02\n"
     ]
    }
   ],
   "source": [
    "# now that we have the skymap file, we'll read it\n",
    "skymap_data = aurorax.data.ucalgary.read(dataset, r.filenames)\n",
    "\n",
    "print(skymap_data)\n",
    "print()\n",
    "skymap_data.pretty_print()\n",
    "\n",
    "print()\n",
    "skymap_data.data[0].pretty_print()"
   ]
  },
  {
   "cell_type": "markdown",
   "metadata": {},
   "source": [
    "# Calibrations"
   ]
  },
  {
   "cell_type": "code",
   "execution_count": 9,
   "metadata": {},
   "outputs": [
    {
     "name": "stdout",
     "output_type": "stream",
     "text": [
      "Name                                     Provider   Level   DOI Details                                               Short Description                                                         \n",
      "================================================================================================================================================================================================\n",
      "REGO_CALIBRATION_FLATFIELD_IDLSAV        UCalgary   L3      https://commons.datacite.org/doi.org/10.11575/z7x6-5c42   REGO All Sky Imagers Flatfield calibration data (IDL save format)         \n",
      "REGO_CALIBRATION_RAYLEIGHS_IDLSAV        UCalgary   L3      https://commons.datacite.org/doi.org/10.11575/z7x6-5c42   REGO All Sky Imagers Rayleighs calibration data (IDL save format)         \n",
      "TREX_BLUE_CALIBRATION_FLATFIELD_IDLSAV   UCalgary   L3      https://commons.datacite.org/doi.org/10.11575/80pf-0p02   TREx Blueline All Sky Imagers Flatfield calibration data (IDL save format)\n",
      "TREX_BLUE_CALIBRATION_RAYLEIGHS_IDLSAV   UCalgary   L3      https://commons.datacite.org/doi.org/10.11575/80pf-0p02   TREx Blueline All Sky Imagers Rayleighs calibration data (IDL save format)\n",
      "TREX_NIR_CALIBRATION_FLATFIELD_IDLSAV    UCalgary   L3      https://commons.datacite.org/doi.org/10.11575/98w7-jp47   TREx NIR All Sky Imagers Flatfield calibration data (IDL save format)     \n",
      "TREX_NIR_CALIBRATION_RAYLEIGHS_IDLSAV    UCalgary   L3      https://commons.datacite.org/doi.org/10.11575/98w7-jp47   TREx NIR All Sky Imagers Rayleighs calibration data (IDL save format)     \n"
     ]
    }
   ],
   "source": [
    "# search datasets for calibrations\n",
    "aurorax.data.list_datasets_in_table(name=\"CALIBRATION\")"
   ]
  },
  {
   "cell_type": "markdown",
   "metadata": {},
   "source": [
    "When selecting calibration files to use for converting ASI image counts to Rayleighs, we have two methods available to us:\n",
    "\n",
    "1) choosing manually\n",
    "2) using the `find_best_flatfield_calibration()` or `find_best_rayleighs_calibration()` function to choose automatically\n",
    "\n",
    "Cameras are calibrated before they are deployed to the field, and after any in-house repairs are performed. There exist flatfield and Rayleighs calibration files, for each specific camera detector. A detector can live at multiple sites thoughout the years of operating the instrument array. Hence, why they are not associated with a specific site at all. We use the data device UID value to know what calibration files to use for the data we're processing."
   ]
  },
  {
   "cell_type": "code",
   "execution_count": 10,
   "metadata": {},
   "outputs": [
    {
     "name": "stdout",
     "output_type": "stream",
     "text": [
      "C:\\Users\\darrenc\\pyaurorax_data\\REGO_RAW\\2021\\11\\04\\resu_rego-655\\ut06\\20211104_0600_resu_rego-655_6300.pgm.gz\n",
      "\n",
      "rego-655\n"
     ]
    }
   ],
   "source": [
    "# download a minute of REGO data\n",
    "dataset_name = \"REGO_RAW\"\n",
    "start_dt = datetime.datetime(2021, 11, 4, 6, 0)\n",
    "end_dt = datetime.datetime(2021, 11, 4, 6, 0)\n",
    "site_uid = \"resu\"\n",
    "r = aurorax.data.ucalgary.download(dataset_name, start_dt, end_dt, site_uid=site_uid, progress_bar_disable=True)\n",
    "\n",
    "# determine the device uid\n",
    "#\n",
    "# you can either inspect the URLs and determine it by the filename, or you can read the\n",
    "# data and inspect the device UID field of the metadata\n",
    "print(r.filenames[0])\n",
    "print()\n",
    "\n",
    "data = aurorax.data.ucalgary.read(r.dataset, r.filenames)\n",
    "print(data.metadata[0][\"Imager unique ID\"])"
   ]
  },
  {
   "cell_type": "code",
   "execution_count": 11,
   "metadata": {},
   "outputs": [
    {
     "name": "stdout",
     "output_type": "stream",
     "text": [
      "['https://data.phys.ucalgary.ca/sort_by_project/GO-Canada/REGO/calibration/REGO_Rayleighs_15655_20141002-+_v01.sav']\n",
      "['https://data.phys.ucalgary.ca/sort_by_project/GO-Canada/REGO/calibration/REGO_flatfield_15655_20141002-+_v01.sav']\n"
     ]
    }
   ],
   "source": [
    "# now that we know the device UID we are interested in, we can get a list\n",
    "# of all the flatfield and rayleighs calibration files, and then choose which\n",
    "# one we want to download\n",
    "start_dt = datetime.datetime(2014, 1, 1, 0, 0)\n",
    "end_dt = datetime.datetime.now()\n",
    "device_uid = \"655\"\n",
    "r_rayleighs = aurorax.data.ucalgary.get_urls(\"REGO_CALIBRATION_RAYLEIGHS_IDLSAV\", start_dt, end_dt, device_uid=device_uid)\n",
    "pprint.pprint(r_rayleighs.urls)\n",
    "\n",
    "r_flatfield = aurorax.data.ucalgary.get_urls(\"REGO_CALIBRATION_FLATFIELD_IDLSAV\", start_dt, end_dt, device_uid=device_uid)\n",
    "pprint.pprint(r_flatfield.urls)"
   ]
  },
  {
   "cell_type": "code",
   "execution_count": 12,
   "metadata": {},
   "outputs": [
    {
     "name": "stdout",
     "output_type": "stream",
     "text": [
      "[WindowsPath('C:/Users/darrenc/pyaurorax_data/REGO_CALIBRATION_RAYLEIGHS_IDLSAV/REGO_Rayleighs_15655_20141002-+_v01.sav')]\n",
      "[WindowsPath('C:/Users/darrenc/pyaurorax_data/REGO_CALIBRATION_FLATFIELD_IDLSAV/REGO_flatfield_15655_20141002-+_v01.sav')]\n"
     ]
    }
   ],
   "source": [
    "# this is simple as there is only one to choose from\n",
    "#\n",
    "# now let's download the data\n",
    "d_rayleighs = aurorax.data.ucalgary.download_using_urls(r_rayleighs, progress_bar_disable=True)\n",
    "d_flatfield = aurorax.data.ucalgary.download_using_urls(r_flatfield, progress_bar_disable=True)\n",
    "\n",
    "print(d_rayleighs.filenames)\n",
    "\n",
    "print(d_flatfield.filenames)"
   ]
  },
  {
   "cell_type": "code",
   "execution_count": 13,
   "metadata": {},
   "outputs": [
    {
     "name": "stdout",
     "output_type": "stream",
     "text": [
      "Data(data=[1 Calibration object], timestamp=[], metadata=[], problematic_files=[], calibrated_data=None, dataset=Dataset(name=REGO_CALIBRATION_RAYLEIGHS_IDLSAV, short_description='REGO All...))\n",
      "Data(data=[1 Calibration object], timestamp=[], metadata=[], problematic_files=[], calibrated_data=None, dataset=Dataset(name=REGO_CALIBRATION_FLATFIELD_IDLSAV, short_description='REGO All...))\n",
      "\n",
      "Calibration:\n",
      "  dataset                       : Dataset(...)\n",
      "  detector_uid                  : 15655\n",
      "  filename                      : C:\\Users\\darrenc\\pyaurorax_data\\REGO_CALIBRATION_RAYLEIGHS_IDLSAV\\REGO_Rayleighs_15655_20141002-+_v01.sav\n",
      "  flat_field_multiplier         : None\n",
      "  generation_info               : CalibrationGenerationInfo(...)\n",
      "  rayleighs_perdn_persecond     : 10.399999618530273\n",
      "  version                       : v01\n",
      "\n",
      "Calibration:\n",
      "  dataset                       : Dataset(...)\n",
      "  detector_uid                  : 15655\n",
      "  filename                      : C:\\Users\\darrenc\\pyaurorax_data\\REGO_CALIBRATION_FLATFIELD_IDLSAV\\REGO_flatfield_15655_20141002-+_v01.sav\n",
      "  flat_field_multiplier         : array(dims=(512, 512), dtype=>f8)\n",
      "  generation_info               : CalibrationGenerationInfo(...)\n",
      "  rayleighs_perdn_persecond     : None\n",
      "  version                       : v01\n"
     ]
    }
   ],
   "source": [
    "# now that we have the calibration files, we'll read them\n",
    "cal_rayleighs_data = aurorax.data.ucalgary.read(d_rayleighs.dataset, d_rayleighs.filenames)\n",
    "cal_flatfield_data = aurorax.data.ucalgary.read(d_flatfield.dataset, d_flatfield.filenames)\n",
    "\n",
    "print(cal_rayleighs_data)\n",
    "print(cal_flatfield_data)\n",
    "print()\n",
    "\n",
    "cal_rayleighs_data.data[0].pretty_print()\n",
    "print()\n",
    "cal_flatfield_data.data[0].pretty_print()\n"
   ]
  },
  {
   "cell_type": "markdown",
   "metadata": {},
   "source": [
    "## Automatically choosing a calibration file\n",
    "\n",
    "You can also let the library choose the calibration for you using the `download_best_flatfield_calibration()` and `download_best_rayleighs_calibration()` functions."
   ]
  },
  {
   "cell_type": "code",
   "execution_count": 14,
   "metadata": {},
   "outputs": [
    {
     "name": "stdout",
     "output_type": "stream",
     "text": [
      "[WindowsPath('C:/Users/darrenc/pyaurorax_data/REGO_CALIBRATION_RAYLEIGHS_IDLSAV/REGO_Rayleighs_15654_20210806-+_v02.sav')]\n",
      "[WindowsPath('C:/Users/darrenc/pyaurorax_data/REGO_CALIBRATION_FLATFIELD_IDLSAV/REGO_flatfield_15654_20210806-+_v02.sav')]\n"
     ]
    }
   ],
   "source": [
    "# set params\n",
    "device_uid = \"654\"\n",
    "dt = datetime.datetime(2021, 11, 4)\n",
    "\n",
    "# get the recommendations\n",
    "r_rayleighs = aurorax.data.ucalgary.download_best_rayleighs_calibration(\"REGO_CALIBRATION_RAYLEIGHS_IDLSAV\", device_uid, dt)\n",
    "r_flatfield = aurorax.data.ucalgary.download_best_flatfield_calibration(\"REGO_CALIBRATION_FLATFIELD_IDLSAV\", device_uid, dt)\n",
    "\n",
    "# show results\n",
    "print(r_rayleighs.filenames)\n",
    "print(r_flatfield.filenames)"
   ]
  },
  {
   "cell_type": "code",
   "execution_count": 15,
   "metadata": {},
   "outputs": [
    {
     "name": "stdout",
     "output_type": "stream",
     "text": [
      "Calibration:\n",
      "  dataset                       : Dataset(...)\n",
      "  detector_uid                  : 15654\n",
      "  filename                      : C:\\Users\\darrenc\\pyaurorax_data\\REGO_CALIBRATION_RAYLEIGHS_IDLSAV\\REGO_Rayleighs_15654_20210806-+_v02.sav\n",
      "  flat_field_multiplier         : None\n",
      "  generation_info               : CalibrationGenerationInfo(...)\n",
      "  rayleighs_perdn_persecond     : 10.137431837782506\n",
      "  version                       : v02\n",
      "\n",
      "Calibration:\n",
      "  dataset                       : Dataset(...)\n",
      "  detector_uid                  : 15654\n",
      "  filename                      : C:\\Users\\darrenc\\pyaurorax_data\\REGO_CALIBRATION_FLATFIELD_IDLSAV\\REGO_flatfield_15654_20210806-+_v02.sav\n",
      "  flat_field_multiplier         : array(dims=(512, 512), dtype=>f8)\n",
      "  generation_info               : CalibrationGenerationInfo(...)\n",
      "  rayleighs_perdn_persecond     : None\n",
      "  version                       : v02\n"
     ]
    }
   ],
   "source": [
    "# now that we have the calibration file, we'll read it\n",
    "cal_rayleighs_data = aurorax.data.ucalgary.read(r_rayleighs.dataset, r_rayleighs.filenames)\n",
    "cal_flatfield_data = aurorax.data.ucalgary.read(r_flatfield.dataset, r_flatfield.filenames)\n",
    "\n",
    "cal_rayleighs_data.data[0].pretty_print()\n",
    "print()\n",
    "cal_flatfield_data.data[0].pretty_print()"
   ]
  }
 ],
 "metadata": {
  "kernelspec": {
   "display_name": "pyaurorax39",
   "language": "python",
   "name": "python3"
  },
  "language_info": {
   "codemirror_mode": {
    "name": "ipython",
    "version": 3
   },
   "file_extension": ".py",
   "mimetype": "text/x-python",
   "name": "python",
   "nbconvert_exporter": "python",
   "pygments_lexer": "ipython3",
   "version": "3.9.19"
  }
 },
 "nbformat": 4,
 "nbformat_minor": 2
}
