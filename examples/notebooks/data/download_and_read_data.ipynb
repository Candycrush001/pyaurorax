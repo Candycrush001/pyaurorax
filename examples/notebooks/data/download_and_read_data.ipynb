{
 "cells": [
  {
   "cell_type": "code",
   "execution_count": 12,
   "metadata": {},
   "outputs": [],
   "source": [
    "import pprint\n",
    "import datetime\n",
    "import pyaurorax\n",
    "\n",
    "aurorax = pyaurorax.PyAuroraX()"
   ]
  },
  {
   "cell_type": "markdown",
   "metadata": {},
   "source": [
    "# Downloading data\n",
    "\n",
    "PyAuroraX allows you to download data for a given dataset, time frame, and optionally the site. A progress bar is shown by default, and it can be disabled or modified using the optional parameters. The output path of the downloaded data can be modified when you initialize the `pyaurorax.PyAuroraX()` object. We show an example of this near the bottom of this crib sheet.\n",
    "\n",
    "To figure out the dataset name that we want to download data for, we can use the `aurorax.data.list_datasets()` function, or navigate to the [Dataset Descriptions](https://data.phys.ucalgary.ca/about_datasets) page and dive into a particular instrument array page.\n",
    "\n",
    "Below we are going to download an hour of THEMIS ASI data from the Athabasca, AB, imager. We will use the `THEMIS_ASI_RAW` dataset name, and the `start`, `end`, and `site_uid` parameters to filter further.\n",
    "\n"
   ]
  },
  {
   "cell_type": "code",
   "execution_count": 3,
   "metadata": {},
   "outputs": [
    {
     "data": {
      "application/vnd.jupyter.widget-view+json": {
       "model_id": "665d187fd2064f0aa3ad7b2b5edd6bed",
       "version_major": 2,
       "version_minor": 0
      },
      "text/plain": [
       "Downloading THEMIS_ASI_RAW files:   0%|          | 0.00/128M [00:00<?, ?B/s]"
      ]
     },
     "metadata": {},
     "output_type": "display_data"
    }
   ],
   "source": [
    "# download an hour of THEMIS ASI data from Athabasca\n",
    "dataset_name = \"THEMIS_ASI_RAW\"\n",
    "start_dt = datetime.datetime(2021, 11, 4, 9, 0)\n",
    "end_dt = datetime.datetime(2021, 11, 4, 9, 59)\n",
    "site_uid = \"atha\"\n",
    "r = aurorax.data.ucalgary.download(dataset_name, start_dt, end_dt, site_uid=site_uid)"
   ]
  },
  {
   "cell_type": "code",
   "execution_count": 4,
   "metadata": {},
   "outputs": [
    {
     "name": "stdout",
     "output_type": "stream",
     "text": [
      "FileListingResponse:\n",
      "  count             : 60\n",
      "  dataset           : Dataset(name=THEMIS_ASI_RAW, short_description='THEMIS All Sky Imagers 3-sec raw data', provider='UCalgary', level='L0', doi_details='None', ...)\n",
      "  filenames         : [60 filenames]\n",
      "  output_root_path  : /home/darrenc/pyaurorax_data/THEMIS_ASI_RAW\n",
      "  total_bytes       : 0\n"
     ]
    }
   ],
   "source": [
    "# view information about the downloaded data\n",
    "r.pretty_print()"
   ]
  },
  {
   "cell_type": "code",
   "execution_count": 7,
   "metadata": {},
   "outputs": [
    {
     "data": {
      "application/vnd.jupyter.widget-view+json": {
       "model_id": "a0810307aa834155a29ecb18c4e3dfb9",
       "version_major": 2,
       "version_minor": 0
      },
      "text/plain": [
       "Downloading THEMIS_ASI_RAW files:   0%|          | 0.00/136M [00:00<?, ?B/s]"
      ]
     },
     "metadata": {},
     "output_type": "display_data"
    }
   ],
   "source": [
    "# an example of downloading several minutes of data from all\n",
    "# THEMIS ASI sites (no site_uid filtering)\n",
    "dataset_name = \"THEMIS_ASI_RAW\"\n",
    "start_dt = datetime.datetime(2021, 11, 4, 9, 0)\n",
    "end_dt = datetime.datetime(2021, 11, 4, 9, 4)\n",
    "_ = aurorax.data.ucalgary.download(dataset_name, start_dt, end_dt)  # we'll ignore the return variable since we won't use later in this crib sheet"
   ]
  },
  {
   "cell_type": "code",
   "execution_count": 8,
   "metadata": {},
   "outputs": [],
   "source": [
    "# to change where data is downloaded to, you can adjust an attribute in\n",
    "# the PyAuroraX() class that was initialized at the beginning of the code.\n",
    "#\n",
    "# NOTE: this line is commented out on purpose since we just want to show \n",
    "# how to do this, vs actually doing it.\n",
    "#\n",
    "# NOTE: the path you set can be a regular string path (nice for Linux and Mac)\n",
    "# or a pathlib Path() object (nice for Windows).``\n",
    "\n",
    "#------------------\n",
    "# aurorax.download_output_root_path = \"some path\"\n",
    "# \n",
    "# import pathlib\n",
    "# aurorax.download_output_root_path = Path(\"some path\")\n"
   ]
  },
  {
   "cell_type": "markdown",
   "metadata": {},
   "source": [
    "# Read data\n",
    "\n",
    "Downloading data is only one part of the process. To allow you to not have to repeatedly download data, the `download()` and `read()` functions are split into two processes. \n",
    "\n",
    "The data reading routines are simple at the core. They take in a list of filenames on your computer, read in those files, and return the results back as an object. Be sure to pass in only one type of data at a time, otherwise the read routine will get rather confused!\n",
    "\n",
    "The advantage of this is that the read function just needs filenames. You can download data to any storage medium, and manually leverage `glob` like functions to get filenames. This can be beneficial if you don't have an internet connection at the time, but have already downloaded data. Or, you can simply run the `download()` function repeatedly; it will not re-download data if you already have it, unless the `overwrite` parameter is enabled.\n",
    "\n",
    "There are two methods that can be used for reading data:\n",
    "\n",
    "1) using the generic method\n",
    "2) using a specific dataset read function\n",
    "\n",
    "The generic method is the recommended way as it is simpler. However, if more control is wanted then you can use the specific read functions directly. The generic method simply uses the dataset name to determine which specific read function to use.\n"
   ]
  },
  {
   "cell_type": "code",
   "execution_count": 9,
   "metadata": {},
   "outputs": [
    {
     "name": "stdout",
     "output_type": "stream",
     "text": [
      "Data(data=array([[[2540, 2602, 2635, ..., 2562, 2646, 2579],\n",
      "        [2503, 2533, 2604, ..., 2556, 2622, 2519],\n",
      "        [2600, 2537, 2600, ..., 2596, 2580, 2520],\n",
      "        ...,\n",
      "        [2557, 2567, 2589, ..., 2561, 2622, 2614],\n",
      "        [2542, 2575, 2536, ..., 2502, 2540, 2597],\n",
      "        [2589, 2550, 2568, ..., 2600, 2601, 2562]],\n",
      "\n",
      "       [[2544, 2526, 2521, ..., 2574, 2569, 2545],\n",
      "        [2584, 2566, 2662, ..., 2608, 2671, 2562],\n",
      "        [2601, 2593, 2592, ..., 2591, 2562, 2531],\n",
      "        ...,\n",
      "        [2529, 2618, 2596, ..., 2575, 2624, 2680],\n",
      "        [2574, 2504, 2624, ..., 2598, 2512, 2554],\n",
      "        [2612, 2574, 2535, ..., 2548, 2532, 2532]],\n",
      "\n",
      "       [[2572, 2568, 2552, ..., 2582, 2594, 2523],\n",
      "        [2550, 2549, 2525, ..., 2558, 2612, 2528],\n",
      "        [2519, 2591, 2555, ..., 2495, 2509, 2617],\n",
      "        ...,\n",
      "        [2590, 2521, 2587, ..., 2630, 2565, 2606],\n",
      "        [2551, 2564, 2508, ..., 2505, 2561, 2528],\n",
      "        [2611, 2537, 2574, ..., 2551, 2648, 2611]],\n",
      "\n",
      "       ...,\n",
      "\n",
      "       [[2564, 2497, 2570, ..., 2560, 2555, 2535],\n",
      "        [2582, 2579, 2517, ..., 2575, 2551, 2554],\n",
      "        [2530, 2580, 2552, ..., 2616, 2542, 2608],\n",
      "        ...,\n",
      "        [2512, 2566, 2537, ..., 2486, 2521, 2603],\n",
      "        [2630, 2562, 2545, ..., 2524, 2605, 2510],\n",
      "        [2581, 2524, 2524, ..., 2672, 2588, 2569]],\n",
      "\n",
      "       [[2548, 2443, 2541, ..., 2583, 2569, 2603],\n",
      "        [2596, 2474, 2488, ..., 2563, 2605, 2573],\n",
      "        [2545, 2546, 2516, ..., 2589, 2606, 2665],\n",
      "        ...,\n",
      "        [2595, 2592, 2664, ..., 2539, 2560, 2591],\n",
      "        [2567, 2576, 2624, ..., 2579, 2508, 2559],\n",
      "        [2538, 2551, 2555, ..., 2550, 2595, 2564]],\n",
      "\n",
      "       [[2525, 2560, 2524, ..., 2551, 2531, 2532],\n",
      "        [2527, 2590, 2562, ..., 2540, 2531, 2552],\n",
      "        [2604, 2515, 2581, ..., 2542, 2521, 2538],\n",
      "        ...,\n",
      "        [2560, 2582, 2608, ..., 2599, 2569, 2586],\n",
      "        [2506, 2475, 2556, ..., 2588, 2623, 2625],\n",
      "        [2497, 2549, 2548, ..., 2568, 2595, 2557]]], dtype=uint16), timestamp=[1200 datetimes], metadata=[1200 dictionaries], problematic_files=[], calibrated_data=None, dataset=Dataset(name=THEMIS_ASI_RAW, short_description='THEMIS All Sky Imagers 3-se...))\n",
      "\n",
      "Data:\n",
      "  data               : array(dims=(256, 256, 1200), dtype=uint16)\n",
      "  timestamp          : [1200 datetimes]\n",
      "  metadata           : [1200 dictionaries]\n",
      "  problematic_files  : []\n",
      "  calibrated_data    : None\n",
      "  dataset            : Dataset(name=THEMIS_ASI_RAW, short_description='THEMIS All Sky Imagers 3-se...)\n"
     ]
    }
   ],
   "source": [
    "# we will show the generic method first, since it is the easiest way\n",
    "#\n",
    "# NOTE: we are reading the 1hr of data we downloaded earlier on, using 2 \n",
    "# parallel processes to improve performance\n",
    "data = aurorax.data.ucalgary.read(r.dataset, r.filenames, n_parallel=2)\n",
    "\n",
    "print(data)\n",
    "print()\n",
    "data.pretty_print()"
   ]
  },
  {
   "cell_type": "code",
   "execution_count": 10,
   "metadata": {},
   "outputs": [
    {
     "name": "stdout",
     "output_type": "stream",
     "text": [
      "Data(data=array([[[2540, 2602, 2635, ..., 2562, 2646, 2579],\n",
      "        [2503, 2533, 2604, ..., 2556, 2622, 2519],\n",
      "        [2600, 2537, 2600, ..., 2596, 2580, 2520],\n",
      "        ...,\n",
      "        [2557, 2567, 2589, ..., 2561, 2622, 2614],\n",
      "        [2542, 2575, 2536, ..., 2502, 2540, 2597],\n",
      "        [2589, 2550, 2568, ..., 2600, 2601, 2562]],\n",
      "\n",
      "       [[2544, 2526, 2521, ..., 2574, 2569, 2545],\n",
      "        [2584, 2566, 2662, ..., 2608, 2671, 2562],\n",
      "        [2601, 2593, 2592, ..., 2591, 2562, 2531],\n",
      "        ...,\n",
      "        [2529, 2618, 2596, ..., 2575, 2624, 2680],\n",
      "        [2574, 2504, 2624, ..., 2598, 2512, 2554],\n",
      "        [2612, 2574, 2535, ..., 2548, 2532, 2532]],\n",
      "\n",
      "       [[2572, 2568, 2552, ..., 2582, 2594, 2523],\n",
      "        [2550, 2549, 2525, ..., 2558, 2612, 2528],\n",
      "        [2519, 2591, 2555, ..., 2495, 2509, 2617],\n",
      "        ...,\n",
      "        [2590, 2521, 2587, ..., 2630, 2565, 2606],\n",
      "        [2551, 2564, 2508, ..., 2505, 2561, 2528],\n",
      "        [2611, 2537, 2574, ..., 2551, 2648, 2611]],\n",
      "\n",
      "       ...,\n",
      "\n",
      "       [[2564, 2497, 2570, ..., 2560, 2555, 2535],\n",
      "        [2582, 2579, 2517, ..., 2575, 2551, 2554],\n",
      "        [2530, 2580, 2552, ..., 2616, 2542, 2608],\n",
      "        ...,\n",
      "        [2512, 2566, 2537, ..., 2486, 2521, 2603],\n",
      "        [2630, 2562, 2545, ..., 2524, 2605, 2510],\n",
      "        [2581, 2524, 2524, ..., 2672, 2588, 2569]],\n",
      "\n",
      "       [[2548, 2443, 2541, ..., 2583, 2569, 2603],\n",
      "        [2596, 2474, 2488, ..., 2563, 2605, 2573],\n",
      "        [2545, 2546, 2516, ..., 2589, 2606, 2665],\n",
      "        ...,\n",
      "        [2595, 2592, 2664, ..., 2539, 2560, 2591],\n",
      "        [2567, 2576, 2624, ..., 2579, 2508, 2559],\n",
      "        [2538, 2551, 2555, ..., 2550, 2595, 2564]],\n",
      "\n",
      "       [[2525, 2560, 2524, ..., 2551, 2531, 2532],\n",
      "        [2527, 2590, 2562, ..., 2540, 2531, 2552],\n",
      "        [2604, 2515, 2581, ..., 2542, 2521, 2538],\n",
      "        ...,\n",
      "        [2560, 2582, 2608, ..., 2599, 2569, 2586],\n",
      "        [2506, 2475, 2556, ..., 2588, 2623, 2625],\n",
      "        [2497, 2549, 2548, ..., 2568, 2595, 2557]]], dtype=uint16), timestamp=[1200 datetimes], metadata=[1200 dictionaries], problematic_files=[], calibrated_data=None, dataset=Dataset(name=THEMIS_ASI_RAW, short_description='THEMIS All Sky Imagers 3-se...))\n",
      "\n",
      "Data:\n",
      "  data               : array(dims=(256, 256, 1200), dtype=uint16)\n",
      "  timestamp          : [1200 datetimes]\n",
      "  metadata           : [1200 dictionaries]\n",
      "  problematic_files  : []\n",
      "  calibrated_data    : None\n",
      "  dataset            : Dataset(name=THEMIS_ASI_RAW, short_description='THEMIS All Sky Imagers 3-se...)\n"
     ]
    }
   ],
   "source": [
    "# since we know we're reading in THEMIS raw data, we can also use the \n",
    "# specific read routine. Use these specific read functions if you want \n",
    "# more control than the simpler read() function\n",
    "data = aurorax.data.ucalgary.readers.read_themis(r.filenames, n_parallel=2, dataset=r.dataset)\n",
    "\n",
    "print(data)\n",
    "print()\n",
    "data.pretty_print()"
   ]
  },
  {
   "cell_type": "markdown",
   "metadata": {},
   "source": [
    "# Managing downloaded data\n",
    "\n",
    "Managing data is hard! For the All-sky Imager (ASI) data, the biggest concern to keep in mind is the available storage. ASI data is not small...THEMIS ASI alone is 120TB as of December 2024!\n",
    "\n",
    "To help with this, we have some utility functions at your fingertips. The `show_data_usage()` function can help show you how much data is on your computer in PyAuroraX's download output root path. Then `purge_download_output_root_path()` can delete all the data in that directory."
   ]
  },
  {
   "cell_type": "code",
   "execution_count": 11,
   "metadata": {},
   "outputs": [
    {
     "name": "stdout",
     "output_type": "stream",
     "text": [
      "Dataset name           Size    \n",
      "===============================\n",
      "THEMIS_ASI_RAW         253.6 MB\n",
      "TREX_RGB_RAW_NOMINAL   7.2 MB  \n",
      "\n",
      "Total size: 260.8 MB\n"
     ]
    }
   ],
   "source": [
    "# to view the amount of data that is currently downloaded, do the following\n",
    "aurorax.show_data_usage()"
   ]
  },
  {
   "cell_type": "code",
   "execution_count": 13,
   "metadata": {},
   "outputs": [
    {
     "name": "stdout",
     "output_type": "stream",
     "text": [
      "{'THEMIS_ASI_RAW': {'path_obj': PosixPath('/home/darrenc/pyaurorax_data/THEMIS_ASI_RAW'),\n",
      "                    'size_bytes': 253634069,\n",
      "                    'size_str': '253.6 MB'},\n",
      " 'TREX_RGB_RAW_NOMINAL': {'path_obj': PosixPath('/home/darrenc/pyaurorax_data/TREX_RGB_RAW_NOMINAL'),\n",
      "                          'size_bytes': 7187686,\n",
      "                          'size_str': '7.2 MB'}}\n"
     ]
    }
   ],
   "source": [
    "# alternatively, you can get the data usage information returned as a dictionary\n",
    "data_usage_dict = aurorax.show_data_usage(return_dict=True)\n",
    "pprint.pprint(data_usage_dict)"
   ]
  },
  {
   "cell_type": "code",
   "execution_count": null,
   "metadata": {},
   "outputs": [],
   "source": [
    "# to clean up all data we've downloaded, you can delete\n",
    "# the data using a helper function, or manually delete \n",
    "# it yourself\n",
    "#\n",
    "# delete all data\n",
    "aurorax.purge_download_output_root_path()\n",
    "\n",
    "# delete data for single specific dataset\n",
    "# aurorax.purge_download_output_root_path(dataset_name=\"THEMIS_ASI_RAW\")\n"
   ]
  },
  {
   "cell_type": "code",
   "execution_count": null,
   "metadata": {},
   "outputs": [],
   "source": []
  }
 ],
 "metadata": {
  "kernelspec": {
   "display_name": "pyaurorax39",
   "language": "python",
   "name": "python3"
  },
  "language_info": {
   "codemirror_mode": {
    "name": "ipython",
    "version": 3
   },
   "file_extension": ".py",
   "mimetype": "text/x-python",
   "name": "python",
   "nbconvert_exporter": "python",
   "pygments_lexer": "ipython3",
   "version": "3.9.19"
  }
 },
 "nbformat": 4,
 "nbformat_minor": 2
}
