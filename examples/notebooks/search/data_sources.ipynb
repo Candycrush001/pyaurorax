{
 "cells": [
  {
   "cell_type": "code",
   "execution_count": 1,
   "metadata": {},
   "outputs": [],
   "source": [
    "import pyaurorax\n",
    "import pprint\n",
    "\n",
    "aurorax = pyaurorax.PyAuroraX()"
   ]
  },
  {
   "cell_type": "markdown",
   "metadata": {},
   "source": [
    "# Search Engine Data Sources\n",
    "\n",
    "The AuroraX search engine is around organizing metadata from instruments into 'data sources'. These are identities unique to three attributes: program, platform, and instrument type.\n",
    "\n",
    "A full dive into the AuroraX search engine data can be found [here](https://docs.aurorax.space/about_the_data/overview/)."
   ]
  },
  {
   "cell_type": "code",
   "execution_count": 2,
   "metadata": {},
   "outputs": [
    {
     "name": "stdout",
     "output_type": "stream",
     "text": [
      "[DataSource(identifier=3, program='swarm', platform='swarma', instrument_type='footprint', source_type='leo', display_name='Swarm A', ...),\n",
      " DataSource(identifier=29, program='swarm', platform='swarmb', instrument_type='footprint', source_type='leo', display_name='Swarm B', ...),\n",
      " DataSource(identifier=30, program='swarm', platform='swarmc', instrument_type='footprint', source_type='leo', display_name='Swarm C', ...),\n",
      " DataSource(identifier=32, program='epop', platform='epop', instrument_type='footprint', source_type='leo', display_name='ePOP', ...),\n",
      " DataSource(identifier=33, program='themis', platform='themisa', instrument_type='footprint', source_type='heo', display_name='THEMIS-A', ...)]\n"
     ]
    }
   ],
   "source": [
    "# retrieve all data sources\n",
    "datasets = aurorax.search.sources.list()\n",
    "\n",
    "pprint.pprint(datasets[0:5])"
   ]
  },
  {
   "cell_type": "code",
   "execution_count": 3,
   "metadata": {},
   "outputs": [
    {
     "name": "stdout",
     "output_type": "stream",
     "text": [
      "DataSource:\n",
      "  identifier                    : 3\n",
      "  program                       : swarm\n",
      "  platform                      : swarma\n",
      "  instrument_type               : footprint\n",
      "  source_type                   : leo\n",
      "  display_name                  : Swarm A\n",
      "  metadata                      : {}\n",
      "  owner                         : dchaddoc@ucalgary.ca\n",
      "  maintainers                   : []\n",
      "  ephemeris_metadata_schema     : [{'field_name': 'nbtrace_region', 'description': \"Region based on where the magn...\n",
      "  data_product_metadata_schema  : []\n",
      "  stats                         : []\n",
      "  format                        : full_record\n"
     ]
    }
   ],
   "source": [
    "# data sources also have a helpful print function\n",
    "datasets[0].pretty_print()"
   ]
  },
  {
   "cell_type": "code",
   "execution_count": 4,
   "metadata": {},
   "outputs": [
    {
     "name": "stdout",
     "output_type": "stream",
     "text": [
      "[DataSource(identifier=492, program='amisr', platform='poker flat', instrument_type='ISR', source_type='ground', display_name='PFISR', ...),\n",
      " DataSource(identifier=494, program='amisr', platform='resolute bay', instrument_type='ISR', source_type='ground', display_name='RISR-N', ...),\n",
      " DataSource(identifier=38, program='arase', platform='arase', instrument_type='footprint', source_type='heo', display_name='Arase', ...),\n",
      " DataSource(identifier=175, program='auroramax', platform='yellowknife', instrument_type='DSLR', source_type='ground', display_name='AuroraMAX', ...),\n",
      " DataSource(identifier=406, program='campaigns', platform='lake minnewanka', instrument_type='observer', source_type='ground', display_name='Observer at Lake Minnewanka', ...)]\n"
     ]
    }
   ],
   "source": [
    "# order data sources using the 'program' attribute\n",
    "sources = aurorax.search.sources.list(order=\"program\")\n",
    "\n",
    "pprint.pprint(sources[0:5])"
   ]
  },
  {
   "cell_type": "code",
   "execution_count": 5,
   "metadata": {},
   "outputs": [
    {
     "name": "stdout",
     "output_type": "stream",
     "text": [
      "Identifier   Program   Platform      Instrument Type     Source Type   Display Name          \n",
      "=============================================================================================\n",
      "339          trex      athabasca     RGB ASI             ground        TREx RGB ATHA         \n",
      "341          trex      athabasca     near-infrared ASI   ground        TREx NIR ATHA         \n",
      "344          trex      athabasca     blueline ASI        ground        TREx Blue ATHA        \n",
      "96           trex      fort smith    RGB ASI             ground        TREx RGB FSMI         \n",
      "92           trex      gillam        near-infrared ASI   ground        TREx NIR GILL         \n",
      "93           trex      gillam        blueline ASI        ground        TREx Blue GILL        \n",
      "103          trex      gillam        RGB ASI             ground        TREx RGB GILL         \n",
      "95           trex      lucky lake    spectrograph        ground        TREx Spectrograph LUCK\n",
      "101          trex      lucky lake    RGB ASI             ground        TREx RGB LUCK         \n",
      "374          trex      lucky lake    blueline ASI        ground        TREx Blue LUCK        \n",
      "375          trex      lucky lake    near-infrared ASI   ground        TREx NIR LUCK         \n",
      "102          trex      pinawa        RGB ASI             ground        TREx RGB PINA         \n",
      "340          trex      pinawa        near-infrared ASI   ground        TREx NIR PINA         \n",
      "343          trex      pinawa        blueline ASI        ground        TREx Blue PINA        \n",
      "94           trex      rabbit lake   near-infrared ASI   ground        TREx NIR RABB         \n",
      "97           trex      rabbit lake   spectrograph        ground        TREx Spectrograph RABB\n",
      "104          trex      rabbit lake   RGB ASI             ground        TREx RGB RABB         \n",
      "342          trex      rabbit lake   blueline ASI        ground        TREx Blue RABB        \n"
     ]
    }
   ],
   "source": [
    "# we can alternatively print the data sources in a table format\n",
    "#\n",
    "# this works identically to the list() function, simply printing the\n",
    "# table instead of returning the Dataset objects.\n",
    "aurorax.search.sources.list_in_table(program=\"trex\", order=\"platform\")"
   ]
  },
  {
   "cell_type": "markdown",
   "metadata": {},
   "source": [
    "# Filtering data sources\n",
    "\n",
    "Using the filtering parameters to the `list()` and `list_in_table()` functions, we can retrieve data sources which match certain criteria."
   ]
  },
  {
   "cell_type": "code",
   "execution_count": 6,
   "metadata": {},
   "outputs": [
    {
     "name": "stdout",
     "output_type": "stream",
     "text": [
      "Identifier   Program      Platform        Instrument Type    Source Type   Display Name   \n",
      "==========================================================================================\n",
      "44           themis-asi   athabasca       panchromatic ASI   ground        THEMIS-ASI ATHA\n",
      "45           themis-asi   fort simpson    panchromatic ASI   ground        THEMIS-ASI FSIM\n",
      "46           themis-asi   gillam          panchromatic ASI   ground        THEMIS-ASI GILL\n",
      "47           themis-asi   inuvik          panchromatic ASI   ground        THEMIS-ASI INUV\n",
      "48           themis-asi   kapuskasing     panchromatic ASI   ground        THEMIS-ASI KAPU\n",
      "49           themis-asi   kuujjuaq        panchromatic ASI   ground        THEMIS-ASI KUUJ\n",
      "50           themis-asi   pinawa          panchromatic ASI   ground        THEMIS-ASI PINA\n",
      "51           themis-asi   rankin inlet    panchromatic ASI   ground        THEMIS-ASI RANK\n",
      "52           themis-asi   sanikiluaq      panchromatic ASI   ground        THEMIS-ASI SNKQ\n",
      "53           themis-asi   taloyoak        panchromatic ASI   ground        THEMIS-ASI TALO\n",
      "54           themis-asi   the pas         panchromatic ASI   ground        THEMIS-ASI TPAS\n",
      "55           themis-asi   fort smith      panchromatic ASI   ground        THEMIS-ASI FSMI\n",
      "56           themis-asi   ekati           panchromatic ASI   ground        THEMIS-ASI EKAT\n",
      "57           themis-asi   fort yukon      panchromatic ASI   ground        THEMIS-ASI FYKN\n",
      "58           themis-asi   mcgrath         panchromatic ASI   ground        THEMIS-ASI MCGR\n",
      "59           themis-asi   prince george   panchromatic ASI   ground        THEMIS-ASI PGEO\n",
      "60           themis-asi   snap lake       panchromatic ASI   ground        THEMIS-ASI SNAP\n",
      "61           themis-asi   whitehorse      panchromatic ASI   ground        THEMIS-ASI WHIT\n",
      "62           themis-asi   chibougamau     panchromatic ASI   ground        THEMIS-ASI CHBG\n",
      "64           themis-asi   gakona          panchromatic ASI   ground        THEMIS-ASI GAKO\n",
      "65           themis-asi   kiana           panchromatic ASI   ground        THEMIS-ASI KIAN\n",
      "66           themis-asi   goose bay       panchromatic ASI   ground        THEMIS-ASI GBAY\n",
      "71           themis-asi   narsarsuaq      panchromatic ASI   ground        THEMIS-ASI NRSQ\n",
      "73           themis-asi   yellowknife     panchromatic ASI   ground        THEMIS-ASI YKNF\n"
     ]
    }
   ],
   "source": [
    "# list all THEMIS ASI data sources\n",
    "#\n",
    "# filter on program\n",
    "aurorax.search.sources.list_in_table(program=\"themis-asi\")"
   ]
  },
  {
   "cell_type": "code",
   "execution_count": 7,
   "metadata": {},
   "outputs": [
    {
     "name": "stdout",
     "output_type": "stream",
     "text": [
      "Identifier   Program    Platform       Instrument Type   Source Type   Display Name     \n",
      "========================================================================================\n",
      "86           rainbow    fort simpson   RGB ASI           ground        Rainbow FSIM     \n",
      "87           rainbow    gillam         RGB ASI           ground        Rainbow GILL     \n",
      "88           rainbow    fort smith     RGB ASI           ground        Rainbow FSMI     \n",
      "89           rainbow    rabbit lake    RGB ASI           ground        Rainbow RABB     \n",
      "96           trex       fort smith     RGB ASI           ground        TREx RGB FSMI    \n",
      "98           rainbow    pinawa         RGB ASI           ground        Rainbow PINA     \n",
      "101          trex       lucky lake     RGB ASI           ground        TREx RGB LUCK    \n",
      "102          trex       pinawa         RGB ASI           ground        TREx RGB PINA    \n",
      "103          trex       gillam         RGB ASI           ground        TREx RGB GILL    \n",
      "104          trex       rabbit lake    RGB ASI           ground        TREx RGB RABB    \n",
      "339          trex       athabasca      RGB ASI           ground        TREx RGB ATHA    \n",
      "373          unis/kho   longyearbyen   RGB ASI           ground        UNIS/KHO Sony A7S\n"
     ]
    }
   ],
   "source": [
    "# list all RGB ASIs\n",
    "#\n",
    "# all filter on instrument type\n",
    "aurorax.search.sources.list_in_table(instrument_type=\"RGB ASI\")"
   ]
  },
  {
   "cell_type": "code",
   "execution_count": 8,
   "metadata": {},
   "outputs": [
    {
     "name": "stdout",
     "output_type": "stream",
     "text": [
      "Identifier   Program   Platform   Instrument Type   Source Type   Display Name\n",
      "==============================================================================\n",
      "3            swarm     swarma     footprint         leo           Swarm A     \n",
      "29           swarm     swarmb     footprint         leo           Swarm B     \n",
      "30           swarm     swarmc     footprint         leo           Swarm C     \n"
     ]
    }
   ],
   "source": [
    "# list all Swarm spacecraft data sources\n",
    "#\n",
    "# filter by program\n",
    "aurorax.search.sources.list_in_table(program=\"swarm\")"
   ]
  },
  {
   "cell_type": "code",
   "execution_count": 9,
   "metadata": {},
   "outputs": [
    {
     "name": "stdout",
     "output_type": "stream",
     "text": [
      "Identifier   Program   Platform   Instrument Type   Source Type   Display Name\n",
      "==============================================================================\n",
      "33           themis    themisa    footprint         heo           THEMIS-A    \n",
      "34           themis    themisb    footprint         heo           THEMIS-B    \n",
      "35           themis    themisc    footprint         heo           THEMIS-C    \n",
      "36           themis    themisd    footprint         heo           THEMIS-D    \n",
      "37           themis    themise    footprint         heo           THEMIS-E    \n",
      "38           arase     arase      footprint         heo           Arase       \n",
      "39           cluster   cluster1   footprint         heo           Cluster-1   \n",
      "67           mms       mms1       footprint         heo           MMS 1       \n",
      "68           rbsp      rbspa      footprint         heo           RBSP-A      \n",
      "69           rbsp      rbspb      footprint         heo           RBSP-B      \n",
      "653          goes      goes17     footprint         heo           GOES-17     \n",
      "654          goes      goes8      footprint         heo           GOES-08     \n",
      "655          goes      goes9      footprint         heo           GOES-09     \n",
      "656          goes      goes10     footprint         heo           GOES-10     \n",
      "657          goes      goes12     footprint         heo           GOES-12     \n",
      "658          goes      goes18     footprint         heo           GOES-18     \n",
      "659          goes      goes16     footprint         heo           GOES-16     \n"
     ]
    }
   ],
   "source": [
    "# we can also filter based on the 'source_type' attribute. Valid values\n",
    "# are ground, leo, heo, event_list, and others. See the documentation for\n",
    "# a full list.\n",
    "#\n",
    "# list all HEO data sources (highly-elliptical orbit)\n",
    "aurorax.search.sources.list_in_table(source_type=\"heo\")"
   ]
  },
  {
   "cell_type": "markdown",
   "metadata": {},
   "source": [
    "# Working with identifiers\n",
    "\n",
    "We may want to perform some tasks where the data source identifier is required as an input (ie. updating a data source, adding ephemeris records, etc.). Let's have a look at a few ways to get the identifier."
   ]
  },
  {
   "cell_type": "code",
   "execution_count": 10,
   "metadata": {},
   "outputs": [
    {
     "name": "stdout",
     "output_type": "stream",
     "text": [
      "Identifier: 3\n",
      "\n",
      "DataSource:\n",
      "  identifier                    : 3\n",
      "  program                       : swarm\n",
      "  platform                      : swarma\n",
      "  instrument_type               : footprint\n",
      "  source_type                   : leo\n",
      "  display_name                  : Swarm A\n",
      "  metadata                      : {}\n",
      "  owner                         : dchaddoc@ucalgary.ca\n",
      "  maintainers                   : []\n",
      "  ephemeris_metadata_schema     : [{'field_name': 'nbtrace_region', 'description': \"Region based on where the magn...\n",
      "  data_product_metadata_schema  : []\n",
      "  stats                         : []\n",
      "  format                        : full_record\n"
     ]
    }
   ],
   "source": [
    "# retrieve data source and extract the identifier\n",
    "data_sources = aurorax.search.sources.list(program=\"swarm\", platform=\"swarma\", instrument_type=\"footprint\")\n",
    "identifier = data_sources[0].identifier\n",
    "print(\"Identifier: %d\" % (identifier))\n",
    "print()\n",
    "\n",
    "# get a data source by using the identifier\n",
    "data_source = aurorax.search.sources.get_using_identifier(3)\n",
    "data_source.pretty_print()"
   ]
  },
  {
   "cell_type": "markdown",
   "metadata": {},
   "source": [
    "# Get data source information with different levels of information\n",
    "\n",
    "You can retrieve varying amounts of information about data sources using the `format` parameter. The default, `pyaurorax.FORMAT_BASIC_INFO`, provides basic information, and other format types provide smaller or larger amounts of information.\n",
    "\n",
    "The `DataSource` objects will have all attributes, but depending on the format some fields will be set to `None`."
   ]
  },
  {
   "cell_type": "code",
   "execution_count": 11,
   "metadata": {},
   "outputs": [
    {
     "name": "stdout",
     "output_type": "stream",
     "text": [
      "DataSource(identifier=3, program='swarm', platform='swarma', instrument_type='footprint', source_type='leo', display_name='Swarm A', ...)\n"
     ]
    }
   ],
   "source": [
    "# default information\n",
    "data_source = aurorax.search.sources.get_using_identifier(3, format=pyaurorax.search.FORMAT_BASIC_INFO)\n",
    "print(data_source)"
   ]
  },
  {
   "cell_type": "code",
   "execution_count": 12,
   "metadata": {},
   "outputs": [
    {
     "name": "stdout",
     "output_type": "stream",
     "text": [
      "DataSource(identifier=3, program='None', platform='None', instrument_type='None', source_type='None', display_name='None', ...)\n"
     ]
    }
   ],
   "source": [
    "# as little information as possible\n",
    "data_source = aurorax.search.sources.get(\"swarm\", \"swarma\", \"footprint\", format=pyaurorax.search.FORMAT_IDENTIFIER_ONLY)\n",
    "print(data_source)"
   ]
  },
  {
   "cell_type": "code",
   "execution_count": 13,
   "metadata": {},
   "outputs": [
    {
     "name": "stdout",
     "output_type": "stream",
     "text": [
      "DataSource:\n",
      "  identifier                    : 3\n",
      "  program                       : swarm\n",
      "  platform                      : swarma\n",
      "  instrument_type               : footprint\n",
      "  source_type                   : leo\n",
      "  display_name                  : Swarm A\n",
      "  metadata                      : {}\n",
      "  owner                         : dchaddoc@ucalgary.ca\n",
      "  maintainers                   : []\n",
      "  ephemeris_metadata_schema     : [{'field_name': 'nbtrace_region', 'description': \"Region based on where the magn...\n",
      "  data_product_metadata_schema  : []\n",
      "  stats                         : []\n",
      "  format                        : full_record\n"
     ]
    }
   ],
   "source": [
    "# all information\n",
    "data_source = aurorax.search.sources.get(\"swarm\", \"swarma\", \"footprint\", format=pyaurorax.search.FORMAT_FULL_RECORD)\n",
    "data_source.pretty_print()"
   ]
  },
  {
   "cell_type": "markdown",
   "metadata": {},
   "source": [
    "# Get statistics for a data source\n",
    "\n",
    "Each data source has some addition stats details about them. You can include this information by setting the `include_stats` parameter to `True`."
   ]
  },
  {
   "cell_type": "code",
   "execution_count": 14,
   "metadata": {},
   "outputs": [
    {
     "name": "stdout",
     "output_type": "stream",
     "text": [
      "DataSource:\n",
      "  identifier                    : 37\n",
      "  program                       : themis\n",
      "  platform                      : themise\n",
      "  instrument_type               : footprint\n",
      "  source_type                   : heo\n",
      "  display_name                  : THEMIS-E\n",
      "  metadata                      : {}\n",
      "  owner                         : dchaddoc@ucalgary.ca\n",
      "  maintainers                   : []\n",
      "  ephemeris_metadata_schema     : [{'field_name': 'nbtrace_region', 'description': \"Region based on where the magn...\n",
      "  data_product_metadata_schema  : []\n",
      "  stats                         : []\n",
      "  format                        : full_record\n",
      "\n",
      "DataSourceStatistics:\n",
      "  ephemeris_count               : 11712947\n",
      "  data_product_count            : 0\n",
      "  earliest_ephemeris_loaded     : 2007-02-18 00:14:00\n",
      "  latest_ephemeris_loaded       : 2029-05-27 00:00:00\n",
      "  earliest_data_product_loaded  : None\n",
      "  latest_data_product_loaded    : None\n"
     ]
    }
   ],
   "source": [
    "# get data source with stats information\n",
    "data_source = aurorax.search.sources.get(\"themis\", \"themise\", \"footprint\", include_stats=True)\n",
    "data_source.pretty_print()\n",
    "print()\n",
    "data_source.stats.pretty_print()"
   ]
  },
  {
   "cell_type": "code",
   "execution_count": null,
   "metadata": {},
   "outputs": [],
   "source": []
  }
 ],
 "metadata": {
  "kernelspec": {
   "display_name": "pyaurorax39",
   "language": "python",
   "name": "python3"
  },
  "language_info": {
   "codemirror_mode": {
    "name": "ipython",
    "version": 3
   },
   "file_extension": ".py",
   "mimetype": "text/x-python",
   "name": "python",
   "nbconvert_exporter": "python",
   "pygments_lexer": "ipython3",
   "version": "3.9.20"
  }
 },
 "nbformat": 4,
 "nbformat_minor": 4
}
