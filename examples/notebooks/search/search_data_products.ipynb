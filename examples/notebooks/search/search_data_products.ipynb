{
 "cells": [
  {
   "cell_type": "code",
   "execution_count": 1,
   "id": "6c54fcad",
   "metadata": {},
   "outputs": [],
   "source": [
    "import datetime\n",
    "import pandas as pd\n",
    "import pprint\n",
    "import pyaurorax\n",
    "\n",
    "aurorax = pyaurorax.PyAuroraX()"
   ]
  },
  {
   "cell_type": "markdown",
   "id": "4c75f795",
   "metadata": {},
   "source": [
    "# Search for data product records\n",
    "\n",
    "The AuroraX database also includes records describing data products for auroral data, such as keograms, montages, summary plots, etc. We can search for data products much we searching for ephemeris and conjunctions.\n",
    "\n",
    "More information about data product records can be found [here](https://docs.aurorax.space/about_the_data/overview/) and [here](https://docs.aurorax.space/about_the_data/categories/#data-products).\n",
    "\n",
    "A common stumbling block for making search queries is being unclear on the values that you can use for the program, platform, instrument type, etc. The AuroraX search engine is underpinned by 'data sources', and this is where the information can be found. Use the `aurorax.search.sources.list()` function to show all the available data sources that you can use when constructing search queries. For metadata filter requests, the information is also contained in the data sources that identify the available filter keys and values. We'll have a closer look at this in the metadata filter examples further below."
   ]
  },
  {
   "cell_type": "code",
   "execution_count": 2,
   "id": "48b9cc2c",
   "metadata": {},
   "outputs": [
    {
     "name": "stdout",
     "output_type": "stream",
     "text": [
      "Identifier   Program   Platform      Instrument Type   Source Type   Display Name \n",
      "==================================================================================\n",
      "96           trex      fort smith    RGB ASI           ground        TREx RGB FSMI\n",
      "101          trex      lucky lake    RGB ASI           ground        TREx RGB LUCK\n",
      "102          trex      pinawa        RGB ASI           ground        TREx RGB PINA\n",
      "103          trex      gillam        RGB ASI           ground        TREx RGB GILL\n",
      "104          trex      rabbit lake   RGB ASI           ground        TREx RGB RABB\n",
      "339          trex      athabasca     RGB ASI           ground        TREx RGB ATHA\n"
     ]
    }
   ],
   "source": [
    "# The data sources are what we use for search queries. We list some below,\n",
    "# and in the following search queries in this notebook, we utilize this\n",
    "# information for the program, platform, instrument type fields.\n",
    "\n",
    "# let's list the first 10 data sources just to get us a table view of a few\n",
    "aurorax.search.sources.list_in_table(program=\"trex\", instrument_type=\"RGB ASI\")\n",
    "\n",
    "# the below line gets all data sources, which we'll use later to explore the\n",
    "# available metadata filters\n",
    "sources = aurorax.search.sources.list(program=\"trex\", instrument_type=\"RGB ASI\")"
   ]
  },
  {
   "cell_type": "markdown",
   "id": "3d698db9",
   "metadata": {},
   "source": [
    "Now that we know a bit more about how the data sources come into play with the search engine, let's have a look at a basic data product search. Let's get data product records for all TREx RGB instruments for a day."
   ]
  },
  {
   "cell_type": "code",
   "execution_count": 3,
   "id": "0b9bb0cb",
   "metadata": {},
   "outputs": [
    {
     "name": "stdout",
     "output_type": "stream",
     "text": [
      "[2025-01-26 00:14:34.088667] Search object created\n",
      "[2025-01-26 00:14:34.176518] Request submitted\n",
      "[2025-01-26 00:14:34.176585] Request ID: a1cd8422-4a13-45e8-b91b-386f0ca7a7bb\n",
      "[2025-01-26 00:14:34.176614] Request details available at: https://api.aurorax.space/api/v1/data_products/requests/a1cd8422-4a13-45e8-b91b-386f0ca7a7bb\n",
      "[2025-01-26 00:14:34.176639] Waiting for data ...\n",
      "[2025-01-26 00:14:35.705916] Checking for data ...\n",
      "[2025-01-26 00:14:36.224453] Data is now available\n",
      "[2025-01-26 00:14:36.224645] Retrieving data ...\n",
      "[2025-01-26 00:14:36.362717] Retrieved 684.8 kB of data containing 280 records\n"
     ]
    }
   ],
   "source": [
    "# set search parameters\n",
    "start = datetime.datetime(2020, 2, 1, 0, 0, 0)\n",
    "end = datetime.datetime(2020, 2, 1, 23, 59, 59)\n",
    "programs = [\"trex\"]\n",
    "instrument_types = [\"RGB ASI\"]\n",
    "\n",
    "# perform search\n",
    "s = aurorax.search.data_products.search(start, end, programs=programs, verbose=True)"
   ]
  },
  {
   "cell_type": "code",
   "execution_count": 4,
   "id": "9356aa7f",
   "metadata": {},
   "outputs": [
    {
     "data": {
      "text/html": [
       "<div>\n",
       "<style scoped>\n",
       "    .dataframe tbody tr th:only-of-type {\n",
       "        vertical-align: middle;\n",
       "    }\n",
       "\n",
       "    .dataframe tbody tr th {\n",
       "        vertical-align: top;\n",
       "    }\n",
       "\n",
       "    .dataframe thead th {\n",
       "        text-align: right;\n",
       "    }\n",
       "</style>\n",
       "<table border=\"1\" class=\"dataframe\">\n",
       "  <thead>\n",
       "    <tr style=\"text-align: right;\">\n",
       "      <th></th>\n",
       "      <th>data_source</th>\n",
       "      <th>data_product_type</th>\n",
       "      <th>start</th>\n",
       "      <th>end</th>\n",
       "      <th>url</th>\n",
       "      <th>metadata</th>\n",
       "    </tr>\n",
       "  </thead>\n",
       "  <tbody>\n",
       "    <tr>\n",
       "      <th>0</th>\n",
       "      <td>DataSource(identifier=104, program='trex', pla...</td>\n",
       "      <td>montage</td>\n",
       "      <td>2020-02-01T00:00:00</td>\n",
       "      <td>2020-02-01T00:59:00</td>\n",
       "      <td>https://data.phys.ucalgary.ca/sort_by_project/...</td>\n",
       "      <td>{'montage_type': 'hourly', 'imaging_end_time':...</td>\n",
       "    </tr>\n",
       "    <tr>\n",
       "      <th>26</th>\n",
       "      <td>DataSource(identifier=103, program='trex', pla...</td>\n",
       "      <td>montage</td>\n",
       "      <td>2020-02-01T00:00:00</td>\n",
       "      <td>2020-02-01T23:59:00</td>\n",
       "      <td>https://data.phys.ucalgary.ca/sort_by_project/...</td>\n",
       "      <td>{'montage_type': 'daily', 'imaging_end_time': ...</td>\n",
       "    </tr>\n",
       "    <tr>\n",
       "      <th>27</th>\n",
       "      <td>DataSource(identifier=101, program='trex', pla...</td>\n",
       "      <td>montage</td>\n",
       "      <td>2020-02-01T00:00:00</td>\n",
       "      <td>2020-02-01T23:59:00</td>\n",
       "      <td>https://data.phys.ucalgary.ca/sort_by_project/...</td>\n",
       "      <td>{'montage_type': 'daily', 'imaging_end_time': ...</td>\n",
       "    </tr>\n",
       "    <tr>\n",
       "      <th>28</th>\n",
       "      <td>DataSource(identifier=101, program='trex', pla...</td>\n",
       "      <td>keogram</td>\n",
       "      <td>2020-02-01T00:00:00</td>\n",
       "      <td>2020-02-01T23:59:00</td>\n",
       "      <td>https://data.phys.ucalgary.ca/sort_by_project/...</td>\n",
       "      <td>{'keogram_type': 'daily_moviederived', 'imagin...</td>\n",
       "    </tr>\n",
       "    <tr>\n",
       "      <th>29</th>\n",
       "      <td>DataSource(identifier=102, program='trex', pla...</td>\n",
       "      <td>movie</td>\n",
       "      <td>2020-02-01T00:00:00</td>\n",
       "      <td>2020-02-01T23:59:00</td>\n",
       "      <td>https://data.phys.ucalgary.ca/sort_by_project/...</td>\n",
       "      <td>{'movie_type': 'real-time daily', 'imaging_end...</td>\n",
       "    </tr>\n",
       "    <tr>\n",
       "      <th>30</th>\n",
       "      <td>DataSource(identifier=104, program='trex', pla...</td>\n",
       "      <td>keogram</td>\n",
       "      <td>2020-02-01T00:00:00</td>\n",
       "      <td>2020-02-01T23:59:00</td>\n",
       "      <td>https://data.phys.ucalgary.ca/sort_by_project/...</td>\n",
       "      <td>{'keogram_type': 'daily', 'imaging_end_time': ...</td>\n",
       "    </tr>\n",
       "    <tr>\n",
       "      <th>31</th>\n",
       "      <td>DataSource(identifier=104, program='trex', pla...</td>\n",
       "      <td>keogram</td>\n",
       "      <td>2020-02-01T00:00:00</td>\n",
       "      <td>2020-02-01T23:59:00</td>\n",
       "      <td>https://data.phys.ucalgary.ca/sort_by_project/...</td>\n",
       "      <td>{'keogram_type': 'daily_moviederived', 'imagin...</td>\n",
       "    </tr>\n",
       "    <tr>\n",
       "      <th>32</th>\n",
       "      <td>DataSource(identifier=104, program='trex', pla...</td>\n",
       "      <td>montage</td>\n",
       "      <td>2020-02-01T00:00:00</td>\n",
       "      <td>2020-02-01T23:59:00</td>\n",
       "      <td>https://data.phys.ucalgary.ca/sort_by_project/...</td>\n",
       "      <td>{'montage_type': 'daily', 'imaging_end_time': ...</td>\n",
       "    </tr>\n",
       "    <tr>\n",
       "      <th>33</th>\n",
       "      <td>DataSource(identifier=96, program='trex', plat...</td>\n",
       "      <td>montage</td>\n",
       "      <td>2020-02-01T00:00:00</td>\n",
       "      <td>2020-02-01T23:59:00</td>\n",
       "      <td>https://data.phys.ucalgary.ca/sort_by_project/...</td>\n",
       "      <td>{'montage_type': 'daily', 'imaging_end_time': ...</td>\n",
       "    </tr>\n",
       "    <tr>\n",
       "      <th>34</th>\n",
       "      <td>DataSource(identifier=103, program='trex', pla...</td>\n",
       "      <td>movie</td>\n",
       "      <td>2020-02-01T00:00:00</td>\n",
       "      <td>2020-02-01T23:59:00</td>\n",
       "      <td>https://data.phys.ucalgary.ca/sort_by_project/...</td>\n",
       "      <td>{'movie_type': 'real-time daily', 'imaging_end...</td>\n",
       "    </tr>\n",
       "  </tbody>\n",
       "</table>\n",
       "</div>"
      ],
      "text/plain": [
       "                                          data_source data_product_type  \\\n",
       "0   DataSource(identifier=104, program='trex', pla...           montage   \n",
       "26  DataSource(identifier=103, program='trex', pla...           montage   \n",
       "27  DataSource(identifier=101, program='trex', pla...           montage   \n",
       "28  DataSource(identifier=101, program='trex', pla...           keogram   \n",
       "29  DataSource(identifier=102, program='trex', pla...             movie   \n",
       "30  DataSource(identifier=104, program='trex', pla...           keogram   \n",
       "31  DataSource(identifier=104, program='trex', pla...           keogram   \n",
       "32  DataSource(identifier=104, program='trex', pla...           montage   \n",
       "33  DataSource(identifier=96, program='trex', plat...           montage   \n",
       "34  DataSource(identifier=103, program='trex', pla...             movie   \n",
       "\n",
       "                  start                  end  \\\n",
       "0   2020-02-01T00:00:00  2020-02-01T00:59:00   \n",
       "26  2020-02-01T00:00:00  2020-02-01T23:59:00   \n",
       "27  2020-02-01T00:00:00  2020-02-01T23:59:00   \n",
       "28  2020-02-01T00:00:00  2020-02-01T23:59:00   \n",
       "29  2020-02-01T00:00:00  2020-02-01T23:59:00   \n",
       "30  2020-02-01T00:00:00  2020-02-01T23:59:00   \n",
       "31  2020-02-01T00:00:00  2020-02-01T23:59:00   \n",
       "32  2020-02-01T00:00:00  2020-02-01T23:59:00   \n",
       "33  2020-02-01T00:00:00  2020-02-01T23:59:00   \n",
       "34  2020-02-01T00:00:00  2020-02-01T23:59:00   \n",
       "\n",
       "                                                  url  \\\n",
       "0   https://data.phys.ucalgary.ca/sort_by_project/...   \n",
       "26  https://data.phys.ucalgary.ca/sort_by_project/...   \n",
       "27  https://data.phys.ucalgary.ca/sort_by_project/...   \n",
       "28  https://data.phys.ucalgary.ca/sort_by_project/...   \n",
       "29  https://data.phys.ucalgary.ca/sort_by_project/...   \n",
       "30  https://data.phys.ucalgary.ca/sort_by_project/...   \n",
       "31  https://data.phys.ucalgary.ca/sort_by_project/...   \n",
       "32  https://data.phys.ucalgary.ca/sort_by_project/...   \n",
       "33  https://data.phys.ucalgary.ca/sort_by_project/...   \n",
       "34  https://data.phys.ucalgary.ca/sort_by_project/...   \n",
       "\n",
       "                                             metadata  \n",
       "0   {'montage_type': 'hourly', 'imaging_end_time':...  \n",
       "26  {'montage_type': 'daily', 'imaging_end_time': ...  \n",
       "27  {'montage_type': 'daily', 'imaging_end_time': ...  \n",
       "28  {'keogram_type': 'daily_moviederived', 'imagin...  \n",
       "29  {'movie_type': 'real-time daily', 'imaging_end...  \n",
       "30  {'keogram_type': 'daily', 'imaging_end_time': ...  \n",
       "31  {'keogram_type': 'daily_moviederived', 'imagin...  \n",
       "32  {'montage_type': 'daily', 'imaging_end_time': ...  \n",
       "33  {'montage_type': 'daily', 'imaging_end_time': ...  \n",
       "34  {'movie_type': 'real-time daily', 'imaging_end...  "
      ]
     },
     "execution_count": 4,
     "metadata": {},
     "output_type": "execute_result"
    }
   ],
   "source": [
    "# show the first 10 data product records\n",
    "#\n",
    "# NOTE: while here we format the results into a Pandas dataframe, this\n",
    "# is not required. We actually don't include Pandas as a dependency since\n",
    "# it's used simply as a nice add-on to view data. If you're good with slicing\n",
    "# and dicing lists and dictionaries, you'll be fine without it.\n",
    "data_products = [d.__dict__ for d in s.data]\n",
    "df = pd.DataFrame(data_products)\n",
    "df.sort_values(\"start\")[0:10]"
   ]
  },
  {
   "cell_type": "markdown",
   "id": "9b5a9388",
   "metadata": {},
   "source": [
    "# Search with metadata filters\n",
    "\n",
    "Using the metadata filters to help search for data product records is one of the more advanced tools available. There exist metadata filters for some ground-based auroral data sources that we can utilize to filter our results further.\n",
    "\n",
    "An important part of being able to utilize the metadata filters is knowing the available keys and values. Each data source record has an attribute named `data_product_metadata_schema`. "
   ]
  },
  {
   "cell_type": "code",
   "execution_count": 5,
   "id": "d660be86",
   "metadata": {},
   "outputs": [
    {
     "name": "stdout",
     "output_type": "stream",
     "text": [
      "trex fort smith RGB ASI\n",
      "{'additional_description': '',\n",
      " 'allowed_values': ['hourly',\n",
      "                    'hourly_hires',\n",
      "                    'daily',\n",
      "                    'daily_hires',\n",
      "                    'daily_hires_200px',\n",
      "                    'daily_moviebased'],\n",
      " 'data_type': 'string',\n",
      " 'description': 'Type of keogram',\n",
      " 'field_name': 'keogram_type'}\n"
     ]
    }
   ],
   "source": [
    "# using the data source listing that we retrieved further above, let's\n",
    "# have a look at one of the records\n",
    "#\n",
    "# for the first data source, print only the first metadata filter info\n",
    "print(sources[0].program, sources[0].platform, sources[0].instrument_type)\n",
    "pprint.pprint(sources[0].data_product_metadata_schema[0])  # type: ignore"
   ]
  },
  {
   "cell_type": "markdown",
   "id": "3b2ebf3c",
   "metadata": {},
   "source": [
    "We see above, just one of the metadata filters we can use for a TREx RGB. We'll leave it up to you from here to explore the additional filters for the TREx RGBs, and the available filters for any other data source.\n",
    "\n",
    "Now that we understand the metadata filter keys and values a bit more, we will look at a simple example where we search for data product data filtering for specifically daily keograms for the TREx RGBs."
   ]
  },
  {
   "cell_type": "code",
   "execution_count": 6,
   "id": "794e853f",
   "metadata": {},
   "outputs": [
    {
     "name": "stdout",
     "output_type": "stream",
     "text": [
      "[2025-01-26 00:14:36.415289] Search object created\n"
     ]
    },
    {
     "name": "stdout",
     "output_type": "stream",
     "text": [
      "[2025-01-26 00:14:36.458252] Request submitted\n",
      "[2025-01-26 00:14:36.458401] Request ID: 39d9f13e-96df-4cd2-bd83-86d826d0551b\n",
      "[2025-01-26 00:14:36.458433] Request details available at: https://api.aurorax.space/api/v1/data_products/requests/39d9f13e-96df-4cd2-bd83-86d826d0551b\n",
      "[2025-01-26 00:14:36.458456] Waiting for data ...\n",
      "[2025-01-26 00:14:37.966013] Checking for data ...\n",
      "[2025-01-26 00:14:38.461931] Data is now available\n",
      "[2025-01-26 00:14:38.462105] Retrieving data ...\n",
      "[2025-01-26 00:14:38.518135] Retrieved 12.8 kB of data containing 5 records\n"
     ]
    }
   ],
   "source": [
    "# set search parameters\n",
    "start = datetime.datetime(2021, 1, 1, 0, 0, 0)\n",
    "end = datetime.datetime(2021, 1, 1, 23, 59, 59)\n",
    "programs = [\"trex\"]\n",
    "instrument_types = [\"RGB ASI\"]\n",
    "\n",
    "# set metadata filters\n",
    "# set metadata filter\n",
    "metadata_filter = aurorax.search.MetadataFilter(expressions=[\n",
    "    aurorax.search.MetadataFilterExpression(\"keogram_type\", \"daily\", operator=\"=\"),\n",
    "])\n",
    "\n",
    "# perform search\n",
    "s = aurorax.search.data_products.search(\n",
    "    start,\n",
    "    end,\n",
    "    programs=programs,\n",
    "    instrument_types=instrument_types,\n",
    "    metadata_filters=metadata_filter,\n",
    "    verbose=True,\n",
    ")"
   ]
  },
  {
   "cell_type": "code",
   "execution_count": 7,
   "id": "dd533f5d",
   "metadata": {},
   "outputs": [
    {
     "data": {
      "text/html": [
       "<div>\n",
       "<style scoped>\n",
       "    .dataframe tbody tr th:only-of-type {\n",
       "        vertical-align: middle;\n",
       "    }\n",
       "\n",
       "    .dataframe tbody tr th {\n",
       "        vertical-align: top;\n",
       "    }\n",
       "\n",
       "    .dataframe thead th {\n",
       "        text-align: right;\n",
       "    }\n",
       "</style>\n",
       "<table border=\"1\" class=\"dataframe\">\n",
       "  <thead>\n",
       "    <tr style=\"text-align: right;\">\n",
       "      <th></th>\n",
       "      <th>data_source</th>\n",
       "      <th>data_product_type</th>\n",
       "      <th>start</th>\n",
       "      <th>end</th>\n",
       "      <th>url</th>\n",
       "      <th>metadata</th>\n",
       "    </tr>\n",
       "  </thead>\n",
       "  <tbody>\n",
       "    <tr>\n",
       "      <th>0</th>\n",
       "      <td>DataSource(identifier=96, program='trex', plat...</td>\n",
       "      <td>keogram</td>\n",
       "      <td>2021-01-01T00:00:00</td>\n",
       "      <td>2021-01-01T23:59:00</td>\n",
       "      <td>https://data.phys.ucalgary.ca/sort_by_project/...</td>\n",
       "      <td>{'keogram_type': 'daily', 'imaging_end_time': ...</td>\n",
       "    </tr>\n",
       "    <tr>\n",
       "      <th>1</th>\n",
       "      <td>DataSource(identifier=101, program='trex', pla...</td>\n",
       "      <td>keogram</td>\n",
       "      <td>2021-01-01T00:00:00</td>\n",
       "      <td>2021-01-01T23:59:00</td>\n",
       "      <td>https://data.phys.ucalgary.ca/sort_by_project/...</td>\n",
       "      <td>{'keogram_type': 'daily', 'imaging_end_time': ...</td>\n",
       "    </tr>\n",
       "    <tr>\n",
       "      <th>2</th>\n",
       "      <td>DataSource(identifier=102, program='trex', pla...</td>\n",
       "      <td>keogram</td>\n",
       "      <td>2021-01-01T00:00:00</td>\n",
       "      <td>2021-01-01T23:59:00</td>\n",
       "      <td>https://data.phys.ucalgary.ca/sort_by_project/...</td>\n",
       "      <td>{'keogram_type': 'daily', 'imaging_end_time': ...</td>\n",
       "    </tr>\n",
       "    <tr>\n",
       "      <th>3</th>\n",
       "      <td>DataSource(identifier=103, program='trex', pla...</td>\n",
       "      <td>keogram</td>\n",
       "      <td>2021-01-01T00:00:00</td>\n",
       "      <td>2021-01-01T23:59:00</td>\n",
       "      <td>https://data.phys.ucalgary.ca/sort_by_project/...</td>\n",
       "      <td>{'keogram_type': 'daily', 'imaging_end_time': ...</td>\n",
       "    </tr>\n",
       "    <tr>\n",
       "      <th>4</th>\n",
       "      <td>DataSource(identifier=104, program='trex', pla...</td>\n",
       "      <td>keogram</td>\n",
       "      <td>2021-01-01T00:00:00</td>\n",
       "      <td>2021-01-01T23:59:00</td>\n",
       "      <td>https://data.phys.ucalgary.ca/sort_by_project/...</td>\n",
       "      <td>{'keogram_type': 'daily', 'imaging_end_time': ...</td>\n",
       "    </tr>\n",
       "  </tbody>\n",
       "</table>\n",
       "</div>"
      ],
      "text/plain": [
       "                                         data_source data_product_type  \\\n",
       "0  DataSource(identifier=96, program='trex', plat...           keogram   \n",
       "1  DataSource(identifier=101, program='trex', pla...           keogram   \n",
       "2  DataSource(identifier=102, program='trex', pla...           keogram   \n",
       "3  DataSource(identifier=103, program='trex', pla...           keogram   \n",
       "4  DataSource(identifier=104, program='trex', pla...           keogram   \n",
       "\n",
       "                 start                  end  \\\n",
       "0  2021-01-01T00:00:00  2021-01-01T23:59:00   \n",
       "1  2021-01-01T00:00:00  2021-01-01T23:59:00   \n",
       "2  2021-01-01T00:00:00  2021-01-01T23:59:00   \n",
       "3  2021-01-01T00:00:00  2021-01-01T23:59:00   \n",
       "4  2021-01-01T00:00:00  2021-01-01T23:59:00   \n",
       "\n",
       "                                                 url  \\\n",
       "0  https://data.phys.ucalgary.ca/sort_by_project/...   \n",
       "1  https://data.phys.ucalgary.ca/sort_by_project/...   \n",
       "2  https://data.phys.ucalgary.ca/sort_by_project/...   \n",
       "3  https://data.phys.ucalgary.ca/sort_by_project/...   \n",
       "4  https://data.phys.ucalgary.ca/sort_by_project/...   \n",
       "\n",
       "                                            metadata  \n",
       "0  {'keogram_type': 'daily', 'imaging_end_time': ...  \n",
       "1  {'keogram_type': 'daily', 'imaging_end_time': ...  \n",
       "2  {'keogram_type': 'daily', 'imaging_end_time': ...  \n",
       "3  {'keogram_type': 'daily', 'imaging_end_time': ...  \n",
       "4  {'keogram_type': 'daily', 'imaging_end_time': ...  "
      ]
     },
     "execution_count": 7,
     "metadata": {},
     "output_type": "execute_result"
    }
   ],
   "source": [
    "# show the results\n",
    "data_products = [d.__dict__ for d in s.data]\n",
    "df = pd.DataFrame(data_products)\n",
    "df.sort_values(\"start\")"
   ]
  },
  {
   "cell_type": "markdown",
   "id": "5dcdf0ef",
   "metadata": {},
   "source": [
    "# Do the search step-by-step\n",
    "\n",
    "Under the hood, the AuroraX API performs a data products search asynchronously. Note that this does not mean that it can be done using a Python async method; it means that PyAuroraX does more than just a single HTTP request when doing a search. With the API operating this way, it adds some more complexity within PyAuroraX but also opens the search up to some very important capabilities. \n",
    "\n",
    "The main capability enabled by this architecture is being able to perform queries for large timeframes, and/or between a large number of data sources. Queries like this can sometimes take several minutes, and cause browsers and programmatic HTTP requests to timeout.\n",
    "\n",
    "Instead of using the `aurorax.search.data_products.search()` method like we have been, you can also perform a search step-by-step when more control over the process is desired. This is achieved by using the `return_immediately` parameter. One use case for this is if you want to start a series of searches, and then go through each getting the results back as they finish, as opposed to doing one search at a time (parallelized searches)."
   ]
  },
  {
   "cell_type": "code",
   "execution_count": 8,
   "id": "3a54eeac",
   "metadata": {},
   "outputs": [
    {
     "name": "stdout",
     "output_type": "stream",
     "text": [
      "DataProductSearch:\n",
      "  executed     : False\n",
      "  completed    : False\n",
      "  request_id   : \n",
      "  request      : None\n",
      "  request_url  : \n",
      "  data_url     : \n",
      "  query        : {'data_sources': {'programs': ['trex'], 'platforms': [], 'instrument_types': ['R...\n",
      "  status       : {}\n",
      "  data         : \n",
      "  logs         : \n"
     ]
    }
   ],
   "source": [
    "# set up the search parameters\n",
    "start = datetime.datetime(2020, 2, 1, 0, 0, 0)\n",
    "end = datetime.datetime(2020, 2, 5, 23, 59, 59)\n",
    "programs = [\"trex\"]\n",
    "instrument_types = [\"RGB ASI\"]\n",
    "\n",
    "# create the Search object\n",
    "s = aurorax.search.data_products.search(start, end, programs=programs, instrument_types=instrument_types, return_immediately=True)\n",
    "s.pretty_print()"
   ]
  },
  {
   "cell_type": "code",
   "execution_count": 9,
   "id": "9de3d908",
   "metadata": {},
   "outputs": [
    {
     "name": "stdout",
     "output_type": "stream",
     "text": [
      "DataProductSearch:\n",
      "  executed     : True\n",
      "  completed    : False\n",
      "  request_id   : 0348c764-7afa-4a3b-a72a-4385baa6b908\n",
      "  request      : AuroraXAPIResponse [202] (Accepted)\n",
      "  request_url  : https://api.aurorax.space/api/v1/data_products/requests/0348c764-7afa-4a3b-a72a-4385baa6b908\n",
      "  data_url     : \n",
      "  query        : {'data_sources': {'programs': ['trex'], 'platforms': [], 'instrument_types': ['R...\n",
      "  status       : {}\n",
      "  data         : [0 data product results]\n",
      "  logs         : [0 log messages]\n"
     ]
    }
   ],
   "source": [
    "# submit the search to begin\n",
    "s.execute()\n",
    "s.pretty_print()"
   ]
  },
  {
   "cell_type": "code",
   "execution_count": 10,
   "id": "5db14c36",
   "metadata": {},
   "outputs": [
    {
     "name": "stdout",
     "output_type": "stream",
     "text": [
      "DataProductSearch:\n",
      "  executed     : True\n",
      "  completed    : False\n",
      "  request_id   : 0348c764-7afa-4a3b-a72a-4385baa6b908\n",
      "  request      : AuroraXAPIResponse [202] (Accepted)\n",
      "  request_url  : https://api.aurorax.space/api/v1/data_products/requests/0348c764-7afa-4a3b-a72a-4385baa6b908\n",
      "  data_url     : \n",
      "  query        : {'data_sources': {'programs': ['trex'], 'platforms': [], 'instrument_types': ['R...\n",
      "  status       : {'search_request': {'request_id': '0348c764-7afa-4a3b-a72a-4385baa6b908', 'query...\n",
      "  data         : [0 data product results]\n",
      "  logs         : [2 log messages]\n"
     ]
    }
   ],
   "source": [
    "# update the search request status\n",
    "s.update_status()\n",
    "s.pretty_print()"
   ]
  },
  {
   "cell_type": "code",
   "execution_count": 11,
   "id": "0ba4da1f",
   "metadata": {},
   "outputs": [
    {
     "name": "stdout",
     "output_type": "stream",
     "text": [
      "DataProductSearch:\n",
      "  executed     : True\n",
      "  completed    : True\n",
      "  request_id   : 0348c764-7afa-4a3b-a72a-4385baa6b908\n",
      "  request      : AuroraXAPIResponse [202] (Accepted)\n",
      "  request_url  : https://api.aurorax.space/api/v1/data_products/requests/0348c764-7afa-4a3b-a72a-4385baa6b908\n",
      "  data_url     : https://api.aurorax.space/api/v1/data_products/requests/0348c764-7afa-4a3b-a72a-4385baa6b908/data\n",
      "  query        : {'data_sources': {'programs': ['trex'], 'platforms': [], 'instrument_types': ['R...\n",
      "  status       : {'search_request': {'request_id': '0348c764-7afa-4a3b-a72a-4385baa6b908', 'query...\n",
      "  data         : [0 data product results]\n",
      "  logs         : [7 log messages]\n"
     ]
    }
   ],
   "source": [
    "# wait for the data to be available\n",
    "s.wait()\n",
    "s.update_status()\n",
    "s.pretty_print()"
   ]
  },
  {
   "cell_type": "code",
   "execution_count": 12,
   "id": "55a29222",
   "metadata": {},
   "outputs": [
    {
     "name": "stdout",
     "output_type": "stream",
     "text": [
      "DataProductSearch:\n",
      "  executed     : True\n",
      "  completed    : True\n",
      "  request_id   : 0348c764-7afa-4a3b-a72a-4385baa6b908\n",
      "  request      : AuroraXAPIResponse [202] (Accepted)\n",
      "  request_url  : https://api.aurorax.space/api/v1/data_products/requests/0348c764-7afa-4a3b-a72a-4385baa6b908\n",
      "  data_url     : https://api.aurorax.space/api/v1/data_products/requests/0348c764-7afa-4a3b-a72a-4385baa6b908/data\n",
      "  query        : {'data_sources': {'programs': ['trex'], 'platforms': [], 'instrument_types': ['R...\n",
      "  status       : {'search_request': {'request_id': '0348c764-7afa-4a3b-a72a-4385baa6b908', 'query...\n",
      "  data         : [820 data product results]\n",
      "  logs         : [7 log messages]\n"
     ]
    }
   ],
   "source": [
    "# now that we know the request is complete, let's retrieve the data\n",
    "s.get_data()\n",
    "s.pretty_print()"
   ]
  },
  {
   "cell_type": "code",
   "execution_count": 13,
   "id": "3ecc4eb9",
   "metadata": {},
   "outputs": [
    {
     "data": {
      "text/html": [
       "<div>\n",
       "<style scoped>\n",
       "    .dataframe tbody tr th:only-of-type {\n",
       "        vertical-align: middle;\n",
       "    }\n",
       "\n",
       "    .dataframe tbody tr th {\n",
       "        vertical-align: top;\n",
       "    }\n",
       "\n",
       "    .dataframe thead th {\n",
       "        text-align: right;\n",
       "    }\n",
       "</style>\n",
       "<table border=\"1\" class=\"dataframe\">\n",
       "  <thead>\n",
       "    <tr style=\"text-align: right;\">\n",
       "      <th></th>\n",
       "      <th>data_source</th>\n",
       "      <th>data_product_type</th>\n",
       "      <th>start</th>\n",
       "      <th>end</th>\n",
       "      <th>url</th>\n",
       "      <th>metadata</th>\n",
       "    </tr>\n",
       "  </thead>\n",
       "  <tbody>\n",
       "    <tr>\n",
       "      <th>0</th>\n",
       "      <td>DataSource(identifier=102, program='trex', pla...</td>\n",
       "      <td>keogram</td>\n",
       "      <td>2020-02-01T00:00:00</td>\n",
       "      <td>2020-02-01T23:59:00</td>\n",
       "      <td>https://data.phys.ucalgary.ca/sort_by_project/...</td>\n",
       "      <td>{'keogram_type': 'daily_moviederived', 'imagin...</td>\n",
       "    </tr>\n",
       "    <tr>\n",
       "      <th>20</th>\n",
       "      <td>DataSource(identifier=101, program='trex', pla...</td>\n",
       "      <td>keogram</td>\n",
       "      <td>2020-02-01T00:00:00</td>\n",
       "      <td>2020-02-01T23:59:00</td>\n",
       "      <td>https://data.phys.ucalgary.ca/sort_by_project/...</td>\n",
       "      <td>{'keogram_type': 'daily_hires', 'imaging_end_t...</td>\n",
       "    </tr>\n",
       "    <tr>\n",
       "      <th>21</th>\n",
       "      <td>DataSource(identifier=101, program='trex', pla...</td>\n",
       "      <td>keogram</td>\n",
       "      <td>2020-02-01T00:00:00</td>\n",
       "      <td>2020-02-01T23:59:00</td>\n",
       "      <td>https://data.phys.ucalgary.ca/sort_by_project/...</td>\n",
       "      <td>{'keogram_type': 'daily_moviederived', 'imagin...</td>\n",
       "    </tr>\n",
       "    <tr>\n",
       "      <th>22</th>\n",
       "      <td>DataSource(identifier=103, program='trex', pla...</td>\n",
       "      <td>montage</td>\n",
       "      <td>2020-02-01T00:00:00</td>\n",
       "      <td>2020-02-01T00:59:00</td>\n",
       "      <td>https://data.phys.ucalgary.ca/sort_by_project/...</td>\n",
       "      <td>{'montage_type': 'hourly', 'imaging_end_time':...</td>\n",
       "    </tr>\n",
       "    <tr>\n",
       "      <th>23</th>\n",
       "      <td>DataSource(identifier=103, program='trex', pla...</td>\n",
       "      <td>keogram</td>\n",
       "      <td>2020-02-01T00:00:00</td>\n",
       "      <td>2020-02-01T00:59:00</td>\n",
       "      <td>https://data.phys.ucalgary.ca/sort_by_project/...</td>\n",
       "      <td>{'keogram_type': 'hourly', 'imaging_end_time':...</td>\n",
       "    </tr>\n",
       "    <tr>\n",
       "      <th>24</th>\n",
       "      <td>DataSource(identifier=103, program='trex', pla...</td>\n",
       "      <td>keogram</td>\n",
       "      <td>2020-02-01T00:00:00</td>\n",
       "      <td>2020-02-01T23:59:00</td>\n",
       "      <td>https://data.phys.ucalgary.ca/sort_by_project/...</td>\n",
       "      <td>{'keogram_type': 'daily_moviederived', 'imagin...</td>\n",
       "    </tr>\n",
       "    <tr>\n",
       "      <th>26</th>\n",
       "      <td>DataSource(identifier=103, program='trex', pla...</td>\n",
       "      <td>keogram</td>\n",
       "      <td>2020-02-01T00:00:00</td>\n",
       "      <td>2020-02-01T23:59:00</td>\n",
       "      <td>https://data.phys.ucalgary.ca/sort_by_project/...</td>\n",
       "      <td>{'keogram_type': 'daily_hires_200px', 'imaging...</td>\n",
       "    </tr>\n",
       "    <tr>\n",
       "      <th>27</th>\n",
       "      <td>DataSource(identifier=103, program='trex', pla...</td>\n",
       "      <td>montage</td>\n",
       "      <td>2020-02-01T00:00:00</td>\n",
       "      <td>2020-02-01T23:59:00</td>\n",
       "      <td>https://data.phys.ucalgary.ca/sort_by_project/...</td>\n",
       "      <td>{'montage_type': 'daily', 'imaging_end_time': ...</td>\n",
       "    </tr>\n",
       "    <tr>\n",
       "      <th>28</th>\n",
       "      <td>DataSource(identifier=103, program='trex', pla...</td>\n",
       "      <td>keogram</td>\n",
       "      <td>2020-02-01T00:00:00</td>\n",
       "      <td>2020-02-01T23:59:00</td>\n",
       "      <td>https://data.phys.ucalgary.ca/sort_by_project/...</td>\n",
       "      <td>{'keogram_type': 'daily', 'imaging_end_time': ...</td>\n",
       "    </tr>\n",
       "    <tr>\n",
       "      <th>29</th>\n",
       "      <td>DataSource(identifier=103, program='trex', pla...</td>\n",
       "      <td>movie</td>\n",
       "      <td>2020-02-01T00:00:00</td>\n",
       "      <td>2020-02-01T23:59:00</td>\n",
       "      <td>https://data.phys.ucalgary.ca/sort_by_project/...</td>\n",
       "      <td>{'movie_type': 'real-time daily', 'imaging_end...</td>\n",
       "    </tr>\n",
       "  </tbody>\n",
       "</table>\n",
       "</div>"
      ],
      "text/plain": [
       "                                          data_source data_product_type  \\\n",
       "0   DataSource(identifier=102, program='trex', pla...           keogram   \n",
       "20  DataSource(identifier=101, program='trex', pla...           keogram   \n",
       "21  DataSource(identifier=101, program='trex', pla...           keogram   \n",
       "22  DataSource(identifier=103, program='trex', pla...           montage   \n",
       "23  DataSource(identifier=103, program='trex', pla...           keogram   \n",
       "24  DataSource(identifier=103, program='trex', pla...           keogram   \n",
       "26  DataSource(identifier=103, program='trex', pla...           keogram   \n",
       "27  DataSource(identifier=103, program='trex', pla...           montage   \n",
       "28  DataSource(identifier=103, program='trex', pla...           keogram   \n",
       "29  DataSource(identifier=103, program='trex', pla...             movie   \n",
       "\n",
       "                  start                  end  \\\n",
       "0   2020-02-01T00:00:00  2020-02-01T23:59:00   \n",
       "20  2020-02-01T00:00:00  2020-02-01T23:59:00   \n",
       "21  2020-02-01T00:00:00  2020-02-01T23:59:00   \n",
       "22  2020-02-01T00:00:00  2020-02-01T00:59:00   \n",
       "23  2020-02-01T00:00:00  2020-02-01T00:59:00   \n",
       "24  2020-02-01T00:00:00  2020-02-01T23:59:00   \n",
       "26  2020-02-01T00:00:00  2020-02-01T23:59:00   \n",
       "27  2020-02-01T00:00:00  2020-02-01T23:59:00   \n",
       "28  2020-02-01T00:00:00  2020-02-01T23:59:00   \n",
       "29  2020-02-01T00:00:00  2020-02-01T23:59:00   \n",
       "\n",
       "                                                  url  \\\n",
       "0   https://data.phys.ucalgary.ca/sort_by_project/...   \n",
       "20  https://data.phys.ucalgary.ca/sort_by_project/...   \n",
       "21  https://data.phys.ucalgary.ca/sort_by_project/...   \n",
       "22  https://data.phys.ucalgary.ca/sort_by_project/...   \n",
       "23  https://data.phys.ucalgary.ca/sort_by_project/...   \n",
       "24  https://data.phys.ucalgary.ca/sort_by_project/...   \n",
       "26  https://data.phys.ucalgary.ca/sort_by_project/...   \n",
       "27  https://data.phys.ucalgary.ca/sort_by_project/...   \n",
       "28  https://data.phys.ucalgary.ca/sort_by_project/...   \n",
       "29  https://data.phys.ucalgary.ca/sort_by_project/...   \n",
       "\n",
       "                                             metadata  \n",
       "0   {'keogram_type': 'daily_moviederived', 'imagin...  \n",
       "20  {'keogram_type': 'daily_hires', 'imaging_end_t...  \n",
       "21  {'keogram_type': 'daily_moviederived', 'imagin...  \n",
       "22  {'montage_type': 'hourly', 'imaging_end_time':...  \n",
       "23  {'keogram_type': 'hourly', 'imaging_end_time':...  \n",
       "24  {'keogram_type': 'daily_moviederived', 'imagin...  \n",
       "26  {'keogram_type': 'daily_hires_200px', 'imaging...  \n",
       "27  {'montage_type': 'daily', 'imaging_end_time': ...  \n",
       "28  {'keogram_type': 'daily', 'imaging_end_time': ...  \n",
       "29  {'movie_type': 'real-time daily', 'imaging_end...  "
      ]
     },
     "execution_count": 13,
     "metadata": {},
     "output_type": "execute_result"
    }
   ],
   "source": [
    "# show the first 10 data product results\n",
    "data_products = [d.__dict__ for d in s.data]\n",
    "df = pd.DataFrame(data_products)\n",
    "df.sort_values(\"start\")[0:10]"
   ]
  },
  {
   "cell_type": "markdown",
   "id": "4917bbb2",
   "metadata": {},
   "source": [
    "# Describe the data products search as an SQL-like statement\n",
    "\n",
    "To help understand the query a bit more, you can also 'describe' the search as an SQL-like statement. Let's look at a simple example of this."
   ]
  },
  {
   "cell_type": "code",
   "execution_count": 2,
   "id": "2d3b6be3",
   "metadata": {},
   "outputs": [
    {
     "name": "stdout",
     "output_type": "stream",
     "text": [
      "Query description: Find data_products for ((program in (trex) filtered by metadata ()) AND  data_product_metadata_filters []) AND data_product start >= 2020-02-01T00:00 UTC AND data_product end <= 2020-02-01T23:59:59 UTC AND\n",
      "\n",
      "Search completed. Found 280 data product records\n"
     ]
    }
   ],
   "source": [
    "# set search parameters\n",
    "start = datetime.datetime(2020, 2, 1, 0, 0, 0)\n",
    "end = datetime.datetime(2020, 2, 1, 23, 59, 59)\n",
    "programs = [\"trex\"]\n",
    "instrument_types = [\"RGB ASI\"]\n",
    "\n",
    "# set up search\n",
    "#\n",
    "# NOTE: to 'describe' a query, you don't need to actually execute the search\n",
    "# if you don't want to. You can use this to help you make sure the search is\n",
    "# what you want, and then execute it after.\n",
    "s = aurorax.search.data_products.search(start, end, programs=programs, return_immediately=True)\n",
    "\n",
    "# describe the search\n",
    "print(\"Query description: %s\" % (s.describe()))\n",
    "\n",
    "# execute the search now\n",
    "s.execute()\n",
    "s.wait()\n",
    "s.get_data()\n",
    "print(\"\\nSearch completed. Found %d data product records\" % (s.status[\"search_result\"][\"result_count\"]))"
   ]
  },
  {
   "cell_type": "markdown",
   "id": "3282189c",
   "metadata": {},
   "source": [
    "# Configure the response data\n",
    "\n",
    "Search data can be configured to only return certain pieces of information for each data product record. For any web developers reading this guide, this is similar to GraphQL where you can easily control what data you get back from an API. The common use case for this is if you do a data product search and you'd like to optimize the response time, you can cut down on the amount of data that you get back. Perhaps you want to do a search but only really care about a few certain key pieces of information. You can use the response format parameter to prune down the result to be a fraction of the data that would normally be returned, effectively increasing the speed of data download / overall `search()` function time.\n",
    "\n",
    "To do this, we utilize the `response_format` parameter to control the data product data structure we get back. One asterisks surrounding searches which use the response format parameter - the data returned will be a list of dictionaries, instead of a list of `DataProductData` objects.\n",
    "\n",
    "The next question you may have is 'how do you know the response format possibilities'?\n",
    "\n",
    "To help answer this, you can use the `aurorax.search.data_products.create_response_format_template()` function. This will return a template for the `response_format` parameter. Take this, adjust as needed, and use for search requests."
   ]
  },
  {
   "cell_type": "code",
   "execution_count": 3,
   "id": "4ae08412",
   "metadata": {},
   "outputs": [
    {
     "name": "stdout",
     "output_type": "stream",
     "text": [
      "{'data_product_type': True,\n",
      " 'data_source': {'data_product_metadata_schema': {'additional_description': True,\n",
      "                                                  'allowed_values': True,\n",
      "                                                  'data_type': True,\n",
      "                                                  'description': True,\n",
      "                                                  'field_name': True},\n",
      "                 'display_name': True,\n",
      "                 'ephemeris_metadata_schema': {'additional_description': True,\n",
      "                                               'allowed_values': True,\n",
      "                                               'data_type': True,\n",
      "                                               'description': True,\n",
      "                                               'field_name': True},\n",
      "                 'identifier': True,\n",
      "                 'instrument_type': True,\n",
      "                 'maintainers': True,\n",
      "                 'metadata': True,\n",
      "                 'owner': True,\n",
      "                 'platform': True,\n",
      "                 'program': True,\n",
      "                 'source_type': True},\n",
      " 'end': True,\n",
      " 'metadata': True,\n",
      " 'start': True,\n",
      " 'url': True}\n"
     ]
    }
   ],
   "source": [
    "pprint.pprint(aurorax.search.data_products.create_response_format_template())"
   ]
  },
  {
   "cell_type": "markdown",
   "id": "82bb9701",
   "metadata": {},
   "source": [
    "Ok, let's have a look at an example now. \n",
    "\n",
    "We'll do a simple search for TREx RGB data products spanning a single day. The response format will include just the identifier and display name for the data source, and the start, end, and URL for the data product."
   ]
  },
  {
   "cell_type": "code",
   "execution_count": 2,
   "id": "4bec07b8",
   "metadata": {},
   "outputs": [
    {
     "name": "stdout",
     "output_type": "stream",
     "text": [
      "[2025-02-12 07:03:49.969766] Search object created\n",
      "[2025-02-12 07:03:50.003836] Request submitted\n",
      "[2025-02-12 07:03:50.003861] Request ID: 795149d6-a326-40e6-ad1f-515ecd400260\n",
      "[2025-02-12 07:03:50.003865] Request details available at: https://api.aurorax.space/api/v1/data_products/requests/795149d6-a326-40e6-ad1f-515ecd400260\n",
      "[2025-02-12 07:03:50.003868] Waiting for data ...\n",
      "[2025-02-12 07:03:51.440168] Checking for data ...\n",
      "[2025-02-12 07:03:51.883085] Data is now available\n",
      "[2025-02-12 07:03:51.883171] Retrieving data ...\n",
      "[2025-02-12 07:03:52.020265] Retrieved 684.8 kB of data containing 280 records\n"
     ]
    }
   ],
   "source": [
    "# set our response format\n",
    "response_format = {\n",
    "    \"start\": True,\n",
    "    \"end\": True,\n",
    "    \"url\": True,\n",
    "    \"data_product_type\": True,\n",
    "    \"data_source\": {\n",
    "        \"display_name\": True,\n",
    "        \"identifier\": True,\n",
    "    },\n",
    "}\n",
    "\n",
    "# set core search parameters\n",
    "start = datetime.datetime(2020, 2, 1, 0, 0, 0)\n",
    "end = datetime.datetime(2020, 2, 1, 23, 59, 59)\n",
    "programs = [\"trex\"]\n",
    "instrument_types = [\"RGB ASI\"]\n",
    "\n",
    "# perform search\n",
    "s = aurorax.search.data_products.search(start, end, programs=programs, response_format=response_format, verbose=True)"
   ]
  },
  {
   "cell_type": "code",
   "execution_count": 3,
   "id": "7cdca08c",
   "metadata": {},
   "outputs": [
    {
     "name": "stdout",
     "output_type": "stream",
     "text": [
      "{'data_product_type': 'montage',\n",
      " 'data_source': {'display_name': 'TREx RGB RABB', 'identifier': 104},\n",
      " 'end': datetime.datetime(2020, 2, 1, 0, 59),\n",
      " 'start': datetime.datetime(2020, 2, 1, 0, 0),\n",
      " 'url': 'https://data.phys.ucalgary.ca/sort_by_project/TREx/RGB/stream2/2020/02/01/rabb_rgb-05/ut00/20200201_00_rabb_rgb-05_full-montage.jpg'}\n"
     ]
    }
   ],
   "source": [
    "# let's see the first record\n",
    "#\n",
    "# remember - since this search was done with a response_format parameter, the\n",
    "# response is not a list of DataProductData objects, but is instead a list of\n",
    "# dictionaries\n",
    "pprint.pprint(s.data[0])"
   ]
  },
  {
   "cell_type": "code",
   "execution_count": null,
   "id": "8b24c0a3",
   "metadata": {},
   "outputs": [],
   "source": []
  }
 ],
 "metadata": {
  "kernelspec": {
   "display_name": "pyaurorax311",
   "language": "python",
   "name": "python3"
  },
  "language_info": {
   "codemirror_mode": {
    "name": "ipython",
    "version": 3
   },
   "file_extension": ".py",
   "mimetype": "text/x-python",
   "name": "python",
   "nbconvert_exporter": "python",
   "pygments_lexer": "ipython3",
   "version": "3.11.11"
  }
 },
 "nbformat": 4,
 "nbformat_minor": 5
}
