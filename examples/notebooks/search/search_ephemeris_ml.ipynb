{
 "cells": [
  {
   "cell_type": "markdown",
   "metadata": {},
   "source": [
    "# Imports"
   ]
  },
  {
   "cell_type": "code",
   "execution_count": 2,
   "metadata": {},
   "outputs": [],
   "source": [
    "import datetime\n",
    "import pprint\n",
    "import pyaurorax\n",
    "aurorax = pyaurorax.PyAuroraX()"
   ]
  },
  {
   "cell_type": "markdown",
   "metadata": {},
   "source": [
    "# Search for ephemeris records and filter on the Calgary APA model\n",
    "\n",
    "UCalgary has developed a machine learning model for identifying Amorphous Pulsating Aurora (APA) in the THEMIS all-sky imagers. This is a binary classification performed on a 10-minute basis, and included in all THEMIS ASI AuroraX search engine 'ephemeris' records as a metadata field.\n",
    "\n",
    "Metadata fields in AuroraX can be searched upon, allowing users to filter results based on them. Below, we're going to show an example of finding all 1-minute ephemeris records for any THEMIS ASI instrument where this particular model thinks there is APA in the field-of-view for that camera, over a 1 month period.\n",
    "\n",
    "More information about this model can be found [here](https://docs.aurorax.space/ml/models/ucalgary_apa/)."
   ]
  },
  {
   "cell_type": "code",
   "execution_count": 3,
   "metadata": {},
   "outputs": [
    {
     "name": "stdout",
     "output_type": "stream",
     "text": [
      "[2024-11-27 21:37:09.770337] Search object created\n",
      "[2024-11-27 21:37:09.806133] Request submitted\n",
      "[2024-11-27 21:37:09.806205] Request ID: cd9bcaf3-ab02-4cbe-a6f1-9b84121bd0f6\n",
      "[2024-11-27 21:37:09.806232] Request details available at: https://api.aurorax.space/api/v1/ephemeris/requests/cd9bcaf3-ab02-4cbe-a6f1-9b84121bd0f6\n",
      "[2024-11-27 21:37:09.806255] Waiting for data ...\n",
      "[2024-11-27 21:37:11.267888] Checking for data ...\n",
      "[2024-11-27 21:37:11.692583] Data is now available\n",
      "[2024-11-27 21:37:11.692789] Retrieving data ...\n",
      "[2024-11-27 21:37:13.679613] Retrieved 18.7 MB of data containing 5407 records\n"
     ]
    }
   ],
   "source": [
    "# set timeframe and program values\n",
    "start = datetime.datetime(2008, 1, 1, 0, 0, 0)\n",
    "end = datetime.datetime(2008, 1, 31, 23, 59, 59)\n",
    "programs = [\"themis-asi\"]\n",
    "\n",
    "# to filter based the ML model data, we need to perform the ephemeris\n",
    "# search using metadata filters. \n",
    "# \n",
    "# below, we're going to filter to only retrieve ephemeris data for when\n",
    "# the 'calgary_apa_ml_v1' field says 'classified as APA', and has a \n",
    "# confidence score greater than or equal to 95%.\n",
    "metadata_filters_logical_operator = \"AND\"\n",
    "metadata_filters = [\n",
    "          {\n",
    "            \"key\": \"calgary_apa_ml_v1\",     #\n",
    "            \"operator\": \"in\",               #   Here, we set up the metadata filter to retrieve\n",
    "            \"values\": [                     #   only records that were classified as APA....\n",
    "              \"classified as APA\"           #\n",
    "            ]\n",
    "          },\n",
    "          {\n",
    "            \"key\": \"calgary_apa_ml_v1_confidence\",\n",
    "            \"operator\": \">=\",                         # ... with a confidence of \n",
    "            \"values\": [                               # at least 95%\n",
    "              \"95\"\n",
    "            ]\n",
    "          }\n",
    "        ]\n",
    "\n",
    "# perform the search\n",
    "s = aurorax.search.ephemeris.search(\n",
    "    start=start,\n",
    "    end=end,\n",
    "    programs=programs,\n",
    "    metadata_filters_logical_operator=metadata_filters_logical_operator,\n",
    "    metadata_filters=metadata_filters,\n",
    "    verbose=True)"
   ]
  },
  {
   "cell_type": "code",
   "execution_count": null,
   "metadata": {},
   "outputs": [
    {
     "name": "stdout",
     "output_type": "stream",
     "text": [
      "[EphemerisData(epoch=datetime.datetime(2008, 1, 1, 11, 30), location_geo=Location(lat=61.755798, lon=-121.227005), location_gsm=Location(lat=None, lon=None), nbtrace=Location(lat=61.755798, lon=-121.227005), sbtrace=Location(lat=-64.7499007670771, lon=-172.0643415195183), metadata={'clausen_ml_oath': ...}, data_source=DataSource(...)),\n",
      " EphemerisData(epoch=datetime.datetime(2008, 1, 1, 11, 31), location_geo=Location(lat=61.755798, lon=-121.227005), location_gsm=Location(lat=None, lon=None), nbtrace=Location(lat=61.755798, lon=-121.227005), sbtrace=Location(lat=-64.74990082859775, lon=-172.06434121158588), metadata={'clausen_ml_oath': ...}, data_source=DataSource(...)),\n",
      " EphemerisData(epoch=datetime.datetime(2008, 1, 1, 11, 32), location_geo=Location(lat=61.755798, lon=-121.227005), location_gsm=Location(lat=None, lon=None), nbtrace=Location(lat=61.755798, lon=-121.227005), sbtrace=Location(lat=-64.74990089011834, lon=-172.06434090365335), metadata={'clausen_ml_oath': ...}, data_source=DataSource(...)),\n",
      " EphemerisData(epoch=datetime.datetime(2008, 1, 1, 11, 33), location_geo=Location(lat=61.755798, lon=-121.227005), location_gsm=Location(lat=None, lon=None), nbtrace=Location(lat=61.755798, lon=-121.227005), sbtrace=Location(lat=-64.749900951639, lon=-172.06434059572092), metadata={'clausen_ml_oath': ...}, data_source=DataSource(...)),\n",
      " EphemerisData(epoch=datetime.datetime(2008, 1, 1, 11, 34), location_geo=Location(lat=61.755798, lon=-121.227005), location_gsm=Location(lat=None, lon=None), nbtrace=Location(lat=61.755798, lon=-121.227005), sbtrace=Location(lat=-64.74990101315964, lon=-172.0643402877885), metadata={'clausen_ml_oath': ...}, data_source=DataSource(...)),\n",
      " EphemerisData(epoch=datetime.datetime(2008, 1, 1, 11, 35), location_geo=Location(lat=61.755798, lon=-121.227005), location_gsm=Location(lat=None, lon=None), nbtrace=Location(lat=61.755798, lon=-121.227005), sbtrace=Location(lat=-64.74990107468032, lon=-172.06433997985604), metadata={'clausen_ml_oath': ...}, data_source=DataSource(...)),\n",
      " EphemerisData(epoch=datetime.datetime(2008, 1, 1, 11, 36), location_geo=Location(lat=61.755798, lon=-121.227005), location_gsm=Location(lat=None, lon=None), nbtrace=Location(lat=61.755798, lon=-121.227005), sbtrace=Location(lat=-64.7499011362009, lon=-172.06433967192348), metadata={'clausen_ml_oath': ...}, data_source=DataSource(...)),\n",
      " EphemerisData(epoch=datetime.datetime(2008, 1, 1, 11, 37), location_geo=Location(lat=61.755798, lon=-121.227005), location_gsm=Location(lat=None, lon=None), nbtrace=Location(lat=61.755798, lon=-121.227005), sbtrace=Location(lat=-64.74990119772151, lon=-172.06433936399102), metadata={'clausen_ml_oath': ...}, data_source=DataSource(...)),\n",
      " EphemerisData(epoch=datetime.datetime(2008, 1, 1, 11, 38), location_geo=Location(lat=61.755798, lon=-121.227005), location_gsm=Location(lat=None, lon=None), nbtrace=Location(lat=61.755798, lon=-121.227005), sbtrace=Location(lat=-64.74990125924215, lon=-172.06433905605851), metadata={'clausen_ml_oath': ...}, data_source=DataSource(...)),\n",
      " EphemerisData(epoch=datetime.datetime(2008, 1, 1, 11, 39), location_geo=Location(lat=61.755798, lon=-121.227005), location_gsm=Location(lat=None, lon=None), nbtrace=Location(lat=61.755798, lon=-121.227005), sbtrace=Location(lat=-64.74990132076276, lon=-172.06433874812603), metadata={'clausen_ml_oath': ...}, data_source=DataSource(...))]\n"
     ]
    }
   ],
   "source": [
    "# Print the first 10 records\n",
    "pprint.pprint(s.data[0:10])"
   ]
  },
  {
   "cell_type": "code",
   "execution_count": 22,
   "metadata": {},
   "outputs": [
    {
     "name": "stdout",
     "output_type": "stream",
     "text": [
      "Timestamp                calgary_apa_ml_v1         confidence        \n",
      "====================================================================\n",
      "2008-01-01 01:11:00      classified as not APA     100.0              \n",
      "2008-01-01 01:19:00      classified as not APA     100.0              \n",
      "2008-01-01 01:20:00      classified as not APA     100.0              \n",
      "2008-01-01 01:22:00      classified as not APA     100.0              \n",
      "2008-01-01 01:25:00      classified as not APA     100.0              \n",
      "2008-01-01 01:26:00      classified as not APA     100.0              \n",
      "2008-01-01 01:27:00      classified as not APA     100.0              \n",
      "2008-01-01 01:28:00      classified as not APA     100.0              \n",
      "2008-01-01 01:29:00      classified as not APA     100.0              \n",
      "2008-01-01 01:30:00      classified as not APA     100.0              \n"
     ]
    }
   ],
   "source": [
    "# Let's print the results of the first 10 records as a table\n",
    "print(f\"{'Timestamp':<{25}}\"\n",
    "      f\"{'calgary_apa_ml_v1':<{25}} \"\n",
    "      f\"{'confidence':<{18}}\")\n",
    "print(\"====================================================================\")\n",
    "for i in range(10):\n",
    "    timestamp_str = s.data[i].epoch.strftime('%Y-%m-%d %H:%M:%S')\n",
    "    print(f\"{timestamp_str:<{25}}\"\n",
    "          f\"{s.data[i].metadata['calgary_apa_ml_v1']:<{23}} \"\n",
    "          f\"  {s.data[i].metadata['calgary_apa_ml_v1_confidence']:<{18}} \")"
   ]
  },
  {
   "cell_type": "markdown",
   "metadata": {},
   "source": [
    "# Search for ephemeris records and filter on the Calgary cloud model\n",
    "\n",
    "UCalgary has developed a machine learning model for identifying cloud in the THEMIS all-sky imagers. This is a binary classification performed on a 10-minute basis, and included in all THEMIS ASI AuroraX search engine 'ephemeris' records as a metadata field.\n",
    "\n",
    "Below, we're going to show an example of finding all 1-minute ephemeris records for any THEMIS ASI instrument where this particular model thinks there is cloud in the field-of-view at Gillam, over a 7 day period.\n",
    "\n",
    "More information about this model can be found [here](https://docs.aurorax.space/ml/models/ucalgary_cloud/)."
   ]
  },
  {
   "cell_type": "code",
   "execution_count": null,
   "metadata": {},
   "outputs": [
    {
     "name": "stdout",
     "output_type": "stream",
     "text": [
      "[2024-11-27 22:15:44.030167] Search object created\n",
      "[2024-11-27 22:15:44.059359] Request submitted\n",
      "[2024-11-27 22:15:44.059426] Request ID: 417610af-5ebf-40cb-a3f9-bdbeecfe96c2\n",
      "[2024-11-27 22:15:44.059453] Request details available at: https://api.aurorax.space/api/v1/ephemeris/requests/417610af-5ebf-40cb-a3f9-bdbeecfe96c2\n",
      "[2024-11-27 22:15:44.059476] Waiting for data ...\n",
      "[2024-11-27 22:15:45.530094] Checking for data ...\n",
      "[2024-11-27 22:15:45.953475] Data is now available\n",
      "[2024-11-27 22:15:45.953686] Retrieving data ...\n",
      "[2024-11-27 22:15:46.246634] Retrieved 2.1 MB of data containing 597 records\n"
     ]
    }
   ],
   "source": [
    "# set up search parameters\n",
    "start = datetime.datetime(2008, 1, 1, 0, 0, 0)\n",
    "end = datetime.datetime(2008, 1, 7, 23, 59, 59)\n",
    "programs = [\"themis-asi\"]\n",
    "platforms = [\"gillam\"]\n",
    "\n",
    "# we're going to filter to only retrieve ephemeris data for when\n",
    "# the 'calgary_cloud_ml_v1' field says 'classified as not cloudy', \n",
    "# and has a confidence score greater than or equal to 75%.\n",
    "metadata_filters_logical_operator = \"AND\"\n",
    "metadata_filters = [\n",
    "          {\n",
    "            \"key\": \"calgary_cloud_ml_v1\",\n",
    "            \"operator\": \"in\",\n",
    "            \"values\": [\n",
    "              \"classified as not cloudy\"\n",
    "            ]\n",
    "          },\n",
    "          {\n",
    "            \"key\": \"calgary_cloud_ml_v1_confidence\",\n",
    "            \"operator\": \">\",\n",
    "            \"values\": [\n",
    "              \"75\"\n",
    "            ]\n",
    "          }\n",
    "        ]\n",
    "\n",
    "# Perform the search\n",
    "s = aurorax.search.ephemeris.search(start=start,\n",
    "                                    end=end,\n",
    "                                    programs=programs,\n",
    "                                    platforms=platforms,\n",
    "                                    metadata_filters_logical_operator=metadata_filters_logical_operator,\n",
    "                                    metadata_filters=metadata_filters,\n",
    "                                    verbose=True)"
   ]
  },
  {
   "cell_type": "code",
   "execution_count": 17,
   "metadata": {},
   "outputs": [
    {
     "name": "stdout",
     "output_type": "stream",
     "text": [
      "Timestamp                Classification                 Confidence        \n",
      "====================================================================\n",
      "2008-01-01 01:11:00      classified as cloudy           79.45              \n",
      "2008-01-01 01:19:00      classified as cloudy           79.45              \n",
      "2008-01-01 01:20:00      classified as not cloudy       73.82              \n",
      "2008-01-01 01:22:00      classified as not cloudy       73.82              \n",
      "2008-01-01 01:25:00      classified as not cloudy       73.82              \n",
      "2008-01-01 01:26:00      classified as not cloudy       73.82              \n",
      "2008-01-01 01:27:00      classified as not cloudy       73.82              \n",
      "2008-01-01 01:28:00      classified as not cloudy       73.82              \n",
      "2008-01-01 01:29:00      classified as not cloudy       73.82              \n",
      "2008-01-01 01:30:00      classified as not cloudy       87.03              \n"
     ]
    }
   ],
   "source": [
    "# Again, print some results\n",
    "print(f\"{'Timestamp':<{25}}\"\n",
    "      f\"{'Classification':<{30}} \"\n",
    "      f\"{'Confidence':<{18}}\")\n",
    "print(\"====================================================================\")\n",
    "for i in range(10):\n",
    "    timestamp_str = s.data[i].epoch.strftime('%Y-%m-%d %H:%M:%S')\n",
    "    print(f\"{timestamp_str:<{25}}\"\n",
    "          f\"{s.data[i].metadata['calgary_cloud_ml_v1']:<{28}} \"\n",
    "          f\"  {s.data[i].metadata['calgary_cloud_ml_v1_confidence']:<{18}} \")"
   ]
  },
  {
   "cell_type": "markdown",
   "metadata": {},
   "source": [
    "# Search for ephemeris records and filter on the OATH model\n",
    "\n",
    "The OATH model was developed by [Clausen & Nickisch](https://doi.org/10.1029/2018JA025274), and has been run by the AuroraX team for all THEMIS ASI data in the AuroraX search engine. has developed a machine learning model for identifying cloud in the THEMIS all-sky imagers. \n",
    "\n",
    "- Paper: https://doi.org/10.1029/2018JA025274\n",
    "- More information: http://tid.uio.no/plasma/oath\n",
    "\n",
    "This paper has two versions of the model, one that is a binary classifier (aurora/no aurora), and one that is a 6-class classifier. AuroraX currently only contains metadata derived from the 6-class model.\n",
    "\n",
    "The OATH mode is a binary classification performed on a 10-minute basis, and included in all THEMIS ASI AuroraX search engine 'ephemeris' records as a metadata field.\n",
    "\n",
    "Below, we're going to show an example of finding all 1-minute ephemeris records for any THEMIS ASI instrument where the OATH model has classified the minute as diffuse or discrete aurora, over a 1 day period.\n",
    "\n",
    "More information about the AuroraX utilization of this model can be found [here](https://docs.aurorax.space/ml/models/clausen_oath/)."
   ]
  },
  {
   "cell_type": "code",
   "execution_count": 11,
   "metadata": {},
   "outputs": [
    {
     "name": "stdout",
     "output_type": "stream",
     "text": [
      "[2024-11-27 22:30:29.991861] Search object created\n",
      "[2024-11-27 22:30:30.016479] Request submitted\n",
      "[2024-11-27 22:30:30.016520] Request ID: 5c66820d-32c4-49e1-860c-4853cb799188\n",
      "[2024-11-27 22:30:30.016532] Request details available at: https://api.aurorax.space/api/v1/ephemeris/requests/5c66820d-32c4-49e1-860c-4853cb799188\n",
      "[2024-11-27 22:30:30.016566] Waiting for data ...\n",
      "[2024-11-27 22:30:31.444297] Checking for data ...\n",
      "[2024-11-27 22:30:31.863775] Data is now available\n",
      "[2024-11-27 22:30:31.863949] Retrieving data ...\n",
      "[2024-11-27 22:30:32.447506] Retrieved 5.3 MB of data containing 1532 records\n"
     ]
    }
   ],
   "source": [
    "# set up search parameters\n",
    "start = datetime.datetime(2008, 1, 1, 0, 0, 0)\n",
    "end = datetime.datetime(2008, 1, 1, 23, 59, 59)\n",
    "programs = [\"themis-asi\"]\n",
    "\n",
    "# we're going to filter to only retrieve ephemeris data for when\n",
    "# the 'clausen_ml_oath' field says 'classified as diffuse' or \n",
    "# 'classified as discrete'\n",
    "metadata_filters_logical_operator = \"AND\"\n",
    "metadata_filters = [\n",
    "          {\n",
    "            \"key\": \"clausen_ml_oath\",\n",
    "            \"operator\": \"in\",\n",
    "            \"values\": [\n",
    "              \"classified as diffuse\",\n",
    "              \"classified as discrete\",\n",
    "            ]\n",
    "          }\n",
    "        ]\n",
    "\n",
    "# Perform the search\n",
    "s = aurorax.search.ephemeris.search(start=start,\n",
    "                                    end=end,\n",
    "                                    programs=programs,\n",
    "                                    metadata_filters_logical_operator=metadata_filters_logical_operator,\n",
    "                                    metadata_filters=metadata_filters,\n",
    "                                    verbose=True)"
   ]
  },
  {
   "cell_type": "code",
   "execution_count": 14,
   "metadata": {},
   "outputs": [
    {
     "name": "stdout",
     "output_type": "stream",
     "text": [
      "Timestamp                Classification    \n",
      "=================================================\n",
      "2008-01-01 01:11:00      classified as discrete \n",
      "2008-01-01 01:19:00      classified as diffuse \n",
      "2008-01-01 01:20:00      classified as diffuse \n",
      "2008-01-01 01:22:00      classified as discrete \n",
      "2008-01-01 01:25:00      classified as diffuse \n",
      "2008-01-01 01:26:00      classified as diffuse \n",
      "2008-01-01 01:27:00      classified as diffuse \n",
      "2008-01-01 01:28:00      classified as diffuse \n",
      "2008-01-01 01:29:00      classified as diffuse \n",
      "2008-01-01 01:30:00      classified as diffuse \n"
     ]
    }
   ],
   "source": [
    "# Again, print some results\n",
    "print(f\"{'Timestamp':<{25}}\"\n",
    "      f\"{'Classification':<{18}}\")\n",
    "print(\"=================================================\")\n",
    "\n",
    "for i in range(10):\n",
    "    timestamp_str = s.data[i].epoch.strftime('%Y-%m-%d %H:%M:%S')\n",
    "    print(f\"{timestamp_str:<{23}}\"\n",
    "          f\"  {s.data[i].metadata['clausen_ml_oath']:<{18}} \")"
   ]
  },
  {
   "cell_type": "code",
   "execution_count": null,
   "metadata": {},
   "outputs": [],
   "source": []
  }
 ],
 "metadata": {
  "kernelspec": {
   "display_name": "pyaurorax39",
   "language": "python",
   "name": "python3"
  },
  "language_info": {
   "codemirror_mode": {
    "name": "ipython",
    "version": 3
   },
   "file_extension": ".py",
   "mimetype": "text/x-python",
   "name": "python",
   "nbconvert_exporter": "python",
   "pygments_lexer": "ipython3",
   "version": "3.9.19"
  }
 },
 "nbformat": 4,
 "nbformat_minor": 2
}
