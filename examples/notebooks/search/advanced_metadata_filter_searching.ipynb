{
 "cells": [
  {
   "cell_type": "code",
   "execution_count": 2,
   "id": "b1fcb6ed",
   "metadata": {},
   "outputs": [],
   "source": [
    "import datetime\n",
    "import pandas as pd\n",
    "import pprint\n",
    "import pyaurorax\n",
    "\n",
    "aurorax = pyaurorax.PyAuroraX()"
   ]
  },
  {
   "cell_type": "markdown",
   "id": "ebfc94e7",
   "metadata": {},
   "source": [
    "# Advanced metadata filter searching\n",
    "\n",
    "When interacting wit the AuroraX search engine, you can utilize metadata filtering capabilities to further hone your searches. In other example notebooks, we've seen already a few examples of this, such as limiting results when spacecrafts are in certain regions or when an ML model believes an ASI is not cloudy. In this example notebook, we'll explore a full range of metadata filter options available to you when constructing search requests.\n",
    "\n",
    "First up, a reminder. An important part of being able to utilize the metadata filters in the AuroraX search engine is knowing the available keys and values. Each data source record has an attribute named `ephemeris_metadata_schema` and `data_products_metadata_schema`. The 'ephemeris' schema is used for conjunction and ephemeris searching, and the 'data products' schema is used for data product searching."
   ]
  },
  {
   "cell_type": "code",
   "execution_count": 3,
   "id": "c2b6e0f8",
   "metadata": {},
   "outputs": [
    {
     "name": "stdout",
     "output_type": "stream",
     "text": [
      "Identifier   Program      Platform       Instrument Type    Source Type   Display Name   \n",
      "=========================================================================================\n",
      "3            swarm        swarma         footprint          leo           Swarm A        \n",
      "29           swarm        swarmb         footprint          leo           Swarm B        \n",
      "30           swarm        swarmc         footprint          leo           Swarm C        \n",
      "32           epop         epop           footprint          leo           ePOP           \n",
      "33           themis       themisa        footprint          heo           THEMIS-A       \n",
      "34           themis       themisb        footprint          heo           THEMIS-B       \n",
      "35           themis       themisc        footprint          heo           THEMIS-C       \n",
      "36           themis       themisd        footprint          heo           THEMIS-D       \n",
      "37           themis       themise        footprint          heo           THEMIS-E       \n",
      "38           arase        arase          footprint          heo           Arase          \n",
      "39           cluster      cluster1       footprint          heo           Cluster-1      \n",
      "44           themis-asi   athabasca      panchromatic ASI   ground        THEMIS-ASI ATHA\n",
      "45           themis-asi   fort simpson   panchromatic ASI   ground        THEMIS-ASI FSIM\n",
      "46           themis-asi   gillam         panchromatic ASI   ground        THEMIS-ASI GILL\n",
      "47           themis-asi   inuvik         panchromatic ASI   ground        THEMIS-ASI INUV\n",
      "48           themis-asi   kapuskasing    panchromatic ASI   ground        THEMIS-ASI KAPU\n",
      "49           themis-asi   kuujjuaq       panchromatic ASI   ground        THEMIS-ASI KUUJ\n",
      "50           themis-asi   pinawa         panchromatic ASI   ground        THEMIS-ASI PINA\n",
      "51           themis-asi   rankin inlet   panchromatic ASI   ground        THEMIS-ASI RANK\n",
      "52           themis-asi   sanikiluaq     panchromatic ASI   ground        THEMIS-ASI SNKQ\n"
     ]
    }
   ],
   "source": [
    "# The data sources are what we use for search queries. We list some below,\n",
    "# and in the following search queries in this notebook, we utilize this\n",
    "# information for the program, platform, instrument type fields.\n",
    "\n",
    "# let's list the first 10 data sources just to get us a table view of a few\n",
    "aurorax.search.sources.list_in_table(limit=20)\n",
    "\n",
    "# the below line gets all data sources, which we'll use later to explore the\n",
    "# available metadata filters\n",
    "sources = aurorax.search.sources.list()"
   ]
  },
  {
   "cell_type": "code",
   "execution_count": 4,
   "id": "357a3cce",
   "metadata": {},
   "outputs": [
    {
     "name": "stdout",
     "output_type": "stream",
     "text": [
      "swarm swarma footprint\n",
      "{'allowed_values': ['north polar cap',\n",
      "                    'north cusp',\n",
      "                    'north cleft',\n",
      "                    'north auroral oval',\n",
      "                    'north mid-latitude',\n",
      "                    'low latitude'],\n",
      " 'data_type': 'string',\n",
      " 'description': 'Region based on where the magnetic field line that passes '\n",
      "                \"through the spacecraft intersects the Earth's surface in the \"\n",
      "                \"Earth's northern magnetic hemisphere\",\n",
      " 'field_name': 'nbtrace_region',\n",
      " 'searchable': True}\n"
     ]
    }
   ],
   "source": [
    "# using the data source listing that we retrieved further above, let's\n",
    "# have a look at one of the records\n",
    "#\n",
    "# for the first data source, print only the first metadata filter info\n",
    "print(sources[0].program, sources[0].platform, sources[0].instrument_type)\n",
    "pprint.pprint(sources[0].ephemeris_metadata_schema[0])  # type: ignore"
   ]
  },
  {
   "cell_type": "markdown",
   "id": "d4109406",
   "metadata": {},
   "source": [
    "We see above, just one of the metadata filters we can use for the Swarm-A spacecraft. We'll leave it up to you from here to explore the additional filters for Swarm, and the available filters for any other data source. \n",
    "\n",
    "If you prefer to look at all the available metadata filters in a web browser instead, you can head on over to the [AuroraX Conjunction Search webpage](https://aurorax.space/conjunctionSearch/standard). Select your data source(s), and click on the '+' icon for metadata filters, and a modal will pop up. All metadata filters for the selected data sources are displayed in the modal.\n",
    "\n",
    "Now that we know a bit more about how the data sources come into play with the search engine, let's do a conjunction search with a simple metadata filter."
   ]
  },
  {
   "cell_type": "code",
   "execution_count": 5,
   "id": "88e07976",
   "metadata": {},
   "outputs": [
    {
     "name": "stdout",
     "output_type": "stream",
     "text": [
      "[2025-01-27 13:19:57.970188] Search object created\n",
      "[2025-01-27 13:19:58.013216] Request submitted\n",
      "[2025-01-27 13:19:58.013283] Request ID: 0722a3e6-2532-4411-a8ce-30d888d9155e\n",
      "[2025-01-27 13:19:58.013310] Request details available at: https://api.aurorax.space/api/v1/conjunctions/requests/0722a3e6-2532-4411-a8ce-30d888d9155e\n",
      "[2025-01-27 13:19:58.013333] Waiting for data ...\n",
      "[2025-01-27 13:19:59.539875] Checking for data ...\n",
      "[2025-01-27 13:19:59.960137] Data is now available\n",
      "[2025-01-27 13:19:59.960341] Retrieving data ...\n",
      "[2025-01-27 13:20:00.516462] Retrieved 902.8 kB of data containing 109 records\n"
     ]
    }
   ],
   "source": [
    "# search for conjunctions between any THEMIS-ASI instrument, and any Swarm\n",
    "# spacecraft where the north B-trace region is 'north polar cap'.\n",
    "#\n",
    "# NOTE: this region metadata is not derived by AuroraX, but instead by SSCWeb.\n",
    "# This is the same for several other metadata fields for spacecrafts.\n",
    "#\n",
    "# set timeframe and distance\n",
    "start = datetime.datetime(2019, 2, 1, 0, 0, 0)\n",
    "end = datetime.datetime(2019, 2, 10, 23, 59, 59)\n",
    "distance = 500\n",
    "\n",
    "# set ground criteria block\n",
    "ground = [aurorax.search.GroundCriteriaBlock(programs=[\"themis-asi\"])]\n",
    "\n",
    "# set space criteria block, with a metadata filter\n",
    "expression1 = aurorax.search.MetadataFilterExpression(key=\"nbtrace_region\", values=\"north polar cap\", operator=\"=\")\n",
    "metadata_filter = aurorax.search.MetadataFilter(expressions=[expression1])\n",
    "space = [aurorax.search.SpaceCriteriaBlock(programs=[\"swarm\"], metadata_filters=metadata_filter)]\n",
    "\n",
    "# perform search\n",
    "s = aurorax.search.conjunctions.search(start, end, distance, ground=ground, space=space, verbose=True)"
   ]
  },
  {
   "cell_type": "code",
   "execution_count": 6,
   "id": "e935eee8",
   "metadata": {},
   "outputs": [
    {
     "data": {
      "text/html": [
       "<div>\n",
       "<style scoped>\n",
       "    .dataframe tbody tr th:only-of-type {\n",
       "        vertical-align: middle;\n",
       "    }\n",
       "\n",
       "    .dataframe tbody tr th {\n",
       "        vertical-align: top;\n",
       "    }\n",
       "\n",
       "    .dataframe thead th {\n",
       "        text-align: right;\n",
       "    }\n",
       "</style>\n",
       "<table border=\"1\" class=\"dataframe\">\n",
       "  <thead>\n",
       "    <tr style=\"text-align: right;\">\n",
       "      <th></th>\n",
       "      <th>conjunction_type</th>\n",
       "      <th>start</th>\n",
       "      <th>end</th>\n",
       "      <th>data_sources</th>\n",
       "      <th>min_distance</th>\n",
       "      <th>max_distance</th>\n",
       "      <th>events</th>\n",
       "      <th>closest_epoch</th>\n",
       "      <th>farthest_epoch</th>\n",
       "    </tr>\n",
       "  </thead>\n",
       "  <tbody>\n",
       "    <tr>\n",
       "      <th>89</th>\n",
       "      <td>nbtrace</td>\n",
       "      <td>2019-02-01T02:20:00</td>\n",
       "      <td>2019-02-01T02:21:00</td>\n",
       "      <td>[DataSource(identifier=53, program='themis-asi...</td>\n",
       "      <td>153.987890</td>\n",
       "      <td>371.020379</td>\n",
       "      <td>[{'conjunction_type': 'nbtrace', 'e1_source': ...</td>\n",
       "      <td>2019-02-01T02:20:00</td>\n",
       "      <td>2019-02-01T02:21:00</td>\n",
       "    </tr>\n",
       "    <tr>\n",
       "      <th>100</th>\n",
       "      <td>nbtrace</td>\n",
       "      <td>2019-02-01T06:30:00</td>\n",
       "      <td>2019-02-01T06:31:00</td>\n",
       "      <td>[DataSource(identifier=53, program='themis-asi...</td>\n",
       "      <td>314.766800</td>\n",
       "      <td>382.560968</td>\n",
       "      <td>[{'conjunction_type': 'nbtrace', 'e1_source': ...</td>\n",
       "      <td>2019-02-01T06:30:00</td>\n",
       "      <td>2019-02-01T06:31:00</td>\n",
       "    </tr>\n",
       "    <tr>\n",
       "      <th>41</th>\n",
       "      <td>nbtrace</td>\n",
       "      <td>2019-02-01T06:30:00</td>\n",
       "      <td>2019-02-01T06:31:00</td>\n",
       "      <td>[DataSource(identifier=53, program='themis-asi...</td>\n",
       "      <td>385.245792</td>\n",
       "      <td>398.072324</td>\n",
       "      <td>[{'conjunction_type': 'nbtrace', 'e1_source': ...</td>\n",
       "      <td>2019-02-01T06:30:00</td>\n",
       "      <td>2019-02-01T06:31:00</td>\n",
       "    </tr>\n",
       "    <tr>\n",
       "      <th>33</th>\n",
       "      <td>nbtrace</td>\n",
       "      <td>2019-02-01T06:32:00</td>\n",
       "      <td>2019-02-01T06:32:00</td>\n",
       "      <td>[DataSource(identifier=51, program='themis-asi...</td>\n",
       "      <td>438.413051</td>\n",
       "      <td>438.413051</td>\n",
       "      <td>[{'conjunction_type': 'nbtrace', 'e1_source': ...</td>\n",
       "      <td>2019-02-01T06:32:00</td>\n",
       "      <td>2019-02-01T06:32:00</td>\n",
       "    </tr>\n",
       "    <tr>\n",
       "      <th>79</th>\n",
       "      <td>nbtrace</td>\n",
       "      <td>2019-02-01T06:32:00</td>\n",
       "      <td>2019-02-01T06:32:00</td>\n",
       "      <td>[DataSource(identifier=51, program='themis-asi...</td>\n",
       "      <td>358.971769</td>\n",
       "      <td>358.971769</td>\n",
       "      <td>[{'conjunction_type': 'nbtrace', 'e1_source': ...</td>\n",
       "      <td>2019-02-01T06:32:00</td>\n",
       "      <td>2019-02-01T06:32:00</td>\n",
       "    </tr>\n",
       "    <tr>\n",
       "      <th>6</th>\n",
       "      <td>nbtrace</td>\n",
       "      <td>2019-02-01T08:04:00</td>\n",
       "      <td>2019-02-01T08:04:00</td>\n",
       "      <td>[DataSource(identifier=47, program='themis-asi...</td>\n",
       "      <td>361.353685</td>\n",
       "      <td>361.353685</td>\n",
       "      <td>[{'conjunction_type': 'nbtrace', 'e1_source': ...</td>\n",
       "      <td>2019-02-01T08:04:00</td>\n",
       "      <td>2019-02-01T08:04:00</td>\n",
       "    </tr>\n",
       "    <tr>\n",
       "      <th>53</th>\n",
       "      <td>nbtrace</td>\n",
       "      <td>2019-02-01T08:04:00</td>\n",
       "      <td>2019-02-01T08:04:00</td>\n",
       "      <td>[DataSource(identifier=47, program='themis-asi...</td>\n",
       "      <td>424.929958</td>\n",
       "      <td>424.929958</td>\n",
       "      <td>[{'conjunction_type': 'nbtrace', 'e1_source': ...</td>\n",
       "      <td>2019-02-01T08:04:00</td>\n",
       "      <td>2019-02-01T08:04:00</td>\n",
       "    </tr>\n",
       "    <tr>\n",
       "      <th>81</th>\n",
       "      <td>nbtrace</td>\n",
       "      <td>2019-02-02T02:00:00</td>\n",
       "      <td>2019-02-02T02:01:00</td>\n",
       "      <td>[DataSource(identifier=53, program='themis-asi...</td>\n",
       "      <td>282.989015</td>\n",
       "      <td>435.935278</td>\n",
       "      <td>[{'conjunction_type': 'nbtrace', 'e1_source': ...</td>\n",
       "      <td>2019-02-02T02:01:00</td>\n",
       "      <td>2019-02-02T02:00:00</td>\n",
       "    </tr>\n",
       "    <tr>\n",
       "      <th>65</th>\n",
       "      <td>nbtrace</td>\n",
       "      <td>2019-02-02T02:00:00</td>\n",
       "      <td>2019-02-02T02:00:00</td>\n",
       "      <td>[DataSource(identifier=51, program='themis-asi...</td>\n",
       "      <td>466.658885</td>\n",
       "      <td>466.658885</td>\n",
       "      <td>[{'conjunction_type': 'nbtrace', 'e1_source': ...</td>\n",
       "      <td>2019-02-02T02:00:00</td>\n",
       "      <td>2019-02-02T02:00:00</td>\n",
       "    </tr>\n",
       "    <tr>\n",
       "      <th>103</th>\n",
       "      <td>nbtrace</td>\n",
       "      <td>2019-02-02T05:50:00</td>\n",
       "      <td>2019-02-02T05:51:00</td>\n",
       "      <td>[DataSource(identifier=53, program='themis-asi...</td>\n",
       "      <td>167.907825</td>\n",
       "      <td>266.571666</td>\n",
       "      <td>[{'conjunction_type': 'nbtrace', 'e1_source': ...</td>\n",
       "      <td>2019-02-02T05:51:00</td>\n",
       "      <td>2019-02-02T05:50:00</td>\n",
       "    </tr>\n",
       "  </tbody>\n",
       "</table>\n",
       "</div>"
      ],
      "text/plain": [
       "    conjunction_type                start                  end  \\\n",
       "89           nbtrace  2019-02-01T02:20:00  2019-02-01T02:21:00   \n",
       "100          nbtrace  2019-02-01T06:30:00  2019-02-01T06:31:00   \n",
       "41           nbtrace  2019-02-01T06:30:00  2019-02-01T06:31:00   \n",
       "33           nbtrace  2019-02-01T06:32:00  2019-02-01T06:32:00   \n",
       "79           nbtrace  2019-02-01T06:32:00  2019-02-01T06:32:00   \n",
       "6            nbtrace  2019-02-01T08:04:00  2019-02-01T08:04:00   \n",
       "53           nbtrace  2019-02-01T08:04:00  2019-02-01T08:04:00   \n",
       "81           nbtrace  2019-02-02T02:00:00  2019-02-02T02:01:00   \n",
       "65           nbtrace  2019-02-02T02:00:00  2019-02-02T02:00:00   \n",
       "103          nbtrace  2019-02-02T05:50:00  2019-02-02T05:51:00   \n",
       "\n",
       "                                          data_sources  min_distance  \\\n",
       "89   [DataSource(identifier=53, program='themis-asi...    153.987890   \n",
       "100  [DataSource(identifier=53, program='themis-asi...    314.766800   \n",
       "41   [DataSource(identifier=53, program='themis-asi...    385.245792   \n",
       "33   [DataSource(identifier=51, program='themis-asi...    438.413051   \n",
       "79   [DataSource(identifier=51, program='themis-asi...    358.971769   \n",
       "6    [DataSource(identifier=47, program='themis-asi...    361.353685   \n",
       "53   [DataSource(identifier=47, program='themis-asi...    424.929958   \n",
       "81   [DataSource(identifier=53, program='themis-asi...    282.989015   \n",
       "65   [DataSource(identifier=51, program='themis-asi...    466.658885   \n",
       "103  [DataSource(identifier=53, program='themis-asi...    167.907825   \n",
       "\n",
       "     max_distance                                             events  \\\n",
       "89     371.020379  [{'conjunction_type': 'nbtrace', 'e1_source': ...   \n",
       "100    382.560968  [{'conjunction_type': 'nbtrace', 'e1_source': ...   \n",
       "41     398.072324  [{'conjunction_type': 'nbtrace', 'e1_source': ...   \n",
       "33     438.413051  [{'conjunction_type': 'nbtrace', 'e1_source': ...   \n",
       "79     358.971769  [{'conjunction_type': 'nbtrace', 'e1_source': ...   \n",
       "6      361.353685  [{'conjunction_type': 'nbtrace', 'e1_source': ...   \n",
       "53     424.929958  [{'conjunction_type': 'nbtrace', 'e1_source': ...   \n",
       "81     435.935278  [{'conjunction_type': 'nbtrace', 'e1_source': ...   \n",
       "65     466.658885  [{'conjunction_type': 'nbtrace', 'e1_source': ...   \n",
       "103    266.571666  [{'conjunction_type': 'nbtrace', 'e1_source': ...   \n",
       "\n",
       "           closest_epoch       farthest_epoch  \n",
       "89   2019-02-01T02:20:00  2019-02-01T02:21:00  \n",
       "100  2019-02-01T06:30:00  2019-02-01T06:31:00  \n",
       "41   2019-02-01T06:30:00  2019-02-01T06:31:00  \n",
       "33   2019-02-01T06:32:00  2019-02-01T06:32:00  \n",
       "79   2019-02-01T06:32:00  2019-02-01T06:32:00  \n",
       "6    2019-02-01T08:04:00  2019-02-01T08:04:00  \n",
       "53   2019-02-01T08:04:00  2019-02-01T08:04:00  \n",
       "81   2019-02-02T02:01:00  2019-02-02T02:00:00  \n",
       "65   2019-02-02T02:00:00  2019-02-02T02:00:00  \n",
       "103  2019-02-02T05:51:00  2019-02-02T05:50:00  "
      ]
     },
     "execution_count": 6,
     "metadata": {},
     "output_type": "execute_result"
    }
   ],
   "source": [
    "# output data\n",
    "#\n",
    "# NOTE: while here we format the results into a Pandas dataframe, this\n",
    "# is not required. We actually don't include Pandas as a dependency since\n",
    "# it's used simply as a nice add-on to view data. If you're good with slicing\n",
    "# and dicing lists and dictionaries, you'll be fine without it.\n",
    "conjunctions = [c.__dict__ for c in s.data]\n",
    "df = pd.DataFrame(conjunctions)\n",
    "df.sort_values(\"start\")[0:10]"
   ]
  },
  {
   "cell_type": "markdown",
   "id": "8be08a3b",
   "metadata": {},
   "source": [
    "The available expression `operator` values are integrated into the library using type hints. VSCode and other editors that support autocomplete and linting for types will point out the possible choices quite easily. \n",
    "\n",
    "Here's the list of possible operators: `=`, `!=`, `>`, `<`, `>=`, `<=`, `between`, `in`, `not in`\n",
    "\n",
    "Later on in this notebook, we'll go through many of these operators."
   ]
  },
  {
   "cell_type": "markdown",
   "id": "8510bbad",
   "metadata": {},
   "source": [
    "# Single expression, multiple values\n",
    "\n",
    "You'll notice in the above example that we have set the metadata filter to be only one expression - if the spacecraft north B-field magnetic footprint is in the north polar cap. Let's adjust this example to still have only one expression, but make it so that the nbtrace_region can be multiple values."
   ]
  },
  {
   "cell_type": "code",
   "execution_count": 7,
   "id": "4bf62a96",
   "metadata": {},
   "outputs": [
    {
     "name": "stdout",
     "output_type": "stream",
     "text": [
      "[2025-01-27 13:27:33.366955] Search object created\n",
      "[2025-01-27 13:27:33.397910] Request submitted\n",
      "[2025-01-27 13:27:33.397957] Request ID: 067ff167-9931-4514-9fd6-5390c2ad795b\n",
      "[2025-01-27 13:27:33.397968] Request details available at: https://api.aurorax.space/api/v1/conjunctions/requests/067ff167-9931-4514-9fd6-5390c2ad795b\n",
      "[2025-01-27 13:27:33.397979] Waiting for data ...\n",
      "[2025-01-27 13:27:34.825736] Checking for data ...\n",
      "[2025-01-27 13:27:36.249177] Checking for data ...\n",
      "[2025-01-27 13:27:37.663061] Checking for data ...\n",
      "[2025-01-27 13:27:38.106492] Data is now available\n",
      "[2025-01-27 13:27:38.106697] Retrieving data ...\n",
      "[2025-01-27 13:27:39.173522] Retrieved 6.8 MB of data containing 820 records\n"
     ]
    }
   ],
   "source": [
    "# set timeframe and distance\n",
    "start = datetime.datetime(2019, 2, 1, 0, 0, 0)\n",
    "end = datetime.datetime(2019, 2, 10, 23, 59, 59)\n",
    "distance = 500\n",
    "\n",
    "# set ground criteria block\n",
    "ground = [aurorax.search.GroundCriteriaBlock(programs=[\"themis-asi\"])]\n",
    "\n",
    "# set space criteria block, with a metadata filter\n",
    "#\n",
    "# now let's do multiple values for a single key\n",
    "expression1 = aurorax.search.MetadataFilterExpression(key=\"nbtrace_region\", values=[\"north polar cap\", \"north auroral oval\"], operator=\"in\")\n",
    "metadata_filter = aurorax.search.MetadataFilter(expressions=[expression1])\n",
    "space = [aurorax.search.SpaceCriteriaBlock(programs=[\"swarm\"], metadata_filters=metadata_filter)]\n",
    "\n",
    "# perform search\n",
    "s = aurorax.search.conjunctions.search(start, end, distance, ground=ground, space=space, verbose=True)"
   ]
  },
  {
   "cell_type": "markdown",
   "id": "03312c37",
   "metadata": {},
   "source": [
    "Notice that the `values` parameter turned into a list, and the `operator` became 'in'. This is how we set an expression for multiple values. Each value is evaluated in the search engine as a logical OR; so this would find results where any Swarm spacecraft was either in the north polar cap OR in the north auroral oval. \n",
    "\n",
    "If we were to think back to the first example of an expression with a single value, the following way to write it would yield the same results.\n",
    "\n",
    "Method 1: `expression1 = aurorax.search.MetadataFilterExpression(key=\"nbtrace_region\", values=\"north polar cap\", operator=\"=\")`\n",
    "\n",
    "Method 2: `expression1 = aurorax.search.MetadataFilterExpression(key=\"nbtrace_region\", values=[\"north polar cap\"], operator=\"in\")`"
   ]
  },
  {
   "cell_type": "markdown",
   "id": "74274d63",
   "metadata": {},
   "source": [
    "# Multiple expressions\n",
    "\n",
    "Let's build off the above example to look at doing searches with multiple expressions. As mentioned above, when doing an expression with multiple values, the search engine evaluates each value using a logical OR. What if we wanted it to evaluate using a logical AND?\n",
    "\n",
    "We can achieve this using two expressions, each with a single value. The default `operator` for a `MetadataFilter` object (the parent object that expressions go into when creating a search object) is 'AND'. \n",
    "\n",
    "Let's adjust the above example to see how to do this."
   ]
  },
  {
   "cell_type": "code",
   "execution_count": 8,
   "id": "b3c10128",
   "metadata": {},
   "outputs": [
    {
     "name": "stdout",
     "output_type": "stream",
     "text": [
      "[2025-01-27 13:40:27.189376] Search object created\n",
      "[2025-01-27 13:40:27.220755] Request submitted\n",
      "[2025-01-27 13:40:27.220823] Request ID: 5177aba9-4a33-4a99-80df-9a015276c017\n",
      "[2025-01-27 13:40:27.220841] Request details available at: https://api.aurorax.space/api/v1/conjunctions/requests/5177aba9-4a33-4a99-80df-9a015276c017\n",
      "[2025-01-27 13:40:27.220855] Waiting for data ...\n",
      "[2025-01-27 13:40:28.669283] Checking for data ...\n",
      "[2025-01-27 13:40:29.097743] Data is now available\n",
      "[2025-01-27 13:40:29.097993] Retrieving data ...\n",
      "[2025-01-27 13:40:29.561111] Retrieved 5 Bytes of data containing 0 records\n"
     ]
    }
   ],
   "source": [
    "# set timeframe and distance\n",
    "start = datetime.datetime(2019, 2, 1, 0, 0, 0)\n",
    "end = datetime.datetime(2019, 2, 10, 23, 59, 59)\n",
    "distance = 500\n",
    "\n",
    "# set ground criteria block\n",
    "ground = [aurorax.search.GroundCriteriaBlock(programs=[\"themis-asi\"])]\n",
    "\n",
    "# set space criteria block, with a metadata filter\n",
    "#\n",
    "# now let's do multiple values for a single key\n",
    "expression1 = aurorax.search.MetadataFilterExpression(key=\"nbtrace_region\", values=[\"north polar cap\"], operator=\"in\")\n",
    "expression2 = aurorax.search.MetadataFilterExpression(key=\"nbtrace_region\", values=[\"north auroral oval\"], operator=\"in\")\n",
    "metadata_filter = aurorax.search.MetadataFilter(expressions=[expression1, expression2],\n",
    "                                                operator=\"and\")  # AND is the default; we specify it just to be explicit\n",
    "space = [aurorax.search.SpaceCriteriaBlock(programs=[\"swarm\"], metadata_filters=metadata_filter)]\n",
    "\n",
    "# perform search\n",
    "s = aurorax.search.conjunctions.search(start, end, distance, ground=ground, space=space, verbose=True)"
   ]
  },
  {
   "cell_type": "markdown",
   "id": "0abfa454",
   "metadata": {},
   "source": [
    "You'll notice that we found zero conjunctions! This is a 'duh' moment if we take a step back for a second...a spacecraft cannot be in both the north polar cap AND the north auroral oval at the same time!\n",
    "\n",
    "What if we tweak this to find conjunctions where Swarm was in the north auroral oval, and the TII instrument was collecting data? We have this instrument operating information only for Swarm right now, but maybe we'll have more in the future!"
   ]
  },
  {
   "cell_type": "code",
   "execution_count": 9,
   "id": "3071e2f6",
   "metadata": {},
   "outputs": [
    {
     "name": "stdout",
     "output_type": "stream",
     "text": [
      "[2025-01-27 13:44:35.141453] Search object created\n",
      "[2025-01-27 13:44:35.169594] Request submitted\n",
      "[2025-01-27 13:44:35.169651] Request ID: db0e9b29-db30-4778-b245-89f25785f369\n",
      "[2025-01-27 13:44:35.169665] Request details available at: https://api.aurorax.space/api/v1/conjunctions/requests/db0e9b29-db30-4778-b245-89f25785f369\n",
      "[2025-01-27 13:44:35.169678] Waiting for data ...\n",
      "[2025-01-27 13:44:36.592280] Checking for data ...\n",
      "[2025-01-27 13:44:37.012342] Data is now available\n",
      "[2025-01-27 13:44:37.012487] Retrieving data ...\n",
      "[2025-01-27 13:44:37.745755] Retrieved 3.3 MB of data containing 397 records\n"
     ]
    }
   ],
   "source": [
    "# set timeframe and distance\n",
    "start = datetime.datetime(2019, 2, 1, 0, 0, 0)\n",
    "end = datetime.datetime(2019, 2, 10, 23, 59, 59)\n",
    "distance = 500\n",
    "\n",
    "# set ground criteria block\n",
    "ground = [aurorax.search.GroundCriteriaBlock(programs=[\"themis-asi\"])]\n",
    "\n",
    "# set space criteria block, with a metadata filter\n",
    "#\n",
    "# now let's do multiple values for a single key\n",
    "expression1 = aurorax.search.MetadataFilterExpression(key=\"nbtrace_region\", values=\"north auroral oval\", operator=\"=\")\n",
    "expression2 = aurorax.search.MetadataFilterExpression(key=\"tii_on\", values=\"true\", operator=\"=\")\n",
    "metadata_filter = aurorax.search.MetadataFilter(expressions=[expression1, expression2], operator=\"and\")\n",
    "space = [aurorax.search.SpaceCriteriaBlock(programs=[\"swarm\"], metadata_filters=metadata_filter)]\n",
    "\n",
    "# perform search\n",
    "s = aurorax.search.conjunctions.search(start, end, distance, ground=ground, space=space, verbose=True)"
   ]
  },
  {
   "cell_type": "markdown",
   "id": "947ba2a1",
   "metadata": {},
   "source": [
    "Horray, we found some conjunctions!\n",
    "\n",
    "Remember with most conjunction searches, you can view the results directly in Swarm-Aurora using the `aurorax.search.conjunctions.swarmaurora.open_in_browser(s)` or `print(aurorax.search.conjunctions.swarmaurora.get_url(s))` lines of code. More info can be found in the conjunction searching notebook.\n"
   ]
  },
  {
   "cell_type": "markdown",
   "id": "b45d3115",
   "metadata": {},
   "source": [
    "# Exploring numerical expression values and operators\n",
    "\n",
    "For some metadata filter keys, the values are a numerical number. For example, the values for the `calgary_cloud_ml_v1` key are a string/list-of-strings, but the `calgary_cloud_ml_v1_confidence` key is a number between 0 and 100. To integrate these numerical keys into our expressions, we have a few different operators at our disposal: `=`, `!=`, `>`, `<`, `>=`, `<=`, and `between`.\n",
    "\n",
    "Let's have a look at a simple example using the `>=` operator. We're going to find conjunctions with Swarm where the UCalgary cloud ML model thinks any THEMIS ASI data is not cloudy and that classification has a confidence of >= 75%."
   ]
  },
  {
   "cell_type": "code",
   "execution_count": 3,
   "id": "7e2b3b45",
   "metadata": {},
   "outputs": [
    {
     "name": "stdout",
     "output_type": "stream",
     "text": [
      "[2025-01-27 14:01:43.573001] Search object created\n",
      "[2025-01-27 14:01:43.605433] Request submitted\n",
      "[2025-01-27 14:01:43.605468] Request ID: 23cba3db-9142-4030-b700-155584069734\n",
      "[2025-01-27 14:01:43.605478] Request details available at: https://api.aurorax.space/api/v1/conjunctions/requests/23cba3db-9142-4030-b700-155584069734\n",
      "[2025-01-27 14:01:43.605487] Waiting for data ...\n",
      "[2025-01-27 14:01:45.035903] Checking for data ...\n",
      "[2025-01-27 14:01:45.454915] Data is now available\n",
      "[2025-01-27 14:01:45.455092] Retrieving data ...\n",
      "[2025-01-27 14:01:46.068603] Retrieved 1.6 MB of data containing 193 records\n"
     ]
    }
   ],
   "source": [
    "# set timeframe, distance, and conjunction type\n",
    "start = datetime.datetime(2020, 1, 1, 0, 0, 0)\n",
    "end = datetime.datetime(2020, 1, 15, 23, 59, 59)\n",
    "distance = 500\n",
    "\n",
    "# set ground criteria block\n",
    "ground = [\n",
    "    aurorax.search.GroundCriteriaBlock(\n",
    "        programs=[\"themis-asi\"],\n",
    "        metadata_filters=aurorax.search.MetadataFilter(expressions=[\n",
    "            # only find records that were classified as not cloud\n",
    "            aurorax.search.MetadataFilterExpression(\"calgary_cloud_ml_v1\", \"classified as not cloudy\", operator=\"=\"),\n",
    "\n",
    "            # with a confidence of at least 75%\n",
    "            aurorax.search.MetadataFilterExpression(\"calgary_cloud_ml_v1_confidence\", 75, operator=\">=\")\n",
    "        ]))\n",
    "]\n",
    "\n",
    "# set space criteria block\n",
    "space = [aurorax.search.SpaceCriteriaBlock(programs=[\"swarm\"], hemisphere=[\"northern\"])]\n",
    "\n",
    "# perform the search\n",
    "s = aurorax.search.conjunctions.search(\n",
    "    start=start,\n",
    "    end=end,\n",
    "    distance=distance,\n",
    "    ground=ground,\n",
    "    space=space,\n",
    "    verbose=True,\n",
    ")"
   ]
  },
  {
   "cell_type": "markdown",
   "id": "8a2b8873",
   "metadata": {},
   "source": [
    "# Using the `between` operator\n",
    "\n",
    "The `between` operator is a special case, different from the rest when constructing an expression. This is because this operator requires that the values be a list, and only contain two elements.\n",
    "\n",
    "Let's have a look at an example similar to the one directly above. Instead of finding conjunctions where the ML model thinks the confidence is above a certain number, let's adjust that to be a confidence between two numbers.\n"
   ]
  },
  {
   "cell_type": "code",
   "execution_count": 5,
   "id": "f31b8b95",
   "metadata": {},
   "outputs": [
    {
     "name": "stdout",
     "output_type": "stream",
     "text": [
      "[2025-01-27 14:05:54.959859] Search object created\n",
      "[2025-01-27 14:05:54.990465] Request submitted\n",
      "[2025-01-27 14:05:54.990535] Request ID: e8b5eabd-e777-4765-aebd-f63866cfa9dd\n",
      "[2025-01-27 14:05:54.990563] Request details available at: https://api.aurorax.space/api/v1/conjunctions/requests/e8b5eabd-e777-4765-aebd-f63866cfa9dd\n",
      "[2025-01-27 14:05:54.990588] Waiting for data ...\n",
      "[2025-01-27 14:05:56.412971] Checking for data ...\n",
      "[2025-01-27 14:05:56.844238] Data is now available\n",
      "[2025-01-27 14:05:56.844398] Retrieving data ...\n",
      "[2025-01-27 14:05:57.340327] Retrieved 403.2 kB of data containing 48 records\n"
     ]
    }
   ],
   "source": [
    "# set timeframe, distance, and conjunction type\n",
    "start = datetime.datetime(2020, 1, 1, 0, 0, 0)\n",
    "end = datetime.datetime(2020, 1, 15, 23, 59, 59)\n",
    "distance = 500\n",
    "\n",
    "# set ground criteria block\n",
    "ground = [\n",
    "    aurorax.search.GroundCriteriaBlock(\n",
    "        programs=[\"themis-asi\"],\n",
    "        metadata_filters=aurorax.search.MetadataFilter(expressions=[\n",
    "            # only find records that were classified as not cloud\n",
    "            aurorax.search.MetadataFilterExpression(\"calgary_cloud_ml_v1\", \"classified as not cloudy\", operator=\"=\"),\n",
    "\n",
    "            # with a confidence of at least 75%\n",
    "            aurorax.search.MetadataFilterExpression(\"calgary_cloud_ml_v1_confidence\", [75, 90], operator=\"between\")\n",
    "        ]))\n",
    "]\n",
    "\n",
    "# set space criteria block\n",
    "space = [aurorax.search.SpaceCriteriaBlock(programs=[\"swarm\"], hemisphere=[\"northern\"])]\n",
    "\n",
    "# perform the search\n",
    "s = aurorax.search.conjunctions.search(\n",
    "    start=start,\n",
    "    end=end,\n",
    "    distance=distance,\n",
    "    ground=ground,\n",
    "    space=space,\n",
    "    verbose=True,\n",
    ")"
   ]
  },
  {
   "cell_type": "markdown",
   "id": "726954ab",
   "metadata": {},
   "source": [
    "# Ephemeris searching with metadata filters\n",
    "\n",
    "When doing ephemeris searches instead of conjunction searches like we have been in this notebook, there is no difference with the `metadata_filters` parameter. All queries share the same way of doing metadata filters, so you can easily port over the above examples to retrieve ephemeris records.\n",
    "\n",
    "For more examples, you can check out the [Perform ephemeris searches](https://github.com/aurorax-space/pyaurorax/tree/main/examples/notebooks/search/search_ephemeris.ipynb) and [Explore ML-enhanced conjunction and ephemeris searching](https://github.com/aurorax-space/pyaurorax/tree/main/examples/notebooks/search/search_ml_enhanced_searching.ipynb) example notebooks."
   ]
  },
  {
   "cell_type": "markdown",
   "id": "75a7bd7f",
   "metadata": {},
   "source": [
    "# Data product searching with metadata filters\n",
    "\n",
    "When doing data product searches, again there is no difference with the `metadata_filters` parameter. The only difference is the keys and values for data product metadata filtering will be different than the ones used in conjunction or ephemeris searches. The underlying data is different, and therefore has different filters that are available. \n",
    "\n",
    "For more examples, you can check out the [Perform data product searches](https://github.com/aurorax-space/pyaurorax/tree/main/examples/notebooks/search/search_data_products.ipynb) example notebook."
   ]
  }
 ],
 "metadata": {
  "kernelspec": {
   "display_name": "pyaurorax39",
   "language": "python",
   "name": "python3"
  },
  "language_info": {
   "codemirror_mode": {
    "name": "ipython",
    "version": 3
   },
   "file_extension": ".py",
   "mimetype": "text/x-python",
   "name": "python",
   "nbconvert_exporter": "python",
   "pygments_lexer": "ipython3",
   "version": "3.9.19"
  }
 },
 "nbformat": 4,
 "nbformat_minor": 5
}
