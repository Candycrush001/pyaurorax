{
 "cells": [
  {
   "cell_type": "markdown",
   "metadata": {},
   "source": [
    "# Imports"
   ]
  },
  {
   "cell_type": "code",
   "execution_count": 1,
   "metadata": {},
   "outputs": [],
   "source": [
    "import aurorax\n",
    "import datetime\n",
    "import pprint"
   ]
  },
  {
   "cell_type": "markdown",
   "metadata": {},
   "source": [
    "# Get availability for ephemeris data"
   ]
  },
  {
   "cell_type": "code",
   "execution_count": 2,
   "metadata": {},
   "outputs": [
    {
     "name": "stdout",
     "output_type": "stream",
     "text": [
      "Start Date:       2019-01-01\n",
      "End Date:         2019-01-10\n",
      "Program:          swarm\n",
      "Platform:         swarma\n",
      "Instrument Type:  ssc-web\n"
     ]
    }
   ],
   "source": [
    "# set parameters\n",
    "start_date = datetime.datetime(2019, 1, 1)\n",
    "end_date = datetime.date(2019, 1, 10)\n",
    "program = \"swarm\"\n",
    "platform = \"swarma\"\n",
    "instrument_type = \"ssc-web\"\n",
    "print(\"%-18s%s\" % (\"Start Date:\", start_date.strftime(\"%Y-%m-%d\")))\n",
    "print(\"%-18s%s\" % (\"End Date:\",end_date.strftime(\"%Y-%m-%d\")))\n",
    "print(\"%-18s%s\" % (\"Program:\", program))\n",
    "print(\"%-18s%s\" % (\"Platform:\", platform))\n",
    "print(\"%-18s%s\" % (\"Instrument Type:\", instrument_type))"
   ]
  },
  {
   "cell_type": "code",
   "execution_count": 3,
   "metadata": {},
   "outputs": [
    {
     "name": "stdout",
     "output_type": "stream",
     "text": [
      "[]\n"
     ]
    }
   ],
   "source": [
    "# get availability\n",
    "availability = aurorax.availability.ephemeris(start_date,\n",
    "                                              end_date,\n",
    "                                              program=program,\n",
    "                                              platform=platform,\n",
    "                                              instrument_type=instrument_type)\n",
    "pprint.pprint(availability)"
   ]
  },
  {
   "cell_type": "code",
   "execution_count": null,
   "metadata": {},
   "outputs": [],
   "source": []
  }
 ],
 "metadata": {
  "kernelspec": {
   "display_name": "Python 3",
   "language": "python",
   "name": "python3"
  },
  "language_info": {
   "codemirror_mode": {
    "name": "ipython",
    "version": 3
   },
   "file_extension": ".py",
   "mimetype": "text/x-python",
   "name": "python",
   "nbconvert_exporter": "python",
   "pygments_lexer": "ipython3",
   "version": "3.7.7"
  }
 },
 "nbformat": 4,
 "nbformat_minor": 4
}
