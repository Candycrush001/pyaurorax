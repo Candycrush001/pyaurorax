{
 "cells": [
  {
   "cell_type": "markdown",
   "metadata": {},
   "source": [
    "# Imports"
   ]
  },
  {
   "cell_type": "code",
   "execution_count": 1,
   "metadata": {},
   "outputs": [],
   "source": [
    "import aurorax\n",
    "import datetime\n",
    "import pprint\n",
    "import os\n",
    "import pandas as pd"
   ]
  },
  {
   "cell_type": "markdown",
   "metadata": {},
   "source": [
    "# Upload ephemeris data"
   ]
  },
  {
   "cell_type": "code",
   "execution_count": 3,
   "metadata": {},
   "outputs": [
    {
     "data": {
      "text/plain": [
       "0"
      ]
     },
     "execution_count": 3,
     "metadata": {},
     "output_type": "execute_result"
    }
   ],
   "source": [
    "# read API key from environment vars\n",
    "api_key = os.environ[\"AURORAX_API_KEY\"]\n",
    "aurorax.authenticate(api_key)"
   ]
  },
  {
   "cell_type": "code",
   "execution_count": 8,
   "metadata": {},
   "outputs": [],
   "source": [
    "# set values\n",
    "program = \"notebook-program\"\n",
    "platform = \"notebook-platform\"\n",
    "instrument_type = \"notebook-instrument-type\"\n",
    "metadata = {\n",
    "    \"test_meta1\": \"testing1\",\n",
    "    \"test_meta2\": \"testing2\",\n",
    "}\n",
    "epoch = datetime.datetime(2020, 1, 1, 0, 0)\n",
    "location_geo = aurorax.Location(lat=51.049999, lon=-114.066666)\n",
    "location_gsm = aurorax.Location(lat=150.25, lon=-10.75)\n",
    "nbtrace = aurorax.Location(lat=1.23, lon=45.6)\n",
    "sbtrace = aurorax.Location(lat=7.89, lon=101.23)"
   ]
  },
  {
   "cell_type": "code",
   "execution_count": 10,
   "metadata": {},
   "outputs": [
    {
     "ename": "AuroraXNotFoundException",
     "evalue": "data source not found",
     "output_type": "error",
     "traceback": [
      "\u001b[1;31m---------------------------------------------------------------------------\u001b[0m",
      "\u001b[1;31mAuroraXNotFoundException\u001b[0m                  Traceback (most recent call last)",
      "\u001b[1;32m<ipython-input-10-80faacd27e74>\u001b[0m in \u001b[0;36m<module>\u001b[1;34m\u001b[0m\n\u001b[0;32m      1\u001b[0m \u001b[1;31m# get the ephemeris source\u001b[0m\u001b[1;33m\u001b[0m\u001b[1;33m\u001b[0m\u001b[1;33m\u001b[0m\u001b[0m\n\u001b[1;32m----> 2\u001b[1;33m source = aurorax.sources.get(program,\n\u001b[0m\u001b[0;32m      3\u001b[0m                              \u001b[0mplatform\u001b[0m\u001b[1;33m,\u001b[0m\u001b[1;33m\u001b[0m\u001b[1;33m\u001b[0m\u001b[0m\n\u001b[0;32m      4\u001b[0m                              instrument_type)\n\u001b[0;32m      5\u001b[0m \u001b[0midentifier\u001b[0m \u001b[1;33m=\u001b[0m \u001b[0msource\u001b[0m\u001b[1;33m.\u001b[0m\u001b[0midentifier\u001b[0m\u001b[1;33m\u001b[0m\u001b[1;33m\u001b[0m\u001b[0m\n",
      "\u001b[1;32m~\\AppData\\Local\\Programs\\Python\\Python39\\lib\\site-packages\\aurorax\\sources\\_sources.py\u001b[0m in \u001b[0;36mget\u001b[1;34m(program, platform, instrument_type, format)\u001b[0m\n\u001b[0;32m    133\u001b[0m         \u001b[1;32mreturn\u001b[0m \u001b[0mDataSource\u001b[0m\u001b[1;33m(\u001b[0m\u001b[1;33m**\u001b[0m\u001b[0mres\u001b[0m\u001b[1;33m.\u001b[0m\u001b[0mdata\u001b[0m\u001b[1;33m)\u001b[0m\u001b[1;33m\u001b[0m\u001b[1;33m\u001b[0m\u001b[0m\n\u001b[0;32m    134\u001b[0m     \u001b[1;32melse\u001b[0m\u001b[1;33m:\u001b[0m\u001b[1;33m\u001b[0m\u001b[1;33m\u001b[0m\u001b[0m\n\u001b[1;32m--> 135\u001b[1;33m         \u001b[1;32mraise\u001b[0m \u001b[0maurorax\u001b[0m\u001b[1;33m.\u001b[0m\u001b[0mAuroraXNotFoundException\u001b[0m\u001b[1;33m(\u001b[0m\u001b[1;34m\"data source not found\"\u001b[0m\u001b[1;33m)\u001b[0m\u001b[1;33m\u001b[0m\u001b[1;33m\u001b[0m\u001b[0m\n\u001b[0m\u001b[0;32m    136\u001b[0m \u001b[1;33m\u001b[0m\u001b[0m\n\u001b[0;32m    137\u001b[0m \u001b[1;33m\u001b[0m\u001b[0m\n",
      "\u001b[1;31mAuroraXNotFoundException\u001b[0m: data source not found"
     ]
    }
   ],
   "source": [
    "# get the ephemeris source\n",
    "source = aurorax.sources.get(program,\n",
    "                             platform,\n",
    "                             instrument_type)\n",
    "identifier = source.identifier\n",
    "print(\"Identifier: %d\" % (identifier))"
   ]
  },
  {
   "cell_type": "code",
   "execution_count": 5,
   "metadata": {},
   "outputs": [
    {
     "name": "stdout",
     "output_type": "stream",
     "text": [
      "{'epoch': datetime.datetime(2020, 1, 1, 0, 0),\n",
      " 'identifier': 356,\n",
      " 'instrument_type': 'notebook-instrument-type',\n",
      " 'location_geo': Location(lat=51.049999, lon=-114.066666),\n",
      " 'location_gsm': Location(lat=150.250000, lon=-10.750000),\n",
      " 'metadata': {'test_meta1': 'testing1', 'test_meta2': 'testing2'},\n",
      " 'nbtrace': Location(lat=1.230000, lon=45.600000),\n",
      " 'platform': 'notebook-platform',\n",
      " 'program': 'notebook-program',\n",
      " 'sbtrace': Location(lat=7.890000, lon=101.230000)}\n"
     ]
    }
   ],
   "source": [
    "# create Ephemeris object\n",
    "e = aurorax.ephemeris.Ephemeris(data_source=source,\n",
    "                                epoch=epoch,\n",
    "                                location_geo=location_geo,\n",
    "                                location_gsm=location_gsm,\n",
    "                                nbtrace=nbtrace,\n",
    "                                sbtrace=sbtrace,\n",
    "                                metadata=metadata)\n",
    "pprint.pprint(e)"
   ]
  },
  {
   "cell_type": "code",
   "execution_count": 6,
   "metadata": {},
   "outputs": [],
   "source": [
    "# set records array\n",
    "#\n",
    "# we do this because you can upload multiple ephemeris records, so the \n",
    "# standard object being passed to the upload function is a list\n",
    "records = []\n",
    "records.append(e)"
   ]
  },
  {
   "cell_type": "code",
   "execution_count": 7,
   "metadata": {},
   "outputs": [],
   "source": [
    "# upload record\n",
    "try:\n",
    "    aurorax.ephemeris.upload(identifier, records=records)\n",
    "except aurorax.AuroraXException as e:\n",
    "    print(\"Error uploading: %s\" % (str(e)))"
   ]
  },
  {
   "cell_type": "markdown",
   "metadata": {},
   "source": [
    "# Check that the data was uploaded by retrieving it"
   ]
  },
  {
   "cell_type": "code",
   "execution_count": 9,
   "metadata": {},
   "outputs": [
    {
     "name": "stdout",
     "output_type": "stream",
     "text": [
      "[2020-11-22 19:55:32.417956] Search object created\n",
      "[2020-11-22 19:55:34.776592] Request submitted\n",
      "[2020-11-22 19:55:34.776749] Request ID: 136bc332-ae43-46ee-abdb-ba4f6033b773\n",
      "[2020-11-22 19:55:34.776819] Request details available at: http://api.staging.aurorax.space/api/v1/ephemeris/requests/136bc332-ae43-46ee-abdb-ba4f6033b773\n",
      "[2020-11-22 19:55:34.827212] Checking for data ...\n",
      "[2020-11-22 19:55:37.243106] Request has data available, retrieving it ...\n",
      "[2020-11-22 19:55:39.632446] Retrieved 2.1 kB of data containing 1 records, completed search request\n"
     ]
    }
   ],
   "source": [
    "# set values\n",
    "start_dt = epoch\n",
    "end_dt = epoch\n",
    "programs = [program]\n",
    "platforms = [platform]\n",
    "instrument_types = [instrument_type]\n",
    "\n",
    "# perform search\n",
    "s = aurorax.ephemeris.search(start_dt,\n",
    "                             end_dt,\n",
    "                             programs=programs,\n",
    "                             platforms=platforms,\n",
    "                             instrument_types=instrument_types)"
   ]
  },
  {
   "cell_type": "code",
   "execution_count": 10,
   "metadata": {},
   "outputs": [
    {
     "data": {
      "text/html": [
       "<div>\n",
       "<style scoped>\n",
       "    .dataframe tbody tr th:only-of-type {\n",
       "        vertical-align: middle;\n",
       "    }\n",
       "\n",
       "    .dataframe tbody tr th {\n",
       "        vertical-align: top;\n",
       "    }\n",
       "\n",
       "    .dataframe thead th {\n",
       "        text-align: right;\n",
       "    }\n",
       "</style>\n",
       "<table border=\"1\" class=\"dataframe\">\n",
       "  <thead>\n",
       "    <tr style=\"text-align: right;\">\n",
       "      <th></th>\n",
       "      <th>data_source</th>\n",
       "      <th>epoch</th>\n",
       "      <th>location_geo</th>\n",
       "      <th>location_gsm</th>\n",
       "      <th>nbtrace</th>\n",
       "      <th>sbtrace</th>\n",
       "      <th>metadata</th>\n",
       "    </tr>\n",
       "  </thead>\n",
       "  <tbody>\n",
       "    <tr>\n",
       "      <th>0</th>\n",
       "      <td>{'identifier': 356, 'program': 'notebook-progr...</td>\n",
       "      <td>2020-01-01</td>\n",
       "      <td>{'lat': 51.049999, 'lon': -114.066666}</td>\n",
       "      <td>{'lat': 29.75, 'lon': -10.75}</td>\n",
       "      <td>{'lat': 1.23, 'lon': 45.6}</td>\n",
       "      <td>{'lat': 7.89, 'lon': 101.23}</td>\n",
       "      <td>{'test_meta1': 'testing1', 'test_meta2': 'test...</td>\n",
       "    </tr>\n",
       "  </tbody>\n",
       "</table>\n",
       "</div>"
      ],
      "text/plain": [
       "                                         data_source      epoch  \\\n",
       "0  {'identifier': 356, 'program': 'notebook-progr... 2020-01-01   \n",
       "\n",
       "                             location_geo                   location_gsm  \\\n",
       "0  {'lat': 51.049999, 'lon': -114.066666}  {'lat': 29.75, 'lon': -10.75}   \n",
       "\n",
       "                      nbtrace                       sbtrace  \\\n",
       "0  {'lat': 1.23, 'lon': 45.6}  {'lat': 7.89, 'lon': 101.23}   \n",
       "\n",
       "                                            metadata  \n",
       "0  {'test_meta1': 'testing1', 'test_meta2': 'test...  "
      ]
     },
     "execution_count": 10,
     "metadata": {},
     "output_type": "execute_result"
    }
   ],
   "source": [
    "# show data as a pandas dataframe\n",
    "ephemeris_data = [e.__dict__ for e in s.data]\n",
    "df = pd.DataFrame(ephemeris_data)\n",
    "df"
   ]
  }
 ],
 "metadata": {
  "kernelspec": {
   "display_name": "Python 3",
   "language": "python",
   "name": "python3"
  },
  "language_info": {
   "codemirror_mode": {
    "name": "ipython",
    "version": 3
   },
   "file_extension": ".py",
   "mimetype": "text/x-python",
   "name": "python",
   "nbconvert_exporter": "python",
   "pygments_lexer": "ipython3",
   "version": "3.9.5"
  }
 },
 "nbformat": 4,
 "nbformat_minor": 4
}
