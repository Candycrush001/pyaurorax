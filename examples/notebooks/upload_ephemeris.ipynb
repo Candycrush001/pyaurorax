{
 "cells": [
  {
   "cell_type": "markdown",
   "metadata": {},
   "source": [
    "# Imports"
   ]
  },
  {
   "cell_type": "code",
   "execution_count": 1,
   "metadata": {},
   "outputs": [],
   "source": [
    "import aurorax\n",
    "import datetime\n",
    "import pprint\n",
    "import os\n",
    "import pandas as pd"
   ]
  },
  {
   "cell_type": "markdown",
   "metadata": {},
   "source": [
    "# Upload ephemeris data"
   ]
  },
  {
   "cell_type": "code",
   "execution_count": 2,
   "metadata": {},
   "outputs": [],
   "source": [
    "# read API key from environment vars\n",
    "api_key = os.environ[\"AURORAX_API_KEY\"]"
   ]
  },
  {
   "cell_type": "code",
   "execution_count": 3,
   "metadata": {},
   "outputs": [],
   "source": [
    "# set values\n",
    "program = \"notebook-program\"\n",
    "platform = \"notebook-platform\"\n",
    "instrument_type = \"notebook-instrument-type\"\n",
    "metadata = {\n",
    "    \"test_meta1\": \"testing1\",\n",
    "    \"test_meta2\": \"testing2\",\n",
    "}\n",
    "epoch = datetime.datetime(2020, 1, 1, 0, 0)\n",
    "location_geo = aurorax.Location(51.049999, -114.066666)\n",
    "location_gsm = aurorax.Location(150.25, -10.75)\n",
    "nbtrace = aurorax.Location(1.23, 45.6)\n",
    "sbtrace = aurorax.Location(7.89, 101.23)"
   ]
  },
  {
   "cell_type": "code",
   "execution_count": 4,
   "metadata": {},
   "outputs": [
    {
     "name": "stdout",
     "output_type": "stream",
     "text": [
      "Identifier: 356\n"
     ]
    }
   ],
   "source": [
    "# get the ephemeris source ID\n",
    "source = aurorax.sources.get_using_filters(program=[program],\n",
    "                                           platform=[platform],\n",
    "                                           instrument_type=[instrument_type])\n",
    "identifier = source[\"data\"][0][\"identifier\"]\n",
    "print(\"Identifier: %d\" % (identifier))"
   ]
  },
  {
   "cell_type": "code",
   "execution_count": 5,
   "metadata": {},
   "outputs": [
    {
     "name": "stdout",
     "output_type": "stream",
     "text": [
      "{'epoch': datetime.datetime(2020, 1, 1, 0, 0),\n",
      " 'identifier': 356,\n",
      " 'instrument_type': 'notebook-instrument-type',\n",
      " 'location_geo': Location(lat=51.049999, lon=-114.066666),\n",
      " 'location_gsm': Location(lat=150.250000, lon=-10.750000),\n",
      " 'metadata': {'test_meta1': 'testing1', 'test_meta2': 'testing2'},\n",
      " 'nbtrace': Location(lat=1.230000, lon=45.600000),\n",
      " 'platform': 'notebook-platform',\n",
      " 'program': 'notebook-program',\n",
      " 'sbtrace': Location(lat=7.890000, lon=101.230000)}\n"
     ]
    }
   ],
   "source": [
    "# create Ephemeris object\n",
    "e = aurorax.ephemeris.Ephemeris(identifier,\n",
    "                                program,\n",
    "                                platform,\n",
    "                                instrument_type,\n",
    "                                epoch,\n",
    "                                location_geo,\n",
    "                                location_gsm,\n",
    "                                nbtrace,\n",
    "                                sbtrace,\n",
    "                                metadata)\n",
    "pprint.pprint(e)"
   ]
  },
  {
   "cell_type": "code",
   "execution_count": 6,
   "metadata": {},
   "outputs": [],
   "source": [
    "# set records array\n",
    "#\n",
    "# we do this because you can upload multiple ephemeris records, so the \n",
    "# standard object being passed to the upload function is a list\n",
    "records = []\n",
    "records.append(e)"
   ]
  },
  {
   "cell_type": "code",
   "execution_count": 7,
   "metadata": {},
   "outputs": [],
   "source": [
    "# upload record\n",
    "res = aurorax.ephemeris.upload(api_key, identifier, records=records)"
   ]
  },
  {
   "cell_type": "code",
   "execution_count": 8,
   "metadata": {},
   "outputs": [
    {
     "name": "stdout",
     "output_type": "stream",
     "text": [
      "Successfully uploaded\n"
     ]
    }
   ],
   "source": [
    "# check the response to see if the upload succeeded\n",
    "if (res[\"status_code\"] == 202):\n",
    "    print(\"Successfully uploaded\")\n",
    "else:\n",
    "    print(\"Failed to upload\")\n",
    "    pprint.pprint(res)"
   ]
  },
  {
   "cell_type": "markdown",
   "metadata": {},
   "source": [
    "# Check that the data was uploaded by retrieving it"
   ]
  },
  {
   "cell_type": "code",
   "execution_count": 9,
   "metadata": {},
   "outputs": [
    {
     "name": "stdout",
     "output_type": "stream",
     "text": [
      "[2020-11-22 19:55:32.417956] Search object created\n",
      "[2020-11-22 19:55:34.776592] Request submitted\n",
      "[2020-11-22 19:55:34.776749] Request ID: 136bc332-ae43-46ee-abdb-ba4f6033b773\n",
      "[2020-11-22 19:55:34.776819] Request details available at: http://api.staging.aurorax.space/api/v1/ephemeris/requests/136bc332-ae43-46ee-abdb-ba4f6033b773\n",
      "[2020-11-22 19:55:34.827212] Checking for data ...\n",
      "[2020-11-22 19:55:37.243106] Request has data available, retrieving it ...\n",
      "[2020-11-22 19:55:39.632446] Retrieved 2.1 kB of data containing 1 records, completed search request\n"
     ]
    }
   ],
   "source": [
    "# set values\n",
    "start_dt = epoch\n",
    "end_dt = epoch\n",
    "programs = [program]\n",
    "platforms = [platform]\n",
    "instrument_types = [instrument_type]\n",
    "\n",
    "# perform search\n",
    "s = aurorax.ephemeris.search(start_dt,\n",
    "                             end_dt,\n",
    "                             programs=programs,\n",
    "                             platforms=platforms,\n",
    "                             instrument_types=instrument_types,\n",
    "                             show_progress=True)"
   ]
  },
  {
   "cell_type": "code",
   "execution_count": 10,
   "metadata": {},
   "outputs": [
    {
     "data": {
      "text/html": [
       "<div>\n",
       "<style scoped>\n",
       "    .dataframe tbody tr th:only-of-type {\n",
       "        vertical-align: middle;\n",
       "    }\n",
       "\n",
       "    .dataframe tbody tr th {\n",
       "        vertical-align: top;\n",
       "    }\n",
       "\n",
       "    .dataframe thead th {\n",
       "        text-align: right;\n",
       "    }\n",
       "</style>\n",
       "<table border=\"1\" class=\"dataframe\">\n",
       "  <thead>\n",
       "    <tr style=\"text-align: right;\">\n",
       "      <th></th>\n",
       "      <th>data_source</th>\n",
       "      <th>epoch</th>\n",
       "      <th>location_geo</th>\n",
       "      <th>location_gsm</th>\n",
       "      <th>nbtrace</th>\n",
       "      <th>sbtrace</th>\n",
       "      <th>metadata</th>\n",
       "    </tr>\n",
       "  </thead>\n",
       "  <tbody>\n",
       "    <tr>\n",
       "      <th>0</th>\n",
       "      <td>{'identifier': 356, 'program': 'notebook-progr...</td>\n",
       "      <td>2020-01-01</td>\n",
       "      <td>{'lat': 51.049999, 'lon': -114.066666}</td>\n",
       "      <td>{'lat': 29.75, 'lon': -10.75}</td>\n",
       "      <td>{'lat': 1.23, 'lon': 45.6}</td>\n",
       "      <td>{'lat': 7.89, 'lon': 101.23}</td>\n",
       "      <td>{'test_meta1': 'testing1', 'test_meta2': 'test...</td>\n",
       "    </tr>\n",
       "  </tbody>\n",
       "</table>\n",
       "</div>"
      ],
      "text/plain": [
       "                                         data_source      epoch  \\\n",
       "0  {'identifier': 356, 'program': 'notebook-progr... 2020-01-01   \n",
       "\n",
       "                             location_geo                   location_gsm  \\\n",
       "0  {'lat': 51.049999, 'lon': -114.066666}  {'lat': 29.75, 'lon': -10.75}   \n",
       "\n",
       "                      nbtrace                       sbtrace  \\\n",
       "0  {'lat': 1.23, 'lon': 45.6}  {'lat': 7.89, 'lon': 101.23}   \n",
       "\n",
       "                                            metadata  \n",
       "0  {'test_meta1': 'testing1', 'test_meta2': 'test...  "
      ]
     },
     "execution_count": 10,
     "metadata": {},
     "output_type": "execute_result"
    }
   ],
   "source": [
    "# show data as a pandas dataframe\n",
    "df = pd.DataFrame(s[\"data\"])\n",
    "df"
   ]
  }
 ],
 "metadata": {
  "kernelspec": {
   "display_name": "Python 3",
   "language": "python",
   "name": "python3"
  },
  "language_info": {
   "codemirror_mode": {
    "name": "ipython",
    "version": 3
   },
   "file_extension": ".py",
   "mimetype": "text/x-python",
   "name": "python",
   "nbconvert_exporter": "python",
   "pygments_lexer": "ipython3",
   "version": "3.8.5"
  }
 },
 "nbformat": 4,
 "nbformat_minor": 4
}
