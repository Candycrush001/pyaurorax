{
 "cells": [
  {
   "cell_type": "markdown",
   "metadata": {},
   "source": [
    "# Imports"
   ]
  },
  {
   "cell_type": "code",
   "execution_count": 1,
   "metadata": {},
   "outputs": [],
   "source": [
    "import aurorax\n",
    "import datetime\n",
    "import pprint\n",
    "import os\n",
    "import pandas as pd"
   ]
  },
  {
   "cell_type": "markdown",
   "metadata": {},
   "source": [
    "# Upload ephemeris data"
   ]
  },
  {
   "cell_type": "code",
   "execution_count": 2,
   "metadata": {},
   "outputs": [],
   "source": [
    "# read API key from environment vars\n",
    "api_key = os.environ[\"AURORAX_API_KEY\"]\n",
    "aurorax.authenticate(api_key)"
   ]
  },
  {
   "cell_type": "code",
   "execution_count": 3,
   "metadata": {},
   "outputs": [],
   "source": [
    "# set values\n",
    "program = \"notebook-program\"\n",
    "platform = \"notebook-platform\"\n",
    "instrument_type = \"notebook-instrument-type\"\n",
    "metadata = {\n",
    "    \"test_meta1\": \"testing1\",\n",
    "    \"test_meta2\": \"testing2\",\n",
    "}\n",
    "epoch = datetime.datetime(2020, 1, 1, 0, 0)\n",
    "location_geo = aurorax.Location(lat=51.049999, lon=-114.066666)\n",
    "location_gsm = aurorax.Location(lat=150.25, lon=-10.75)\n",
    "nbtrace = aurorax.Location(lat=1.23, lon=45.6)\n",
    "sbtrace = aurorax.Location(lat=7.89, lon=101.23)"
   ]
  },
  {
   "cell_type": "code",
   "execution_count": 4,
   "metadata": {},
   "outputs": [
    {
     "name": "stdout",
     "output_type": "stream",
     "text": [
      "Identifier: 186\n"
     ]
    }
   ],
   "source": [
    "# get the ephemeris source\n",
    "source = aurorax.sources.get(program,\n",
    "                             platform,\n",
    "                             instrument_type)\n",
    "identifier = source.identifier\n",
    "print(\"Identifier: %d\" % (identifier))"
   ]
  },
  {
   "cell_type": "code",
   "execution_count": 5,
   "metadata": {},
   "outputs": [
    {
     "name": "stdout",
     "output_type": "stream",
     "text": [
      "{'data_source': {'data_product_metadata_schema': [],\n",
      " 'display_name': 'Notebook Test Instrument',\n",
      " 'ephemeris_metadata_schema': [],\n",
      " 'identifier': 186,\n",
      " 'instrument_type': 'notebook-instrument-type',\n",
      " 'maintainers': [],\n",
      " 'metadata': {},\n",
      " 'owner': None,\n",
      " 'platform': 'notebook-platform',\n",
      " 'program': 'notebook-program',\n",
      " 'source_type': 'ground'},\n",
      " 'epoch': datetime.datetime(2020, 1, 1, 0, 0),\n",
      " 'location_geo': Location(lat=51.049999, lon=-114.066666),\n",
      " 'location_gsm': Location(lat=150.25, lon=-10.75),\n",
      " 'metadata': {'test_meta1': 'testing1', 'test_meta2': 'testing2'},\n",
      " 'nbtrace': Location(lat=1.23, lon=45.6),\n",
      " 'sbtrace': Location(lat=7.89, lon=101.23)}\n"
     ]
    }
   ],
   "source": [
    "# create Ephemeris object\n",
    "e = aurorax.ephemeris.Ephemeris(data_source=source,\n",
    "                                epoch=epoch,\n",
    "                                location_geo=location_geo,\n",
    "                                location_gsm=location_gsm,\n",
    "                                nbtrace=nbtrace,\n",
    "                                sbtrace=sbtrace,\n",
    "                                metadata=metadata)\n",
    "pprint.pprint(e)"
   ]
  },
  {
   "cell_type": "code",
   "execution_count": 6,
   "metadata": {},
   "outputs": [],
   "source": [
    "# set records array\n",
    "#\n",
    "# we do this because you can upload multiple ephemeris records, so the \n",
    "# standard object being passed to the upload function is a list\n",
    "records = []\n",
    "records.append(e)"
   ]
  },
  {
   "cell_type": "code",
   "execution_count": 7,
   "metadata": {},
   "outputs": [
    {
     "name": "stdout",
     "output_type": "stream",
     "text": [
      "Status code 202, stream accepted\n"
     ]
    }
   ],
   "source": [
    "# upload record\n",
    "try:\n",
    "    aurorax.ephemeris.upload(identifier, records=records)\n",
    "except aurorax.AuroraXException as e:\n",
    "    print(\"Error uploading: %s\" % (str(e)))"
   ]
  },
  {
   "cell_type": "markdown",
   "metadata": {},
   "source": [
    "# Check that the data was uploaded by retrieving it"
   ]
  },
  {
   "cell_type": "code",
   "execution_count": 8,
   "metadata": {},
   "outputs": [],
   "source": [
    "# set values\n",
    "start_dt = epoch\n",
    "end_dt = epoch\n",
    "programs = [program]\n",
    "platforms = [platform]\n",
    "instrument_types = [instrument_type]\n",
    "\n",
    "# perform search\n",
    "s = aurorax.ephemeris.search(start_dt,\n",
    "                             end_dt,\n",
    "                             programs=programs,\n",
    "                             platforms=platforms,\n",
    "                             instrument_types=instrument_types)"
   ]
  },
  {
   "cell_type": "code",
   "execution_count": 9,
   "metadata": {},
   "outputs": [
    {
     "data": {
      "text/html": [
       "<div>\n",
       "<style scoped>\n",
       "    .dataframe tbody tr th:only-of-type {\n",
       "        vertical-align: middle;\n",
       "    }\n",
       "\n",
       "    .dataframe tbody tr th {\n",
       "        vertical-align: top;\n",
       "    }\n",
       "\n",
       "    .dataframe thead th {\n",
       "        text-align: right;\n",
       "    }\n",
       "</style>\n",
       "<table border=\"1\" class=\"dataframe\">\n",
       "  <thead>\n",
       "    <tr style=\"text-align: right;\">\n",
       "      <th></th>\n",
       "      <th>data_source</th>\n",
       "      <th>epoch</th>\n",
       "      <th>location_geo</th>\n",
       "      <th>location_gsm</th>\n",
       "      <th>nbtrace</th>\n",
       "      <th>sbtrace</th>\n",
       "      <th>metadata</th>\n",
       "    </tr>\n",
       "  </thead>\n",
       "  <tbody>\n",
       "    <tr>\n",
       "      <th>0</th>\n",
       "      <td>{'data_product_metadata_schema': [],\\n 'displa...</td>\n",
       "      <td>2020-01-01</td>\n",
       "      <td>{'lat': 51.049999, 'lon': -114.066666}</td>\n",
       "      <td>{'lat': 29.75, 'lon': -10.75}</td>\n",
       "      <td>{'lat': 1.23, 'lon': 45.6}</td>\n",
       "      <td>{'lat': 7.89, 'lon': 101.23}</td>\n",
       "      <td>{'test_meta1': 'testing1', 'test_meta2': 'test...</td>\n",
       "    </tr>\n",
       "  </tbody>\n",
       "</table>\n",
       "</div>"
      ],
      "text/plain": [
       "                                         data_source      epoch  \\\n",
       "0  {'data_product_metadata_schema': [],\\n 'displa... 2020-01-01   \n",
       "\n",
       "                             location_geo                   location_gsm  \\\n",
       "0  {'lat': 51.049999, 'lon': -114.066666}  {'lat': 29.75, 'lon': -10.75}   \n",
       "\n",
       "                      nbtrace                       sbtrace  \\\n",
       "0  {'lat': 1.23, 'lon': 45.6}  {'lat': 7.89, 'lon': 101.23}   \n",
       "\n",
       "                                            metadata  \n",
       "0  {'test_meta1': 'testing1', 'test_meta2': 'test...  "
      ]
     },
     "execution_count": 9,
     "metadata": {},
     "output_type": "execute_result"
    }
   ],
   "source": [
    "# show data as a pandas dataframe\n",
    "ephemeris_data = [e.__dict__ for e in s.data]\n",
    "df = pd.DataFrame(ephemeris_data)\n",
    "df"
   ]
  }
 ],
 "metadata": {
  "kernelspec": {
   "display_name": "Python 3",
   "language": "python",
   "name": "python3"
  },
  "language_info": {
   "codemirror_mode": {
    "name": "ipython",
    "version": 3
   },
   "file_extension": ".py",
   "mimetype": "text/x-python",
   "name": "python",
   "nbconvert_exporter": "python",
   "pygments_lexer": "ipython3",
   "version": "3.9.5"
  }
 },
 "nbformat": 4,
 "nbformat_minor": 4
}
