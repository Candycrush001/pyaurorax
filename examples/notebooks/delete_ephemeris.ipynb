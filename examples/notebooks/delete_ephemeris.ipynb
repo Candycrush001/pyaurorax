{
 "cells": [
  {
   "cell_type": "markdown",
   "id": "ebe42f9f",
   "metadata": {},
   "source": [
    "# Imports"
   ]
  },
  {
   "cell_type": "code",
   "execution_count": 1,
   "id": "4b87b779",
   "metadata": {},
   "outputs": [],
   "source": [
    "import pyaurorax\n",
    "import datetime\n",
    "import os\n",
    "import pandas as pd\n"
   ]
  },
  {
   "cell_type": "markdown",
   "id": "cabc53f4",
   "metadata": {},
   "source": [
    "# Create ephemeris records to demonstrate deleting them"
   ]
  },
  {
   "cell_type": "code",
   "execution_count": 2,
   "id": "cc6cb23c",
   "metadata": {},
   "outputs": [],
   "source": [
    "# read API key from environment vars\n",
    "api_key = os.environ[\"AURORAX_API_KEY\"]\n",
    "pyaurorax.authenticate(api_key)\n"
   ]
  },
  {
   "cell_type": "code",
   "execution_count": 3,
   "id": "8acd7f66",
   "metadata": {},
   "outputs": [
    {
     "name": "stdout",
     "output_type": "stream",
     "text": [
      "Status code 202, stream accepted\n"
     ]
    },
    {
     "data": {
      "text/plain": [
       "1"
      ]
     },
     "execution_count": 3,
     "metadata": {},
     "output_type": "execute_result"
    }
   ],
   "source": [
    "# set values\n",
    "program = \"notebook-program\"\n",
    "platform = \"notebook-platform\"\n",
    "instrument_type = \"notebook-instrument-type\"\n",
    "metadata = {\n",
    "    \"test_meta1\": \"testing1\",\n",
    "    \"test_meta2\": \"testing2\",\n",
    "}\n",
    "epoch = datetime.datetime(2020, 1, 1, 0, 0)\n",
    "location_geo = pyaurorax.Location(lat=51.049999, lon=-114.066666)\n",
    "location_gsm = pyaurorax.Location(lat=150.25, lon=-10.75)\n",
    "nbtrace = pyaurorax.Location(lat=1.23, lon=45.6)\n",
    "sbtrace = pyaurorax.Location(lat=7.89, lon=101.23)\n",
    "\n",
    "# get the ephemeris source ID\n",
    "source = pyaurorax.sources.get(program, platform, instrument_type)\n",
    "\n",
    "# create Ephemeris objects\n",
    "e = pyaurorax.ephemeris.Ephemeris(data_source=source,\n",
    "                                epoch=epoch,\n",
    "                                location_geo=location_geo,\n",
    "                                location_gsm=location_gsm,\n",
    "                                nbtrace=nbtrace,\n",
    "                                sbtrace=sbtrace,\n",
    "                                metadata=metadata)\n",
    "\n",
    "epoch2 = datetime.datetime(2020, 1, 1, 0, 1)\n",
    "metadata2 = {\n",
    "    \"test_meta1\": \"testing12\",\n",
    "    \"test_meta2\": \"testing22\",\n",
    "}\n",
    "e2 = pyaurorax.ephemeris.Ephemeris(data_source=source,\n",
    "                                epoch=epoch2,\n",
    "                                location_geo=location_geo,\n",
    "                                location_gsm=location_gsm,\n",
    "                                nbtrace=nbtrace,\n",
    "                                sbtrace=sbtrace,\n",
    "                                metadata=metadata2)\n",
    "\n",
    "# set records array\n",
    "records = [e, e2]\n",
    "\n",
    "# upload records\n",
    "pyaurorax.ephemeris.upload(source.identifier, records, True)\n",
    "\n"
   ]
  },
  {
   "cell_type": "code",
   "execution_count": 4,
   "id": "244ba737",
   "metadata": {},
   "outputs": [
    {
     "data": {
      "text/html": [
       "<div>\n",
       "<style scoped>\n",
       "    .dataframe tbody tr th:only-of-type {\n",
       "        vertical-align: middle;\n",
       "    }\n",
       "\n",
       "    .dataframe tbody tr th {\n",
       "        vertical-align: top;\n",
       "    }\n",
       "\n",
       "    .dataframe thead th {\n",
       "        text-align: right;\n",
       "    }\n",
       "</style>\n",
       "<table border=\"1\" class=\"dataframe\">\n",
       "  <thead>\n",
       "    <tr style=\"text-align: right;\">\n",
       "      <th></th>\n",
       "      <th>data_source</th>\n",
       "      <th>epoch</th>\n",
       "      <th>location_geo</th>\n",
       "      <th>location_gsm</th>\n",
       "      <th>nbtrace</th>\n",
       "      <th>sbtrace</th>\n",
       "      <th>metadata</th>\n",
       "    </tr>\n",
       "  </thead>\n",
       "  <tbody>\n",
       "    <tr>\n",
       "      <th>0</th>\n",
       "      <td>{'data_product_metadata_schema': [],\\n 'displa...</td>\n",
       "      <td>2020-01-01 00:00:00</td>\n",
       "      <td>{'lat': 51.049999, 'lon': -114.066666}</td>\n",
       "      <td>{'lat': 29.75, 'lon': -10.75}</td>\n",
       "      <td>{'lat': 1.23, 'lon': 45.6}</td>\n",
       "      <td>{'lat': 7.89, 'lon': 101.23}</td>\n",
       "      <td>{'test_meta1': 'testing1', 'test_meta2': 'test...</td>\n",
       "    </tr>\n",
       "    <tr>\n",
       "      <th>1</th>\n",
       "      <td>{'data_product_metadata_schema': [],\\n 'displa...</td>\n",
       "      <td>2020-01-01 00:01:00</td>\n",
       "      <td>{'lat': 51.049999, 'lon': -114.066666}</td>\n",
       "      <td>{'lat': 29.75, 'lon': -10.75}</td>\n",
       "      <td>{'lat': 1.23, 'lon': 45.6}</td>\n",
       "      <td>{'lat': 7.89, 'lon': 101.23}</td>\n",
       "      <td>{'test_meta1': 'testing12', 'test_meta2': 'tes...</td>\n",
       "    </tr>\n",
       "  </tbody>\n",
       "</table>\n",
       "</div>"
      ],
      "text/plain": [
       "                                         data_source               epoch  \\\n",
       "0  {'data_product_metadata_schema': [],\\n 'displa... 2020-01-01 00:00:00   \n",
       "1  {'data_product_metadata_schema': [],\\n 'displa... 2020-01-01 00:01:00   \n",
       "\n",
       "                             location_geo                   location_gsm  \\\n",
       "0  {'lat': 51.049999, 'lon': -114.066666}  {'lat': 29.75, 'lon': -10.75}   \n",
       "1  {'lat': 51.049999, 'lon': -114.066666}  {'lat': 29.75, 'lon': -10.75}   \n",
       "\n",
       "                      nbtrace                       sbtrace  \\\n",
       "0  {'lat': 1.23, 'lon': 45.6}  {'lat': 7.89, 'lon': 101.23}   \n",
       "1  {'lat': 1.23, 'lon': 45.6}  {'lat': 7.89, 'lon': 101.23}   \n",
       "\n",
       "                                            metadata  \n",
       "0  {'test_meta1': 'testing1', 'test_meta2': 'test...  \n",
       "1  {'test_meta1': 'testing12', 'test_meta2': 'tes...  "
      ]
     },
     "execution_count": 4,
     "metadata": {},
     "output_type": "execute_result"
    }
   ],
   "source": [
    "# retrieve uploaded record\n",
    "s = pyaurorax.ephemeris.search(datetime.datetime(2020, 1, 1, 0, 0, 0),\n",
    "                             datetime.datetime(2020, 1, 1, 23, 59, 59),\n",
    "                             programs=[\"notebook-program\"],\n",
    "                             platforms=[\"notebook-platform\"],\n",
    "                             instrument_types=[\"notebook-instrument-type\"])\n",
    "\n",
    "# show data as a pandas dataframe\n",
    "ephemeris_data = [e.__dict__ for e in s.data]\n",
    "df = pd.DataFrame(ephemeris_data)\n",
    "df\n"
   ]
  },
  {
   "cell_type": "markdown",
   "id": "5e2664ee",
   "metadata": {},
   "source": [
    "# Delete ephemeris records"
   ]
  },
  {
   "cell_type": "code",
   "execution_count": 5,
   "id": "f0bf2c18",
   "metadata": {},
   "outputs": [],
   "source": [
    "# delete records\n",
    "pyaurorax.ephemeris.delete(source, datetime.datetime(\n",
    "    2020, 1, 1, 0, 0, 0), datetime.datetime(2020, 1, 1, 23, 59, 59))\n"
   ]
  },
  {
   "cell_type": "code",
   "execution_count": 6,
   "id": "6d36908a",
   "metadata": {},
   "outputs": [
    {
     "name": "stdout",
     "output_type": "stream",
     "text": [
      "Data was deleted\n"
     ]
    }
   ],
   "source": [
    "# search ephemeris again to see that they were deleted\n",
    "s = pyaurorax.ephemeris.search(datetime.datetime(2020, 1, 1, 0, 0, 0),\n",
    "                             datetime.datetime(2020, 1, 1, 23, 59, 59),\n",
    "                             programs=[\"notebook-program\"],\n",
    "                             platforms=[\"notebook-platform\"],\n",
    "                             instrument_types=[\"notebook-instrument-type\"])\n",
    "\n",
    "if len(s.data) == 0:\n",
    "    print(\"Data was deleted\")\n",
    "else:\n",
    "    print(\"Data was not deleted\")\n"
   ]
  },
  {
   "cell_type": "code",
   "execution_count": null,
   "id": "6faa795a",
   "metadata": {},
   "outputs": [],
   "source": []
  }
 ],
 "metadata": {
  "kernelspec": {
   "display_name": "Python 3",
   "language": "python",
   "name": "python3"
  },
  "language_info": {
   "codemirror_mode": {
    "name": "ipython",
    "version": 3
   },
   "file_extension": ".py",
   "mimetype": "text/x-python",
   "name": "python",
   "nbconvert_exporter": "python",
   "pygments_lexer": "ipython3",
   "version": "3.9.5"
  }
 },
 "nbformat": 4,
 "nbformat_minor": 5
}
