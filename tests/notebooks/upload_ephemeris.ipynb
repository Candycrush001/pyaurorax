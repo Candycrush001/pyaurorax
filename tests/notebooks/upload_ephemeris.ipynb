{
 "cells": [
  {
   "cell_type": "markdown",
   "metadata": {},
   "source": [
    "# Imports"
   ]
  },
  {
   "cell_type": "code",
   "execution_count": 1,
   "metadata": {},
   "outputs": [],
   "source": [
    "import aurorax\n",
    "import os\n",
    "import datetime\n",
    "import pprint"
   ]
  },
  {
   "cell_type": "markdown",
   "metadata": {},
   "source": [
    "# Set upload parameters and data"
   ]
  },
  {
   "cell_type": "code",
   "execution_count": 2,
   "metadata": {},
   "outputs": [
    {
     "name": "stdout",
     "output_type": "stream",
     "text": [
      "ff179c25-962f-4cc8-b77d-bf16768c0991:c2c008f9-c50f-445c-a459-982606e0b1b1\n"
     ]
    }
   ],
   "source": [
    "# read API key from environment vars\n",
    "api_key = os.environ[\"AURORAX_API_KEY\"]\n",
    "print(api_key)"
   ]
  },
  {
   "cell_type": "code",
   "execution_count": 3,
   "metadata": {},
   "outputs": [],
   "source": [
    "# set values\n",
    "program = \"test-program\"\n",
    "platform = \"test-platform\"\n",
    "instrument_type = \"test-instrument-type\"\n",
    "metadata = {\n",
    "    \"test_meta1\": \"testing1\",\n",
    "    \"test_meta2\": \"testing2\",\n",
    "}\n",
    "epoch = datetime.datetime(2020, 1, 1, 0, 0)\n",
    "location_geo = aurorax.Location(51.049999, -114.066666)\n",
    "location_gsm = aurorax.Location(150.25, -10.75)\n",
    "nbtrace = aurorax.Location(1.23, 45.6)\n",
    "sbtrace = aurorax.Location(7.89, 101.23)"
   ]
  },
  {
   "cell_type": "code",
   "execution_count": 4,
   "metadata": {},
   "outputs": [
    {
     "name": "stdout",
     "output_type": "stream",
     "text": [
      "{'data': [{'identifier': 400,\n",
      "           'instrument_type': 'test-instrument-type',\n",
      "           'platform': 'test-platform',\n",
      "           'program': 'test-program',\n",
      "           'source_type': 'ground'}],\n",
      " 'status_code': 200}\n",
      "\n",
      "Identifier: 400\n"
     ]
    }
   ],
   "source": [
    "# get the ephemeris source ID\n",
    "source = aurorax.sources.get_using_filters(program=[program],\n",
    "                                           platform=[platform],\n",
    "                                           instrument_type=[instrument_type])\n",
    "identifier = source[\"data\"][0][\"identifier\"]\n",
    "pprint.pprint(source)\n",
    "print(\"\\nIdentifier: %d\" % (identifier))"
   ]
  },
  {
   "cell_type": "code",
   "execution_count": 5,
   "metadata": {},
   "outputs": [
    {
     "name": "stdout",
     "output_type": "stream",
     "text": [
      "{'epoch': datetime.datetime(2020, 1, 1, 0, 0),\n",
      " 'identifier': 400,\n",
      " 'instrument_type': 'test-instrument-type',\n",
      " 'location_geo': Location(lat=51.049999, lon=-114.066666),\n",
      " 'location_gsm': Location(lat=150.250000, lon=-10.750000),\n",
      " 'metadata': {'test_meta1': 'testing1', 'test_meta2': 'testing2'},\n",
      " 'nbtrace': Location(lat=1.230000, lon=45.600000),\n",
      " 'platform': 'test-platform',\n",
      " 'program': 'test-program',\n",
      " 'sbtrace': Location(lat=7.890000, lon=101.230000)}\n"
     ]
    }
   ],
   "source": [
    "# create Ephemeris object\n",
    "e = aurorax.ephemeris.Ephemeris(identifier,\n",
    "                                program,\n",
    "                                platform,\n",
    "                                instrument_type,\n",
    "                                epoch,\n",
    "                                location_geo,\n",
    "                                location_gsm,\n",
    "                                nbtrace,\n",
    "                                sbtrace,\n",
    "                                metadata)\n",
    "pprint.pprint(e)"
   ]
  },
  {
   "cell_type": "markdown",
   "metadata": {},
   "source": [
    "# Upload data"
   ]
  },
  {
   "cell_type": "code",
   "execution_count": 6,
   "metadata": {},
   "outputs": [],
   "source": [
    "# set records array\n",
    "records = []\n",
    "records.append(e)\n",
    "\n",
    "# upload record\n",
    "res = aurorax.ephemeris.upload(api_key, identifier, records=records)"
   ]
  },
  {
   "cell_type": "code",
   "execution_count": 7,
   "metadata": {},
   "outputs": [
    {
     "name": "stdout",
     "output_type": "stream",
     "text": [
      "{'data': {}, 'status_code': 202}\n"
     ]
    }
   ],
   "source": [
    "pprint.pprint(res)"
   ]
  },
  {
   "cell_type": "code",
   "execution_count": null,
   "metadata": {},
   "outputs": [],
   "source": []
  }
 ],
 "metadata": {
  "kernelspec": {
   "display_name": "Python 3",
   "language": "python",
   "name": "python3"
  },
  "language_info": {
   "codemirror_mode": {
    "name": "ipython",
    "version": 3
   },
   "file_extension": ".py",
   "mimetype": "text/x-python",
   "name": "python",
   "nbconvert_exporter": "python",
   "pygments_lexer": "ipython3",
   "version": "3.8.5"
  }
 },
 "nbformat": 4,
 "nbformat_minor": 4
}
